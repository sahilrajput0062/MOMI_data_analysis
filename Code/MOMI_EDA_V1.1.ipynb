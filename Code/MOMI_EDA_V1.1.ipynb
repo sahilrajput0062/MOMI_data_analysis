{
 "cells": [
  {
   "cell_type": "markdown",
   "metadata": {},
   "source": [
    "# MOMI Data Analysis"
   ]
  },
  {
   "cell_type": "markdown",
   "metadata": {},
   "source": [
    "## EDA"
   ]
  },
  {
   "cell_type": "markdown",
   "metadata": {},
   "source": [
    "### Loading Required Libraries"
   ]
  },
  {
   "cell_type": "code",
   "execution_count": 68,
   "metadata": {
    "vscode": {
     "languageId": "r"
    }
   },
   "outputs": [],
   "source": [
    "# Load required packages\n",
    "library(readxl)\n",
    "library(dplyr)\n",
    "library(tidyr)\n",
    "library(ggplot2)\n",
    "library(tibble)\n",
    "#library(skimr)\n",
    "library(patchwork)\n",
    "library(gtsummary)"
   ]
  },
  {
   "cell_type": "markdown",
   "metadata": {},
   "source": [
    "### Importing MOMI Data"
   ]
  },
  {
   "cell_type": "markdown",
   "metadata": {},
   "source": [
    "#### 1. Sample Maternal Data"
   ]
  },
  {
   "cell_type": "code",
   "execution_count": 69,
   "metadata": {
    "vscode": {
     "languageId": "r"
    }
   },
   "outputs": [
    {
     "data": {
      "text/html": [
       "<table class=\"dataframe\">\n",
       "<caption>A tibble: 6 × 11</caption>\n",
       "<thead>\n",
       "\t<tr><th scope=col>sample_id</th><th scope=col>orig_id</th><th scope=col>site</th><th scope=col>GA_weeks</th><th scope=col>molecule</th><th scope=col>sb_case</th><th scope=col>non_case</th><th scope=col>healthy_control</th><th scope=col>intensity_filled</th><th scope=col>intensity_fill_log</th><th scope=col>intensity_fill_log_scaled</th></tr>\n",
       "\t<tr><th scope=col>&lt;chr&gt;</th><th scope=col>&lt;chr&gt;</th><th scope=col>&lt;chr&gt;</th><th scope=col>&lt;int&gt;</th><th scope=col>&lt;chr&gt;</th><th scope=col>&lt;lgl&gt;</th><th scope=col>&lt;lgl&gt;</th><th scope=col>&lt;lgl&gt;</th><th scope=col>&lt;dbl&gt;</th><th scope=col>&lt;dbl&gt;</th><th scope=col>&lt;dbl&gt;</th></tr>\n",
       "</thead>\n",
       "<tbody>\n",
       "\t<tr><td>11BA0000104</td><td>68368</td><td>AMANHIB</td><td>26</td><td>allopregnanolone sulfate/pregnanolone sulfate</td><td>FALSE</td><td>TRUE</td><td> TRUE</td><td>16668.36</td><td>14.02482</td><td> 0.6855495</td></tr>\n",
       "\t<tr><td>11BA0000201</td><td>92320</td><td>AMANHIB</td><td>35</td><td>allopregnanolone sulfate/pregnanolone sulfate</td><td>FALSE</td><td>TRUE</td><td>FALSE</td><td>17214.47</td><td>14.07133</td><td> 0.7517230</td></tr>\n",
       "\t<tr><td>11BA0000305</td><td>63382</td><td>AMANHIB</td><td>26</td><td>allopregnanolone sulfate/pregnanolone sulfate</td><td>FALSE</td><td>TRUE</td><td>FALSE</td><td>10544.79</td><td>13.36424</td><td>-0.2543211</td></tr>\n",
       "\t<tr><td>11BA0000405</td><td>93307</td><td>AMANHIB</td><td>26</td><td>allopregnanolone sulfate/pregnanolone sulfate</td><td>FALSE</td><td>TRUE</td><td>FALSE</td><td> 8175.76</td><td>12.99714</td><td>-0.7766361</td></tr>\n",
       "\t<tr><td>11BA0000501</td><td>63375</td><td>AMANHIB</td><td>27</td><td>allopregnanolone sulfate/pregnanolone sulfate</td><td>FALSE</td><td>TRUE</td><td> TRUE</td><td>23342.64</td><td>14.51068</td><td> 1.3768210</td></tr>\n",
       "\t<tr><td>11BA0000601</td><td>70317</td><td>AMANHIB</td><td>25</td><td>allopregnanolone sulfate/pregnanolone sulfate</td><td>FALSE</td><td>TRUE</td><td>FALSE</td><td> 9321.83</td><td>13.18640</td><td>-0.5073579</td></tr>\n",
       "</tbody>\n",
       "</table>\n"
      ],
      "text/latex": [
       "A tibble: 6 × 11\n",
       "\\begin{tabular}{lllllllllll}\n",
       " sample\\_id & orig\\_id & site & GA\\_weeks & molecule & sb\\_case & non\\_case & healthy\\_control & intensity\\_filled & intensity\\_fill\\_log & intensity\\_fill\\_log\\_scaled\\\\\n",
       " <chr> & <chr> & <chr> & <int> & <chr> & <lgl> & <lgl> & <lgl> & <dbl> & <dbl> & <dbl>\\\\\n",
       "\\hline\n",
       "\t 11BA0000104 & 68368 & AMANHIB & 26 & allopregnanolone sulfate/pregnanolone sulfate & FALSE & TRUE &  TRUE & 16668.36 & 14.02482 &  0.6855495\\\\\n",
       "\t 11BA0000201 & 92320 & AMANHIB & 35 & allopregnanolone sulfate/pregnanolone sulfate & FALSE & TRUE & FALSE & 17214.47 & 14.07133 &  0.7517230\\\\\n",
       "\t 11BA0000305 & 63382 & AMANHIB & 26 & allopregnanolone sulfate/pregnanolone sulfate & FALSE & TRUE & FALSE & 10544.79 & 13.36424 & -0.2543211\\\\\n",
       "\t 11BA0000405 & 93307 & AMANHIB & 26 & allopregnanolone sulfate/pregnanolone sulfate & FALSE & TRUE & FALSE &  8175.76 & 12.99714 & -0.7766361\\\\\n",
       "\t 11BA0000501 & 63375 & AMANHIB & 27 & allopregnanolone sulfate/pregnanolone sulfate & FALSE & TRUE &  TRUE & 23342.64 & 14.51068 &  1.3768210\\\\\n",
       "\t 11BA0000601 & 70317 & AMANHIB & 25 & allopregnanolone sulfate/pregnanolone sulfate & FALSE & TRUE & FALSE &  9321.83 & 13.18640 & -0.5073579\\\\\n",
       "\\end{tabular}\n"
      ],
      "text/markdown": [
       "\n",
       "A tibble: 6 × 11\n",
       "\n",
       "| sample_id &lt;chr&gt; | orig_id &lt;chr&gt; | site &lt;chr&gt; | GA_weeks &lt;int&gt; | molecule &lt;chr&gt; | sb_case &lt;lgl&gt; | non_case &lt;lgl&gt; | healthy_control &lt;lgl&gt; | intensity_filled &lt;dbl&gt; | intensity_fill_log &lt;dbl&gt; | intensity_fill_log_scaled &lt;dbl&gt; |\n",
       "|---|---|---|---|---|---|---|---|---|---|---|\n",
       "| 11BA0000104 | 68368 | AMANHIB | 26 | allopregnanolone sulfate/pregnanolone sulfate | FALSE | TRUE |  TRUE | 16668.36 | 14.02482 |  0.6855495 |\n",
       "| 11BA0000201 | 92320 | AMANHIB | 35 | allopregnanolone sulfate/pregnanolone sulfate | FALSE | TRUE | FALSE | 17214.47 | 14.07133 |  0.7517230 |\n",
       "| 11BA0000305 | 63382 | AMANHIB | 26 | allopregnanolone sulfate/pregnanolone sulfate | FALSE | TRUE | FALSE | 10544.79 | 13.36424 | -0.2543211 |\n",
       "| 11BA0000405 | 93307 | AMANHIB | 26 | allopregnanolone sulfate/pregnanolone sulfate | FALSE | TRUE | FALSE |  8175.76 | 12.99714 | -0.7766361 |\n",
       "| 11BA0000501 | 63375 | AMANHIB | 27 | allopregnanolone sulfate/pregnanolone sulfate | FALSE | TRUE |  TRUE | 23342.64 | 14.51068 |  1.3768210 |\n",
       "| 11BA0000601 | 70317 | AMANHIB | 25 | allopregnanolone sulfate/pregnanolone sulfate | FALSE | TRUE | FALSE |  9321.83 | 13.18640 | -0.5073579 |\n",
       "\n"
      ],
      "text/plain": [
       "  sample_id   orig_id site    GA_weeks\n",
       "1 11BA0000104 68368   AMANHIB 26      \n",
       "2 11BA0000201 92320   AMANHIB 35      \n",
       "3 11BA0000305 63382   AMANHIB 26      \n",
       "4 11BA0000405 93307   AMANHIB 26      \n",
       "5 11BA0000501 63375   AMANHIB 27      \n",
       "6 11BA0000601 70317   AMANHIB 25      \n",
       "  molecule                                      sb_case non_case\n",
       "1 allopregnanolone sulfate/pregnanolone sulfate FALSE   TRUE    \n",
       "2 allopregnanolone sulfate/pregnanolone sulfate FALSE   TRUE    \n",
       "3 allopregnanolone sulfate/pregnanolone sulfate FALSE   TRUE    \n",
       "4 allopregnanolone sulfate/pregnanolone sulfate FALSE   TRUE    \n",
       "5 allopregnanolone sulfate/pregnanolone sulfate FALSE   TRUE    \n",
       "6 allopregnanolone sulfate/pregnanolone sulfate FALSE   TRUE    \n",
       "  healthy_control intensity_filled intensity_fill_log intensity_fill_log_scaled\n",
       "1  TRUE           16668.36         14.02482            0.6855495               \n",
       "2 FALSE           17214.47         14.07133            0.7517230               \n",
       "3 FALSE           10544.79         13.36424           -0.2543211               \n",
       "4 FALSE            8175.76         12.99714           -0.7766361               \n",
       "5  TRUE           23342.64         14.51068            1.3768210               \n",
       "6 FALSE            9321.83         13.18640           -0.5073579               "
      ]
     },
     "metadata": {},
     "output_type": "display_data"
    }
   ],
   "source": [
    "sample_maternal_data <- read_excel(\"C:/Users/Dell/Desktop/THSTI-CDSA work/MOMI Data Analysis/preg_intensities_sb_stratified_maternal.xlsx\", col_types = \"text\")\n",
    "\n",
    "sample_maternal_data <- sample_maternal_data %>%\n",
    "    type.convert(as.is = TRUE)  # Automatically convert to appropriate types\n",
    "\n",
    "head(sample_maternal_data)    "
   ]
  },
  {
   "cell_type": "code",
   "execution_count": 70,
   "metadata": {
    "vscode": {
     "languageId": "r"
    }
   },
   "outputs": [
    {
     "name": "stdout",
     "output_type": "stream",
     "text": [
      "Dimesions of Maternal Data: 53582 11"
     ]
    }
   ],
   "source": [
    "cat(\"Dimesions of Maternal Data:\",dim(sample_maternal_data))"
   ]
  },
  {
   "cell_type": "markdown",
   "metadata": {},
   "source": [
    "#### 2. Sample cord data"
   ]
  },
  {
   "cell_type": "code",
   "execution_count": 71,
   "metadata": {
    "vscode": {
     "languageId": "r"
    }
   },
   "outputs": [
    {
     "data": {
      "text/html": [
       "<table class=\"dataframe\">\n",
       "<caption>A tibble: 6 × 10</caption>\n",
       "<thead>\n",
       "\t<tr><th scope=col>sample_id</th><th scope=col>orig_id</th><th scope=col>site</th><th scope=col>molecule</th><th scope=col>sb_case</th><th scope=col>non_case</th><th scope=col>healthy_control</th><th scope=col>intensity_filled</th><th scope=col>intensity_fill_log</th><th scope=col>intensity_fill_log_scaled</th></tr>\n",
       "\t<tr><th scope=col>&lt;chr&gt;</th><th scope=col>&lt;chr&gt;</th><th scope=col>&lt;chr&gt;</th><th scope=col>&lt;chr&gt;</th><th scope=col>&lt;lgl&gt;</th><th scope=col>&lt;lgl&gt;</th><th scope=col>&lt;lgl&gt;</th><th scope=col>&lt;dbl&gt;</th><th scope=col>&lt;dbl&gt;</th><th scope=col>&lt;dbl&gt;</th></tr>\n",
       "</thead>\n",
       "<tbody>\n",
       "\t<tr><td>11CB0000101</td><td>106006</td><td>AMANHIB</td><td>allopregnanolone sulfate/pregnanolone sulfate</td><td>FALSE</td><td>TRUE</td><td> TRUE</td><td>14118.23</td><td>13.78527</td><td>-1.3363408</td></tr>\n",
       "\t<tr><td>11CB0000101</td><td>106006</td><td>AMANHIB</td><td>pregnenolone sulfate                         </td><td>FALSE</td><td>TRUE</td><td> TRUE</td><td>25222.12</td><td>14.62240</td><td>-0.2150055</td></tr>\n",
       "\t<tr><td>11CB0000201</td><td>107028</td><td>AMANHIB</td><td>allopregnanolone sulfate/pregnanolone sulfate</td><td>FALSE</td><td>TRUE</td><td>FALSE</td><td>14950.39</td><td>13.86790</td><td>-1.1808550</td></tr>\n",
       "\t<tr><td>11CB0000201</td><td>107028</td><td>AMANHIB</td><td>pregnenolone sulfate                         </td><td>FALSE</td><td>TRUE</td><td>FALSE</td><td>33301.87</td><td>15.02332</td><td> 0.3812567</td></tr>\n",
       "\t<tr><td>11CB0000301</td><td>72274 </td><td>AMANHIB</td><td>allopregnanolone sulfate/pregnanolone sulfate</td><td>FALSE</td><td>TRUE</td><td> TRUE</td><td>18505.24</td><td>14.17565</td><td>-0.6017139</td></tr>\n",
       "\t<tr><td>11CB0000301</td><td>72274 </td><td>AMANHIB</td><td>pregnenolone sulfate                         </td><td>FALSE</td><td>TRUE</td><td> TRUE</td><td>18637.72</td><td>14.18594</td><td>-0.8641404</td></tr>\n",
       "</tbody>\n",
       "</table>\n"
      ],
      "text/latex": [
       "A tibble: 6 × 10\n",
       "\\begin{tabular}{llllllllll}\n",
       " sample\\_id & orig\\_id & site & molecule & sb\\_case & non\\_case & healthy\\_control & intensity\\_filled & intensity\\_fill\\_log & intensity\\_fill\\_log\\_scaled\\\\\n",
       " <chr> & <chr> & <chr> & <chr> & <lgl> & <lgl> & <lgl> & <dbl> & <dbl> & <dbl>\\\\\n",
       "\\hline\n",
       "\t 11CB0000101 & 106006 & AMANHIB & allopregnanolone sulfate/pregnanolone sulfate & FALSE & TRUE &  TRUE & 14118.23 & 13.78527 & -1.3363408\\\\\n",
       "\t 11CB0000101 & 106006 & AMANHIB & pregnenolone sulfate                          & FALSE & TRUE &  TRUE & 25222.12 & 14.62240 & -0.2150055\\\\\n",
       "\t 11CB0000201 & 107028 & AMANHIB & allopregnanolone sulfate/pregnanolone sulfate & FALSE & TRUE & FALSE & 14950.39 & 13.86790 & -1.1808550\\\\\n",
       "\t 11CB0000201 & 107028 & AMANHIB & pregnenolone sulfate                          & FALSE & TRUE & FALSE & 33301.87 & 15.02332 &  0.3812567\\\\\n",
       "\t 11CB0000301 & 72274  & AMANHIB & allopregnanolone sulfate/pregnanolone sulfate & FALSE & TRUE &  TRUE & 18505.24 & 14.17565 & -0.6017139\\\\\n",
       "\t 11CB0000301 & 72274  & AMANHIB & pregnenolone sulfate                          & FALSE & TRUE &  TRUE & 18637.72 & 14.18594 & -0.8641404\\\\\n",
       "\\end{tabular}\n"
      ],
      "text/markdown": [
       "\n",
       "A tibble: 6 × 10\n",
       "\n",
       "| sample_id &lt;chr&gt; | orig_id &lt;chr&gt; | site &lt;chr&gt; | molecule &lt;chr&gt; | sb_case &lt;lgl&gt; | non_case &lt;lgl&gt; | healthy_control &lt;lgl&gt; | intensity_filled &lt;dbl&gt; | intensity_fill_log &lt;dbl&gt; | intensity_fill_log_scaled &lt;dbl&gt; |\n",
       "|---|---|---|---|---|---|---|---|---|---|\n",
       "| 11CB0000101 | 106006 | AMANHIB | allopregnanolone sulfate/pregnanolone sulfate | FALSE | TRUE |  TRUE | 14118.23 | 13.78527 | -1.3363408 |\n",
       "| 11CB0000101 | 106006 | AMANHIB | pregnenolone sulfate                          | FALSE | TRUE |  TRUE | 25222.12 | 14.62240 | -0.2150055 |\n",
       "| 11CB0000201 | 107028 | AMANHIB | allopregnanolone sulfate/pregnanolone sulfate | FALSE | TRUE | FALSE | 14950.39 | 13.86790 | -1.1808550 |\n",
       "| 11CB0000201 | 107028 | AMANHIB | pregnenolone sulfate                          | FALSE | TRUE | FALSE | 33301.87 | 15.02332 |  0.3812567 |\n",
       "| 11CB0000301 | 72274  | AMANHIB | allopregnanolone sulfate/pregnanolone sulfate | FALSE | TRUE |  TRUE | 18505.24 | 14.17565 | -0.6017139 |\n",
       "| 11CB0000301 | 72274  | AMANHIB | pregnenolone sulfate                          | FALSE | TRUE |  TRUE | 18637.72 | 14.18594 | -0.8641404 |\n",
       "\n"
      ],
      "text/plain": [
       "  sample_id   orig_id site    molecule                                     \n",
       "1 11CB0000101 106006  AMANHIB allopregnanolone sulfate/pregnanolone sulfate\n",
       "2 11CB0000101 106006  AMANHIB pregnenolone sulfate                         \n",
       "3 11CB0000201 107028  AMANHIB allopregnanolone sulfate/pregnanolone sulfate\n",
       "4 11CB0000201 107028  AMANHIB pregnenolone sulfate                         \n",
       "5 11CB0000301 72274   AMANHIB allopregnanolone sulfate/pregnanolone sulfate\n",
       "6 11CB0000301 72274   AMANHIB pregnenolone sulfate                         \n",
       "  sb_case non_case healthy_control intensity_filled intensity_fill_log\n",
       "1 FALSE   TRUE      TRUE           14118.23         13.78527          \n",
       "2 FALSE   TRUE      TRUE           25222.12         14.62240          \n",
       "3 FALSE   TRUE     FALSE           14950.39         13.86790          \n",
       "4 FALSE   TRUE     FALSE           33301.87         15.02332          \n",
       "5 FALSE   TRUE      TRUE           18505.24         14.17565          \n",
       "6 FALSE   TRUE      TRUE           18637.72         14.18594          \n",
       "  intensity_fill_log_scaled\n",
       "1 -1.3363408               \n",
       "2 -0.2150055               \n",
       "3 -1.1808550               \n",
       "4  0.3812567               \n",
       "5 -0.6017139               \n",
       "6 -0.8641404               "
      ]
     },
     "metadata": {},
     "output_type": "display_data"
    }
   ],
   "source": [
    "sample_cord_data <- read_excel(\"C:/Users/Dell/Desktop/THSTI-CDSA work/MOMI Data Analysis/preg_intensities_sb_stratified_cord.xlsx\", col_types = \"text\")\n",
    "\n",
    "# Convert columns to appropriate types\n",
    "sample_cord_data <- sample_cord_data %>%\n",
    "    type.convert(as.is = TRUE)\n",
    "\n",
    "head(sample_cord_data)"
   ]
  },
  {
   "cell_type": "code",
   "execution_count": 72,
   "metadata": {
    "vscode": {
     "languageId": "r"
    }
   },
   "outputs": [
    {
     "name": "stdout",
     "output_type": "stream",
     "text": [
      "Dimesions of cord Data: 13580 10"
     ]
    }
   ],
   "source": [
    "cat(\"Dimesions of cord Data:\",dim(sample_cord_data))"
   ]
  },
  {
   "cell_type": "markdown",
   "metadata": {},
   "source": [
    "#### 3. Clinical Data"
   ]
  },
  {
   "cell_type": "code",
   "execution_count": 73,
   "metadata": {
    "vscode": {
     "languageId": "r"
    }
   },
   "outputs": [
    {
     "data": {
      "text/html": [
       "<table class=\"dataframe\">\n",
       "<caption>A tibble: 6 × 122</caption>\n",
       "<thead>\n",
       "\t<tr><th scope=col>SITE_CODE</th><th scope=col>ORIG_ID</th><th scope=col>PARTICIPANT_ID</th><th scope=col>PREGNANCY_ID</th><th scope=col>BABY_ID</th><th scope=col>VDT_ENR</th><th scope=col>DATE_LMP</th><th scope=col>PW_AGE</th><th scope=col>AGE_CAL</th><th scope=col>PW_OCCUPATION</th><th scope=col>⋯</th><th scope=col>BUN</th><th scope=col>SCR</th><th scope=col>AST</th><th scope=col>ALB</th><th scope=col>TSH</th><th scope=col>RPR</th><th scope=col>SFLT</th><th scope=col>PLGF</th><th scope=col>PAPPA</th><th scope=col>VEGF</th></tr>\n",
       "\t<tr><th scope=col>&lt;int&gt;</th><th scope=col>&lt;chr&gt;</th><th scope=col>&lt;chr&gt;</th><th scope=col>&lt;int&gt;</th><th scope=col>&lt;chr&gt;</th><th scope=col>&lt;int&gt;</th><th scope=col>&lt;int&gt;</th><th scope=col>&lt;int&gt;</th><th scope=col>&lt;int&gt;</th><th scope=col>&lt;int&gt;</th><th scope=col>⋯</th><th scope=col>&lt;int&gt;</th><th scope=col>&lt;dbl&gt;</th><th scope=col>&lt;dbl&gt;</th><th scope=col>&lt;dbl&gt;</th><th scope=col>&lt;dbl&gt;</th><th scope=col>&lt;int&gt;</th><th scope=col>&lt;int&gt;</th><th scope=col>&lt;int&gt;</th><th scope=col>&lt;dbl&gt;</th><th scope=col>&lt;int&gt;</th></tr>\n",
       "</thead>\n",
       "<tbody>\n",
       "\t<tr><td>1</td><td>30-000001</td><td>ZAPPS-000001</td><td>1</td><td>ZAPPS-000001-1</td><td>42233</td><td>42183</td><td>27</td><td>1</td><td>1</td><td>⋯</td><td>NA</td><td>NA</td><td>NA</td><td>NA</td><td>NA</td><td>NA</td><td>NA</td><td>NA</td><td>NA</td><td>NA</td></tr>\n",
       "\t<tr><td>1</td><td>30-000001</td><td>ZAPPS-000001</td><td>1</td><td>ZAPPS-000001-1</td><td>42233</td><td>42183</td><td>27</td><td>1</td><td>1</td><td>⋯</td><td>NA</td><td>NA</td><td>NA</td><td>NA</td><td>NA</td><td>NA</td><td>NA</td><td>NA</td><td>NA</td><td>NA</td></tr>\n",
       "\t<tr><td>1</td><td>30-000001</td><td>ZAPPS-000001</td><td>1</td><td>ZAPPS-000001-1</td><td>42233</td><td>42183</td><td>27</td><td>1</td><td>1</td><td>⋯</td><td>NA</td><td>NA</td><td>NA</td><td>NA</td><td>NA</td><td>NA</td><td>NA</td><td>NA</td><td>NA</td><td>NA</td></tr>\n",
       "\t<tr><td>1</td><td>30-000001</td><td>ZAPPS-000001</td><td>1</td><td>ZAPPS-000001-1</td><td>42233</td><td>42183</td><td>27</td><td>1</td><td>1</td><td>⋯</td><td>NA</td><td>NA</td><td>NA</td><td>NA</td><td>NA</td><td>NA</td><td>NA</td><td>NA</td><td>NA</td><td>NA</td></tr>\n",
       "\t<tr><td>1</td><td>30-000001</td><td>ZAPPS-000001</td><td>1</td><td>ZAPPS-000001-1</td><td>42233</td><td>42183</td><td>27</td><td>1</td><td>1</td><td>⋯</td><td>NA</td><td>NA</td><td>NA</td><td>NA</td><td>NA</td><td>NA</td><td>NA</td><td>NA</td><td>NA</td><td>NA</td></tr>\n",
       "\t<tr><td>1</td><td>30-000002</td><td>ZAPPS-000002</td><td>1</td><td>ZAPPS-000002-1</td><td>42233</td><td>42183</td><td>31</td><td>1</td><td>1</td><td>⋯</td><td>NA</td><td>NA</td><td>NA</td><td>NA</td><td>NA</td><td>NA</td><td>NA</td><td>NA</td><td>NA</td><td>NA</td></tr>\n",
       "</tbody>\n",
       "</table>\n"
      ],
      "text/latex": [
       "A tibble: 6 × 122\n",
       "\\begin{tabular}{lllllllllllllllllllll}\n",
       " SITE\\_CODE & ORIG\\_ID & PARTICIPANT\\_ID & PREGNANCY\\_ID & BABY\\_ID & VDT\\_ENR & DATE\\_LMP & PW\\_AGE & AGE\\_CAL & PW\\_OCCUPATION & ⋯ & BUN & SCR & AST & ALB & TSH & RPR & SFLT & PLGF & PAPPA & VEGF\\\\\n",
       " <int> & <chr> & <chr> & <int> & <chr> & <int> & <int> & <int> & <int> & <int> & ⋯ & <int> & <dbl> & <dbl> & <dbl> & <dbl> & <int> & <int> & <int> & <dbl> & <int>\\\\\n",
       "\\hline\n",
       "\t 1 & 30-000001 & ZAPPS-000001 & 1 & ZAPPS-000001-1 & 42233 & 42183 & 27 & 1 & 1 & ⋯ & NA & NA & NA & NA & NA & NA & NA & NA & NA & NA\\\\\n",
       "\t 1 & 30-000001 & ZAPPS-000001 & 1 & ZAPPS-000001-1 & 42233 & 42183 & 27 & 1 & 1 & ⋯ & NA & NA & NA & NA & NA & NA & NA & NA & NA & NA\\\\\n",
       "\t 1 & 30-000001 & ZAPPS-000001 & 1 & ZAPPS-000001-1 & 42233 & 42183 & 27 & 1 & 1 & ⋯ & NA & NA & NA & NA & NA & NA & NA & NA & NA & NA\\\\\n",
       "\t 1 & 30-000001 & ZAPPS-000001 & 1 & ZAPPS-000001-1 & 42233 & 42183 & 27 & 1 & 1 & ⋯ & NA & NA & NA & NA & NA & NA & NA & NA & NA & NA\\\\\n",
       "\t 1 & 30-000001 & ZAPPS-000001 & 1 & ZAPPS-000001-1 & 42233 & 42183 & 27 & 1 & 1 & ⋯ & NA & NA & NA & NA & NA & NA & NA & NA & NA & NA\\\\\n",
       "\t 1 & 30-000002 & ZAPPS-000002 & 1 & ZAPPS-000002-1 & 42233 & 42183 & 31 & 1 & 1 & ⋯ & NA & NA & NA & NA & NA & NA & NA & NA & NA & NA\\\\\n",
       "\\end{tabular}\n"
      ],
      "text/markdown": [
       "\n",
       "A tibble: 6 × 122\n",
       "\n",
       "| SITE_CODE &lt;int&gt; | ORIG_ID &lt;chr&gt; | PARTICIPANT_ID &lt;chr&gt; | PREGNANCY_ID &lt;int&gt; | BABY_ID &lt;chr&gt; | VDT_ENR &lt;int&gt; | DATE_LMP &lt;int&gt; | PW_AGE &lt;int&gt; | AGE_CAL &lt;int&gt; | PW_OCCUPATION &lt;int&gt; | ⋯ ⋯ | BUN &lt;int&gt; | SCR &lt;dbl&gt; | AST &lt;dbl&gt; | ALB &lt;dbl&gt; | TSH &lt;dbl&gt; | RPR &lt;int&gt; | SFLT &lt;int&gt; | PLGF &lt;int&gt; | PAPPA &lt;dbl&gt; | VEGF &lt;int&gt; |\n",
       "|---|---|---|---|---|---|---|---|---|---|---|---|---|---|---|---|---|---|---|---|---|\n",
       "| 1 | 30-000001 | ZAPPS-000001 | 1 | ZAPPS-000001-1 | 42233 | 42183 | 27 | 1 | 1 | ⋯ | NA | NA | NA | NA | NA | NA | NA | NA | NA | NA |\n",
       "| 1 | 30-000001 | ZAPPS-000001 | 1 | ZAPPS-000001-1 | 42233 | 42183 | 27 | 1 | 1 | ⋯ | NA | NA | NA | NA | NA | NA | NA | NA | NA | NA |\n",
       "| 1 | 30-000001 | ZAPPS-000001 | 1 | ZAPPS-000001-1 | 42233 | 42183 | 27 | 1 | 1 | ⋯ | NA | NA | NA | NA | NA | NA | NA | NA | NA | NA |\n",
       "| 1 | 30-000001 | ZAPPS-000001 | 1 | ZAPPS-000001-1 | 42233 | 42183 | 27 | 1 | 1 | ⋯ | NA | NA | NA | NA | NA | NA | NA | NA | NA | NA |\n",
       "| 1 | 30-000001 | ZAPPS-000001 | 1 | ZAPPS-000001-1 | 42233 | 42183 | 27 | 1 | 1 | ⋯ | NA | NA | NA | NA | NA | NA | NA | NA | NA | NA |\n",
       "| 1 | 30-000002 | ZAPPS-000002 | 1 | ZAPPS-000002-1 | 42233 | 42183 | 31 | 1 | 1 | ⋯ | NA | NA | NA | NA | NA | NA | NA | NA | NA | NA |\n",
       "\n"
      ],
      "text/plain": [
       "  SITE_CODE ORIG_ID   PARTICIPANT_ID PREGNANCY_ID BABY_ID        VDT_ENR\n",
       "1 1         30-000001 ZAPPS-000001   1            ZAPPS-000001-1 42233  \n",
       "2 1         30-000001 ZAPPS-000001   1            ZAPPS-000001-1 42233  \n",
       "3 1         30-000001 ZAPPS-000001   1            ZAPPS-000001-1 42233  \n",
       "4 1         30-000001 ZAPPS-000001   1            ZAPPS-000001-1 42233  \n",
       "5 1         30-000001 ZAPPS-000001   1            ZAPPS-000001-1 42233  \n",
       "6 1         30-000002 ZAPPS-000002   1            ZAPPS-000002-1 42233  \n",
       "  DATE_LMP PW_AGE AGE_CAL PW_OCCUPATION ⋯ BUN SCR AST ALB TSH RPR SFLT PLGF\n",
       "1 42183    27     1       1             ⋯ NA  NA  NA  NA  NA  NA  NA   NA  \n",
       "2 42183    27     1       1             ⋯ NA  NA  NA  NA  NA  NA  NA   NA  \n",
       "3 42183    27     1       1             ⋯ NA  NA  NA  NA  NA  NA  NA   NA  \n",
       "4 42183    27     1       1             ⋯ NA  NA  NA  NA  NA  NA  NA   NA  \n",
       "5 42183    27     1       1             ⋯ NA  NA  NA  NA  NA  NA  NA   NA  \n",
       "6 42183    31     1       1             ⋯ NA  NA  NA  NA  NA  NA  NA   NA  \n",
       "  PAPPA VEGF\n",
       "1 NA    NA  \n",
       "2 NA    NA  \n",
       "3 NA    NA  \n",
       "4 NA    NA  \n",
       "5 NA    NA  \n",
       "6 NA    NA  "
      ]
     },
     "metadata": {},
     "output_type": "display_data"
    }
   ],
   "source": [
    "clinical_data <- read_excel(\"C:/Users/Dell/Desktop/THSTI-CDSA work/MOMI Data Analysis/momi_combined_data.xlsx\", col_types = \"text\")\n",
    "\n",
    "clinical_data <- clinical_data %>%\n",
    "    type.convert(as.is = TRUE)  # Automatically convert to appropriate types\n",
    "\n",
    "head(clinical_data)"
   ]
  },
  {
   "cell_type": "code",
   "execution_count": 74,
   "metadata": {
    "vscode": {
     "languageId": "r"
    }
   },
   "outputs": [
    {
     "name": "stdout",
     "output_type": "stream",
     "text": [
      "Dimesions of clinical data: 105009 122"
     ]
    }
   ],
   "source": [
    "cat(\"Dimesions of clinical data:\",dim(clinical_data))"
   ]
  },
  {
   "cell_type": "markdown",
   "metadata": {},
   "source": [
    "### Adding Site and GA_weeks in clinical data"
   ]
  },
  {
   "cell_type": "markdown",
   "metadata": {},
   "source": [
    "#### Adding Site from Site Code"
   ]
  },
  {
   "cell_type": "code",
   "execution_count": 75,
   "metadata": {
    "vscode": {
     "languageId": "r"
    }
   },
   "outputs": [
    {
     "data": {
      "text/html": [
       "<style>\n",
       ".list-inline {list-style: none; margin:0; padding: 0}\n",
       ".list-inline>li {display: inline-block}\n",
       ".list-inline>li:not(:last-child)::after {content: \"\\00b7\"; padding: 0 .5ex}\n",
       "</style>\n",
       "<ol class=list-inline><li>'ZAPPS'</li><li>'ZAPPS'</li><li>'ZAPPS'</li><li>'ZAPPS'</li><li>'ZAPPS'</li><li>'ZAPPS'</li></ol>\n"
      ],
      "text/latex": [
       "\\begin{enumerate*}\n",
       "\\item 'ZAPPS'\n",
       "\\item 'ZAPPS'\n",
       "\\item 'ZAPPS'\n",
       "\\item 'ZAPPS'\n",
       "\\item 'ZAPPS'\n",
       "\\item 'ZAPPS'\n",
       "\\end{enumerate*}\n"
      ],
      "text/markdown": [
       "1. 'ZAPPS'\n",
       "2. 'ZAPPS'\n",
       "3. 'ZAPPS'\n",
       "4. 'ZAPPS'\n",
       "5. 'ZAPPS'\n",
       "6. 'ZAPPS'\n",
       "\n",
       "\n"
      ],
      "text/plain": [
       "[1] \"ZAPPS\" \"ZAPPS\" \"ZAPPS\" \"ZAPPS\" \"ZAPPS\" \"ZAPPS\""
      ]
     },
     "metadata": {},
     "output_type": "display_data"
    }
   ],
   "source": [
    "clinical_data <- clinical_data %>%\n",
    "  mutate(SITE = case_when(\n",
    "    SITE_CODE == 1 ~ \"ZAPPS\",\n",
    "    SITE_CODE == 2 ~ \"GAPPSB\",\n",
    "    SITE_CODE == 3 ~ \"AMANHIP\",\n",
    "    SITE_CODE == 4 ~ \"AMANHIB\",\n",
    "    SITE_CODE == 5 ~ \"AMANHIT\",\n",
    "    SITE_CODE == 6 ~ \"THSTI\",\n",
    "    TRUE ~ as.character(SITE_CODE)  # Handle any other cases\n",
    "  ))\n",
    "\n",
    "  head(clinical_data$SITE)"
   ]
  },
  {
   "cell_type": "code",
   "execution_count": 76,
   "metadata": {
    "vscode": {
     "languageId": "r"
    }
   },
   "outputs": [
    {
     "data": {
      "text/html": [
       "0"
      ],
      "text/latex": [
       "0"
      ],
      "text/markdown": [
       "0"
      ],
      "text/plain": [
       "[1] 0"
      ]
     },
     "metadata": {},
     "output_type": "display_data"
    }
   ],
   "source": [
    "# Check for missing values in SITE column\n",
    "sum(is.na(clinical_data$SITE))"
   ]
  },
  {
   "cell_type": "markdown",
   "metadata": {},
   "source": [
    "#### Calculating GA_weeks to merge both files"
   ]
  },
  {
   "cell_type": "code",
   "execution_count": 77,
   "metadata": {
    "vscode": {
     "languageId": "r"
    }
   },
   "outputs": [
    {
     "data": {
      "text/html": [
       "<style>\n",
       ".list-inline {list-style: none; margin:0; padding: 0}\n",
       ".list-inline>li {display: inline-block}\n",
       ".list-inline>li:not(:last-child)::after {content: \"\\00b7\"; padding: 0 .5ex}\n",
       "</style>\n",
       "<ol class=list-inline><li>8.14984444398001</li><li>&lt;NA&gt;</li><li>34.49414</li><li>37.87654</li><li>&lt;NA&gt;</li><li>8.14984444398001</li></ol>\n"
      ],
      "text/latex": [
       "\\begin{enumerate*}\n",
       "\\item 8.14984444398001\n",
       "\\item <NA>\n",
       "\\item 34.49414\n",
       "\\item 37.87654\n",
       "\\item <NA>\n",
       "\\item 8.14984444398001\n",
       "\\end{enumerate*}\n"
      ],
      "text/markdown": [
       "1. 8.14984444398001\n",
       "2. &lt;NA&gt;\n",
       "3. 34.49414\n",
       "4. 37.87654\n",
       "5. &lt;NA&gt;\n",
       "6. 8.14984444398001\n",
       "\n",
       "\n"
      ],
      "text/plain": [
       "[1]  8.149844        NA 34.494140 37.876540        NA  8.149844"
      ]
     },
     "metadata": {},
     "output_type": "display_data"
    }
   ],
   "source": [
    "# Add new columns to the clinical_data dataframe\n",
    "clinical_data <- clinical_data %>%\n",
    "  mutate(\n",
    "    VISITDT = as.Date(VISITDT, format = \"%Y-%m-%d\", origin = \"1899-12-30\"),\n",
    "    VDT_ENR = as.Date(VDT_ENR, format = \"%Y-%m-%d\", origin = \"1899-12-30\"),\n",
    "    DATE_LMP = as.Date(DATE_LMP, format = \"%Y-%m-%d\", origin = \"1899-12-30\"),\n",
    "    DATE_USG = as.Date(DATE_USG, format = \"%Y-%m-%d\", origin = \"1899-12-30\"),\n",
    "    \n",
    "    # Create a unique ID by combining ORIG_ID and SITE\n",
    "    id = paste(ORIG_ID, SITE, sep = \"_\"),\n",
    "    \n",
    "    # Calculate GA_crl (Gestational Age based on Crown-Rump Length)\n",
    "    GA_crl = exp(1.684969 + (0.315646 * CRL) - (0.049306 * CRL^2) + \n",
    "                 (0.004057 * CRL^3) - (0.000120456 * CRL^4)),\n",
    "    \n",
    "    # Calculate GA_hadlock (Gestational Age based on Hadlock formula)\n",
    "    GA_hadlock = 10.50 + 0.197 * (BPD * FL) + 0.9500 * FL + 0.7300 * BPD,\n",
    "    \n",
    "    # Calculate GA_weeks (final gestational age at enrollment)\n",
    "    GA_weeks = ifelse(is.na(GA_crl), GA_hadlock, GA_crl)\n",
    "  )\n",
    "\n",
    "head(clinical_data$GA_weeks)"
   ]
  },
  {
   "cell_type": "markdown",
   "metadata": {},
   "source": [
    "#### Summary of GA_weeks and its derivatives"
   ]
  },
  {
   "cell_type": "code",
   "execution_count": 78,
   "metadata": {
    "vscode": {
     "languageId": "r"
    }
   },
   "outputs": [
    {
     "data": {
      "text/plain": [
       "\n",
       "\n",
       "|**Characteristic** |                             **N = 105,009**                             |\n",
       "|:------------------|:-----------------------------------------------------------------------:|\n",
       "|CRL                |  Median : 4.90, IQR: (3.50, 6.30), Values present: 9,395, NA : 95,614   |\n",
       "|FL                 |  Median : 4.00, IQR: (2.50, 6.00), Values present: 17,978, NA : 87,031  |\n",
       "|BPD                |  Median : 5.50, IQR: (3.90, 7.90), Values present: 18,080, NA : 86,929  |\n",
       "|GA_crl             | Median : 11.65, IQR: (10.40, 12.70), Values present: 9,395, NA : 95,614 |\n",
       "|GA_hadlock         |     Median : 23, IQR: (18, 31), Values present: 17,969, NA : 87,040     |\n",
       "|GA_weeks           |     Median : 18, IQR: (13, 28), Values present: 27,226, NA : 77,783     |"
      ]
     },
     "metadata": {},
     "output_type": "display_data"
    }
   ],
   "source": [
    "clinical_data %>%\n",
    "  select(CRL, FL, BPD, GA_crl, GA_hadlock, GA_weeks) %>%\n",
    "  tbl_summary(\n",
    "    statistic = list(all_continuous() ~ \"Median : {median}, IQR: ({p25}, {p75}), Values present: {N_nonmiss}, NA : {N_miss}\"),\n",
    "    missing = \"no\"\n",
    "  ) %>%\n",
    "  as_kable()"
   ]
  },
  {
   "cell_type": "markdown",
   "metadata": {},
   "source": [
    "## Data cleaning"
   ]
  },
  {
   "cell_type": "markdown",
   "metadata": {},
   "source": [
    "### Formatting Columns"
   ]
  },
  {
   "cell_type": "code",
   "execution_count": 79,
   "metadata": {
    "vscode": {
     "languageId": "r"
    }
   },
   "outputs": [
    {
     "data": {
      "text/html": [
       "<style>\n",
       ".list-inline {list-style: none; margin:0; padding: 0}\n",
       ".list-inline>li {display: inline-block}\n",
       ".list-inline>li:not(:last-child)::after {content: \"\\00b7\"; padding: 0 .5ex}\n",
       "</style>\n",
       "<ol class=list-inline><li>'SITE_CODE'</li><li>'ORIG_ID'</li><li>'PARTICIPANT_ID'</li><li>'PREGNANCY_ID'</li><li>'BABY_ID'</li><li>'VDT_ENR'</li><li>'DATE_LMP'</li><li>'PW_AGE'</li><li>'AGE_CAL'</li><li>'PW_OCCUPATION'</li><li>'PW_EDUCATION'</li><li>'FMLY_TYP'</li><li>'HUS_EDUC'</li><li>'FMLY_MEMB'</li><li>'TYP_HOUSE'</li><li>'ROOMS_HOUSE'</li><li>'HH_ELECTRICITY'</li><li>'FUEL_FOR_COOK'</li><li>'DRINKING_SOURCE'</li><li>'TOILET'</li><li>'WEALTH_INDEX'</li><li>'SNIFF_TOBA'</li><li>'SNIFF_FREQ'</li><li>'SMOKE_HIST'</li><li>'SMOK_YR'</li><li>'SMOK_TYP'</li><li>'SMOK_FREQ'</li><li>'PASSIVE_SMOK'</li><li>'ALCOHOL'</li><li>'ALCOHOL_FREQ'</li><li>'GRAVIDITY'</li><li>'PARITY'</li><li>'PREV_MIS'</li><li>'PREV_SB'</li><li>'PREV_SB_NO'</li><li>'PREV_LB'</li><li>'PREV_PTB'</li><li>'PREV_PTB_NO'</li><li>'PREV_PTB_MULTI'</li><li>'PREV_MULTIP'</li><li>'PREV_CS'</li><li>'ALIVE_CHILD'</li><li>'BIRTH_INTERVAL'</li><li>'CHRON_HTN'</li><li>'DIABETES'</li><li>'TB'</li><li>'THYROID'</li><li>'EPILEPSY'</li><li>'MAT_HEIGHT'</li><li>'NUM_FETUS'</li><li>'FETAL_ANOMALIES'</li><li>'DATE_ANOMALY_SCAN'</li><li>'CONG_ANOMALIES'</li><li>'DEL_DATE'</li><li>'DEL_TIME'</li><li>'DEL_MODE'</li><li>'DELIVERY_PLACE'</li><li>'DELIVERY_CONDBY'</li><li>'LABOUR_24'</li><li>'ROM_24'</li><li>'SPONT_LABOUR'</li><li>'LABOUR_AUG'</li><li>'LABOUR_FEVER'</li><li>'LIQUOR_CLEAR'</li><li>'LABOUR_HTN'</li><li>'PREG_OUTCOME'</li><li>'SINGLE_TWIN'</li><li>'BIRTH_OUTCOME'</li><li>'BABY_SEX'</li><li>'BIRTH_WEIGHT'</li><li>'BWT_MEASURE_DATE'</li><li>'BWT_MEASURE_TIME'</li><li>'HC_BIRTH'</li><li>'HC_MEASURE_DATE'</li><li>'HC_MEASURE_TIME'</li><li>'LENGTH_BIRTH'</li><li>'LENGTH_MEASURE_DATE'</li><li>'LENGTH_MEASURE_TIME'</li><li>'MUAC_BIRTH'</li><li>'MUAC_MEASURE_DATE'</li><li>'MUAC_MEASURE_TIME'</li><li>'MAT_DEATH'</li><li>'MAT_DEATH_DATE'</li><li>'VISITDT'</li><li>'MAT_WEIGHT'</li><li>'SBP'</li><li>'DBP'</li><li>'TEMP'</li><li>'PULSE'</li><li>'FUNDAL_HEIGHT'</li><li>'VAG_BLEED'</li><li>'SWELL_ANKLE'</li><li>'DATE_USG'</li><li>'CRL'</li><li>'HC'</li><li>'AC'</li><li>'BPD'</li><li>'FL'</li><li>'PPH'</li><li>'LABDT'</li><li>'HEMO'</li><li>'SYPHILIS'</li><li>'SYPHILIS_METHOD'</li><li>'UDIP_PROT'</li><li>'HBA1C'</li><li>'HIV'</li><li>'MALARIA'</li><li>'MALARIA_METHOD'</li><li>'CRP'</li><li>'AGP'</li><li>'CA'</li><li>'FER'</li><li>'BUN'</li><li>'SCR'</li><li>'AST'</li><li>'ALB'</li><li>'TSH'</li><li>'RPR'</li><li>'SFLT'</li><li>'PLGF'</li><li>'PAPPA'</li><li>'VEGF'</li><li>'SITE'</li><li>'id'</li><li>'GA_crl'</li><li>'GA_hadlock'</li><li>'GA_weeks'</li></ol>\n"
      ],
      "text/latex": [
       "\\begin{enumerate*}\n",
       "\\item 'SITE\\_CODE'\n",
       "\\item 'ORIG\\_ID'\n",
       "\\item 'PARTICIPANT\\_ID'\n",
       "\\item 'PREGNANCY\\_ID'\n",
       "\\item 'BABY\\_ID'\n",
       "\\item 'VDT\\_ENR'\n",
       "\\item 'DATE\\_LMP'\n",
       "\\item 'PW\\_AGE'\n",
       "\\item 'AGE\\_CAL'\n",
       "\\item 'PW\\_OCCUPATION'\n",
       "\\item 'PW\\_EDUCATION'\n",
       "\\item 'FMLY\\_TYP'\n",
       "\\item 'HUS\\_EDUC'\n",
       "\\item 'FMLY\\_MEMB'\n",
       "\\item 'TYP\\_HOUSE'\n",
       "\\item 'ROOMS\\_HOUSE'\n",
       "\\item 'HH\\_ELECTRICITY'\n",
       "\\item 'FUEL\\_FOR\\_COOK'\n",
       "\\item 'DRINKING\\_SOURCE'\n",
       "\\item 'TOILET'\n",
       "\\item 'WEALTH\\_INDEX'\n",
       "\\item 'SNIFF\\_TOBA'\n",
       "\\item 'SNIFF\\_FREQ'\n",
       "\\item 'SMOKE\\_HIST'\n",
       "\\item 'SMOK\\_YR'\n",
       "\\item 'SMOK\\_TYP'\n",
       "\\item 'SMOK\\_FREQ'\n",
       "\\item 'PASSIVE\\_SMOK'\n",
       "\\item 'ALCOHOL'\n",
       "\\item 'ALCOHOL\\_FREQ'\n",
       "\\item 'GRAVIDITY'\n",
       "\\item 'PARITY'\n",
       "\\item 'PREV\\_MIS'\n",
       "\\item 'PREV\\_SB'\n",
       "\\item 'PREV\\_SB\\_NO'\n",
       "\\item 'PREV\\_LB'\n",
       "\\item 'PREV\\_PTB'\n",
       "\\item 'PREV\\_PTB\\_NO'\n",
       "\\item 'PREV\\_PTB\\_MULTI'\n",
       "\\item 'PREV\\_MULTIP'\n",
       "\\item 'PREV\\_CS'\n",
       "\\item 'ALIVE\\_CHILD'\n",
       "\\item 'BIRTH\\_INTERVAL'\n",
       "\\item 'CHRON\\_HTN'\n",
       "\\item 'DIABETES'\n",
       "\\item 'TB'\n",
       "\\item 'THYROID'\n",
       "\\item 'EPILEPSY'\n",
       "\\item 'MAT\\_HEIGHT'\n",
       "\\item 'NUM\\_FETUS'\n",
       "\\item 'FETAL\\_ANOMALIES'\n",
       "\\item 'DATE\\_ANOMALY\\_SCAN'\n",
       "\\item 'CONG\\_ANOMALIES'\n",
       "\\item 'DEL\\_DATE'\n",
       "\\item 'DEL\\_TIME'\n",
       "\\item 'DEL\\_MODE'\n",
       "\\item 'DELIVERY\\_PLACE'\n",
       "\\item 'DELIVERY\\_CONDBY'\n",
       "\\item 'LABOUR\\_24'\n",
       "\\item 'ROM\\_24'\n",
       "\\item 'SPONT\\_LABOUR'\n",
       "\\item 'LABOUR\\_AUG'\n",
       "\\item 'LABOUR\\_FEVER'\n",
       "\\item 'LIQUOR\\_CLEAR'\n",
       "\\item 'LABOUR\\_HTN'\n",
       "\\item 'PREG\\_OUTCOME'\n",
       "\\item 'SINGLE\\_TWIN'\n",
       "\\item 'BIRTH\\_OUTCOME'\n",
       "\\item 'BABY\\_SEX'\n",
       "\\item 'BIRTH\\_WEIGHT'\n",
       "\\item 'BWT\\_MEASURE\\_DATE'\n",
       "\\item 'BWT\\_MEASURE\\_TIME'\n",
       "\\item 'HC\\_BIRTH'\n",
       "\\item 'HC\\_MEASURE\\_DATE'\n",
       "\\item 'HC\\_MEASURE\\_TIME'\n",
       "\\item 'LENGTH\\_BIRTH'\n",
       "\\item 'LENGTH\\_MEASURE\\_DATE'\n",
       "\\item 'LENGTH\\_MEASURE\\_TIME'\n",
       "\\item 'MUAC\\_BIRTH'\n",
       "\\item 'MUAC\\_MEASURE\\_DATE'\n",
       "\\item 'MUAC\\_MEASURE\\_TIME'\n",
       "\\item 'MAT\\_DEATH'\n",
       "\\item 'MAT\\_DEATH\\_DATE'\n",
       "\\item 'VISITDT'\n",
       "\\item 'MAT\\_WEIGHT'\n",
       "\\item 'SBP'\n",
       "\\item 'DBP'\n",
       "\\item 'TEMP'\n",
       "\\item 'PULSE'\n",
       "\\item 'FUNDAL\\_HEIGHT'\n",
       "\\item 'VAG\\_BLEED'\n",
       "\\item 'SWELL\\_ANKLE'\n",
       "\\item 'DATE\\_USG'\n",
       "\\item 'CRL'\n",
       "\\item 'HC'\n",
       "\\item 'AC'\n",
       "\\item 'BPD'\n",
       "\\item 'FL'\n",
       "\\item 'PPH'\n",
       "\\item 'LABDT'\n",
       "\\item 'HEMO'\n",
       "\\item 'SYPHILIS'\n",
       "\\item 'SYPHILIS\\_METHOD'\n",
       "\\item 'UDIP\\_PROT'\n",
       "\\item 'HBA1C'\n",
       "\\item 'HIV'\n",
       "\\item 'MALARIA'\n",
       "\\item 'MALARIA\\_METHOD'\n",
       "\\item 'CRP'\n",
       "\\item 'AGP'\n",
       "\\item 'CA'\n",
       "\\item 'FER'\n",
       "\\item 'BUN'\n",
       "\\item 'SCR'\n",
       "\\item 'AST'\n",
       "\\item 'ALB'\n",
       "\\item 'TSH'\n",
       "\\item 'RPR'\n",
       "\\item 'SFLT'\n",
       "\\item 'PLGF'\n",
       "\\item 'PAPPA'\n",
       "\\item 'VEGF'\n",
       "\\item 'SITE'\n",
       "\\item 'id'\n",
       "\\item 'GA\\_crl'\n",
       "\\item 'GA\\_hadlock'\n",
       "\\item 'GA\\_weeks'\n",
       "\\end{enumerate*}\n"
      ],
      "text/markdown": [
       "1. 'SITE_CODE'\n",
       "2. 'ORIG_ID'\n",
       "3. 'PARTICIPANT_ID'\n",
       "4. 'PREGNANCY_ID'\n",
       "5. 'BABY_ID'\n",
       "6. 'VDT_ENR'\n",
       "7. 'DATE_LMP'\n",
       "8. 'PW_AGE'\n",
       "9. 'AGE_CAL'\n",
       "10. 'PW_OCCUPATION'\n",
       "11. 'PW_EDUCATION'\n",
       "12. 'FMLY_TYP'\n",
       "13. 'HUS_EDUC'\n",
       "14. 'FMLY_MEMB'\n",
       "15. 'TYP_HOUSE'\n",
       "16. 'ROOMS_HOUSE'\n",
       "17. 'HH_ELECTRICITY'\n",
       "18. 'FUEL_FOR_COOK'\n",
       "19. 'DRINKING_SOURCE'\n",
       "20. 'TOILET'\n",
       "21. 'WEALTH_INDEX'\n",
       "22. 'SNIFF_TOBA'\n",
       "23. 'SNIFF_FREQ'\n",
       "24. 'SMOKE_HIST'\n",
       "25. 'SMOK_YR'\n",
       "26. 'SMOK_TYP'\n",
       "27. 'SMOK_FREQ'\n",
       "28. 'PASSIVE_SMOK'\n",
       "29. 'ALCOHOL'\n",
       "30. 'ALCOHOL_FREQ'\n",
       "31. 'GRAVIDITY'\n",
       "32. 'PARITY'\n",
       "33. 'PREV_MIS'\n",
       "34. 'PREV_SB'\n",
       "35. 'PREV_SB_NO'\n",
       "36. 'PREV_LB'\n",
       "37. 'PREV_PTB'\n",
       "38. 'PREV_PTB_NO'\n",
       "39. 'PREV_PTB_MULTI'\n",
       "40. 'PREV_MULTIP'\n",
       "41. 'PREV_CS'\n",
       "42. 'ALIVE_CHILD'\n",
       "43. 'BIRTH_INTERVAL'\n",
       "44. 'CHRON_HTN'\n",
       "45. 'DIABETES'\n",
       "46. 'TB'\n",
       "47. 'THYROID'\n",
       "48. 'EPILEPSY'\n",
       "49. 'MAT_HEIGHT'\n",
       "50. 'NUM_FETUS'\n",
       "51. 'FETAL_ANOMALIES'\n",
       "52. 'DATE_ANOMALY_SCAN'\n",
       "53. 'CONG_ANOMALIES'\n",
       "54. 'DEL_DATE'\n",
       "55. 'DEL_TIME'\n",
       "56. 'DEL_MODE'\n",
       "57. 'DELIVERY_PLACE'\n",
       "58. 'DELIVERY_CONDBY'\n",
       "59. 'LABOUR_24'\n",
       "60. 'ROM_24'\n",
       "61. 'SPONT_LABOUR'\n",
       "62. 'LABOUR_AUG'\n",
       "63. 'LABOUR_FEVER'\n",
       "64. 'LIQUOR_CLEAR'\n",
       "65. 'LABOUR_HTN'\n",
       "66. 'PREG_OUTCOME'\n",
       "67. 'SINGLE_TWIN'\n",
       "68. 'BIRTH_OUTCOME'\n",
       "69. 'BABY_SEX'\n",
       "70. 'BIRTH_WEIGHT'\n",
       "71. 'BWT_MEASURE_DATE'\n",
       "72. 'BWT_MEASURE_TIME'\n",
       "73. 'HC_BIRTH'\n",
       "74. 'HC_MEASURE_DATE'\n",
       "75. 'HC_MEASURE_TIME'\n",
       "76. 'LENGTH_BIRTH'\n",
       "77. 'LENGTH_MEASURE_DATE'\n",
       "78. 'LENGTH_MEASURE_TIME'\n",
       "79. 'MUAC_BIRTH'\n",
       "80. 'MUAC_MEASURE_DATE'\n",
       "81. 'MUAC_MEASURE_TIME'\n",
       "82. 'MAT_DEATH'\n",
       "83. 'MAT_DEATH_DATE'\n",
       "84. 'VISITDT'\n",
       "85. 'MAT_WEIGHT'\n",
       "86. 'SBP'\n",
       "87. 'DBP'\n",
       "88. 'TEMP'\n",
       "89. 'PULSE'\n",
       "90. 'FUNDAL_HEIGHT'\n",
       "91. 'VAG_BLEED'\n",
       "92. 'SWELL_ANKLE'\n",
       "93. 'DATE_USG'\n",
       "94. 'CRL'\n",
       "95. 'HC'\n",
       "96. 'AC'\n",
       "97. 'BPD'\n",
       "98. 'FL'\n",
       "99. 'PPH'\n",
       "100. 'LABDT'\n",
       "101. 'HEMO'\n",
       "102. 'SYPHILIS'\n",
       "103. 'SYPHILIS_METHOD'\n",
       "104. 'UDIP_PROT'\n",
       "105. 'HBA1C'\n",
       "106. 'HIV'\n",
       "107. 'MALARIA'\n",
       "108. 'MALARIA_METHOD'\n",
       "109. 'CRP'\n",
       "110. 'AGP'\n",
       "111. 'CA'\n",
       "112. 'FER'\n",
       "113. 'BUN'\n",
       "114. 'SCR'\n",
       "115. 'AST'\n",
       "116. 'ALB'\n",
       "117. 'TSH'\n",
       "118. 'RPR'\n",
       "119. 'SFLT'\n",
       "120. 'PLGF'\n",
       "121. 'PAPPA'\n",
       "122. 'VEGF'\n",
       "123. 'SITE'\n",
       "124. 'id'\n",
       "125. 'GA_crl'\n",
       "126. 'GA_hadlock'\n",
       "127. 'GA_weeks'\n",
       "\n",
       "\n"
      ],
      "text/plain": [
       "  [1] \"SITE_CODE\"           \"ORIG_ID\"             \"PARTICIPANT_ID\"     \n",
       "  [4] \"PREGNANCY_ID\"        \"BABY_ID\"             \"VDT_ENR\"            \n",
       "  [7] \"DATE_LMP\"            \"PW_AGE\"              \"AGE_CAL\"            \n",
       " [10] \"PW_OCCUPATION\"       \"PW_EDUCATION\"        \"FMLY_TYP\"           \n",
       " [13] \"HUS_EDUC\"            \"FMLY_MEMB\"           \"TYP_HOUSE\"          \n",
       " [16] \"ROOMS_HOUSE\"         \"HH_ELECTRICITY\"      \"FUEL_FOR_COOK\"      \n",
       " [19] \"DRINKING_SOURCE\"     \"TOILET\"              \"WEALTH_INDEX\"       \n",
       " [22] \"SNIFF_TOBA\"          \"SNIFF_FREQ\"          \"SMOKE_HIST\"         \n",
       " [25] \"SMOK_YR\"             \"SMOK_TYP\"            \"SMOK_FREQ\"          \n",
       " [28] \"PASSIVE_SMOK\"        \"ALCOHOL\"             \"ALCOHOL_FREQ\"       \n",
       " [31] \"GRAVIDITY\"           \"PARITY\"              \"PREV_MIS\"           \n",
       " [34] \"PREV_SB\"             \"PREV_SB_NO\"          \"PREV_LB\"            \n",
       " [37] \"PREV_PTB\"            \"PREV_PTB_NO\"         \"PREV_PTB_MULTI\"     \n",
       " [40] \"PREV_MULTIP\"         \"PREV_CS\"             \"ALIVE_CHILD\"        \n",
       " [43] \"BIRTH_INTERVAL\"      \"CHRON_HTN\"           \"DIABETES\"           \n",
       " [46] \"TB\"                  \"THYROID\"             \"EPILEPSY\"           \n",
       " [49] \"MAT_HEIGHT\"          \"NUM_FETUS\"           \"FETAL_ANOMALIES\"    \n",
       " [52] \"DATE_ANOMALY_SCAN\"   \"CONG_ANOMALIES\"      \"DEL_DATE\"           \n",
       " [55] \"DEL_TIME\"            \"DEL_MODE\"            \"DELIVERY_PLACE\"     \n",
       " [58] \"DELIVERY_CONDBY\"     \"LABOUR_24\"           \"ROM_24\"             \n",
       " [61] \"SPONT_LABOUR\"        \"LABOUR_AUG\"          \"LABOUR_FEVER\"       \n",
       " [64] \"LIQUOR_CLEAR\"        \"LABOUR_HTN\"          \"PREG_OUTCOME\"       \n",
       " [67] \"SINGLE_TWIN\"         \"BIRTH_OUTCOME\"       \"BABY_SEX\"           \n",
       " [70] \"BIRTH_WEIGHT\"        \"BWT_MEASURE_DATE\"    \"BWT_MEASURE_TIME\"   \n",
       " [73] \"HC_BIRTH\"            \"HC_MEASURE_DATE\"     \"HC_MEASURE_TIME\"    \n",
       " [76] \"LENGTH_BIRTH\"        \"LENGTH_MEASURE_DATE\" \"LENGTH_MEASURE_TIME\"\n",
       " [79] \"MUAC_BIRTH\"          \"MUAC_MEASURE_DATE\"   \"MUAC_MEASURE_TIME\"  \n",
       " [82] \"MAT_DEATH\"           \"MAT_DEATH_DATE\"      \"VISITDT\"            \n",
       " [85] \"MAT_WEIGHT\"          \"SBP\"                 \"DBP\"                \n",
       " [88] \"TEMP\"                \"PULSE\"               \"FUNDAL_HEIGHT\"      \n",
       " [91] \"VAG_BLEED\"           \"SWELL_ANKLE\"         \"DATE_USG\"           \n",
       " [94] \"CRL\"                 \"HC\"                  \"AC\"                 \n",
       " [97] \"BPD\"                 \"FL\"                  \"PPH\"                \n",
       "[100] \"LABDT\"               \"HEMO\"                \"SYPHILIS\"           \n",
       "[103] \"SYPHILIS_METHOD\"     \"UDIP_PROT\"           \"HBA1C\"              \n",
       "[106] \"HIV\"                 \"MALARIA\"             \"MALARIA_METHOD\"     \n",
       "[109] \"CRP\"                 \"AGP\"                 \"CA\"                 \n",
       "[112] \"FER\"                 \"BUN\"                 \"SCR\"                \n",
       "[115] \"AST\"                 \"ALB\"                 \"TSH\"                \n",
       "[118] \"RPR\"                 \"SFLT\"                \"PLGF\"               \n",
       "[121] \"PAPPA\"               \"VEGF\"                \"SITE\"               \n",
       "[124] \"id\"                  \"GA_crl\"              \"GA_hadlock\"         \n",
       "[127] \"GA_weeks\"           "
      ]
     },
     "metadata": {},
     "output_type": "display_data"
    },
    {
     "data": {
      "text/html": [
       "<style>\n",
       ".list-inline {list-style: none; margin:0; padding: 0}\n",
       ".list-inline>li {display: inline-block}\n",
       ".list-inline>li:not(:last-child)::after {content: \"\\00b7\"; padding: 0 .5ex}\n",
       "</style>\n",
       "<ol class=list-inline><li>'sample_id'</li><li>'orig_id'</li><li>'site'</li><li>'GA_weeks'</li><li>'molecule'</li><li>'sb_case'</li><li>'non_case'</li><li>'healthy_control'</li><li>'intensity_filled'</li><li>'intensity_fill_log'</li><li>'intensity_fill_log_scaled'</li></ol>\n"
      ],
      "text/latex": [
       "\\begin{enumerate*}\n",
       "\\item 'sample\\_id'\n",
       "\\item 'orig\\_id'\n",
       "\\item 'site'\n",
       "\\item 'GA\\_weeks'\n",
       "\\item 'molecule'\n",
       "\\item 'sb\\_case'\n",
       "\\item 'non\\_case'\n",
       "\\item 'healthy\\_control'\n",
       "\\item 'intensity\\_filled'\n",
       "\\item 'intensity\\_fill\\_log'\n",
       "\\item 'intensity\\_fill\\_log\\_scaled'\n",
       "\\end{enumerate*}\n"
      ],
      "text/markdown": [
       "1. 'sample_id'\n",
       "2. 'orig_id'\n",
       "3. 'site'\n",
       "4. 'GA_weeks'\n",
       "5. 'molecule'\n",
       "6. 'sb_case'\n",
       "7. 'non_case'\n",
       "8. 'healthy_control'\n",
       "9. 'intensity_filled'\n",
       "10. 'intensity_fill_log'\n",
       "11. 'intensity_fill_log_scaled'\n",
       "\n",
       "\n"
      ],
      "text/plain": [
       " [1] \"sample_id\"                 \"orig_id\"                  \n",
       " [3] \"site\"                      \"GA_weeks\"                 \n",
       " [5] \"molecule\"                  \"sb_case\"                  \n",
       " [7] \"non_case\"                  \"healthy_control\"          \n",
       " [9] \"intensity_filled\"          \"intensity_fill_log\"       \n",
       "[11] \"intensity_fill_log_scaled\""
      ]
     },
     "metadata": {},
     "output_type": "display_data"
    },
    {
     "data": {
      "text/html": [
       "<style>\n",
       ".list-inline {list-style: none; margin:0; padding: 0}\n",
       ".list-inline>li {display: inline-block}\n",
       ".list-inline>li:not(:last-child)::after {content: \"\\00b7\"; padding: 0 .5ex}\n",
       "</style>\n",
       "<ol class=list-inline><li>'sample_id'</li><li>'orig_id'</li><li>'site'</li><li>'molecule'</li><li>'sb_case'</li><li>'non_case'</li><li>'healthy_control'</li><li>'intensity_filled'</li><li>'intensity_fill_log'</li><li>'intensity_fill_log_scaled'</li></ol>\n"
      ],
      "text/latex": [
       "\\begin{enumerate*}\n",
       "\\item 'sample\\_id'\n",
       "\\item 'orig\\_id'\n",
       "\\item 'site'\n",
       "\\item 'molecule'\n",
       "\\item 'sb\\_case'\n",
       "\\item 'non\\_case'\n",
       "\\item 'healthy\\_control'\n",
       "\\item 'intensity\\_filled'\n",
       "\\item 'intensity\\_fill\\_log'\n",
       "\\item 'intensity\\_fill\\_log\\_scaled'\n",
       "\\end{enumerate*}\n"
      ],
      "text/markdown": [
       "1. 'sample_id'\n",
       "2. 'orig_id'\n",
       "3. 'site'\n",
       "4. 'molecule'\n",
       "5. 'sb_case'\n",
       "6. 'non_case'\n",
       "7. 'healthy_control'\n",
       "8. 'intensity_filled'\n",
       "9. 'intensity_fill_log'\n",
       "10. 'intensity_fill_log_scaled'\n",
       "\n",
       "\n"
      ],
      "text/plain": [
       " [1] \"sample_id\"                 \"orig_id\"                  \n",
       " [3] \"site\"                      \"molecule\"                 \n",
       " [5] \"sb_case\"                   \"non_case\"                 \n",
       " [7] \"healthy_control\"           \"intensity_filled\"         \n",
       " [9] \"intensity_fill_log\"        \"intensity_fill_log_scaled\""
      ]
     },
     "metadata": {},
     "output_type": "display_data"
    }
   ],
   "source": [
    "colnames(clinical_data)\n",
    "colnames(sample_maternal_data)\n",
    "colnames(sample_cord_data)"
   ]
  },
  {
   "cell_type": "code",
   "execution_count": 80,
   "metadata": {
    "vscode": {
     "languageId": "r"
    }
   },
   "outputs": [
    {
     "name": "stdout",
     "output_type": "stream",
     "text": [
      "[1] \"ORIG_ID\"  \"SITE\"     \"GA_WEEKS\"\n"
     ]
    }
   ],
   "source": [
    "# Ensure column names match\n",
    "colnames(sample_maternal_data) <- toupper(colnames(sample_maternal_data))\n",
    "colnames(clinical_data) <- toupper(colnames(clinical_data))\n",
    "colnames(sample_cord_data) <- toupper(colnames(sample_cord_data))\n",
    "\n",
    "# common columns in both maternal and clinical data\n",
    "common_columns <- intersect(colnames(sample_maternal_data), colnames(clinical_data))\n",
    "print(common_columns)"
   ]
  },
  {
   "cell_type": "markdown",
   "metadata": {},
   "source": [
    "### Duplicate rows"
   ]
  },
  {
   "cell_type": "code",
   "execution_count": 81,
   "metadata": {
    "vscode": {
     "languageId": "r"
    }
   },
   "outputs": [
    {
     "name": "stdout",
     "output_type": "stream",
     "text": [
      "\u001b[90m# A tibble: 0 × 127\u001b[39m\n",
      "\u001b[90m# ℹ 127 variables: SITE_CODE <int>, ORIG_ID <chr>, PARTICIPANT_ID <chr>,\u001b[39m\n",
      "\u001b[90m#   PREGNANCY_ID <int>, BABY_ID <chr>, VDT_ENR <date>, DATE_LMP <date>,\u001b[39m\n",
      "\u001b[90m#   PW_AGE <int>, AGE_CAL <int>, PW_OCCUPATION <int>, PW_EDUCATION <int>,\u001b[39m\n",
      "\u001b[90m#   FMLY_TYP <int>, HUS_EDUC <int>, FMLY_MEMB <int>, TYP_HOUSE <int>,\u001b[39m\n",
      "\u001b[90m#   ROOMS_HOUSE <int>, HH_ELECTRICITY <int>, FUEL_FOR_COOK <int>,\u001b[39m\n",
      "\u001b[90m#   DRINKING_SOURCE <int>, TOILET <int>, WEALTH_INDEX <int>, SNIFF_TOBA <int>,\u001b[39m\n",
      "\u001b[90m#   SNIFF_FREQ <int>, SMOKE_HIST <int>, SMOK_YR <int>, SMOK_TYP <int>, …\u001b[39m\n",
      "Total duplicate rows: 0 \n",
      "Total duplicate rows: 0 \n"
     ]
    }
   ],
   "source": [
    "# Find duplicate rows based on ORIG_ID, SITE, VISITDT and BABY_ID\n",
    "duplicate_rows <- clinical_data %>%\n",
    "  group_by(ORIG_ID, SITE, VISITDT, BABY_ID) %>% \n",
    "  filter(n() > 1) %>% # Keep only rows that appear more than once\n",
    "  ungroup() \n",
    "\n",
    "print(duplicate_rows)\n",
    "cat(\"Total duplicate rows:\", nrow(duplicate_rows), \"\\n\")"
   ]
  },
  {
   "cell_type": "markdown",
   "metadata": {},
   "source": [
    "## Data Distribution"
   ]
  },
  {
   "cell_type": "markdown",
   "metadata": {},
   "source": [
    "### Calculating Participants"
   ]
  },
  {
   "cell_type": "code",
   "execution_count": 82,
   "metadata": {
    "vscode": {
     "languageId": "r"
    }
   },
   "outputs": [
    {
     "name": "stdout",
     "output_type": "stream",
     "text": [
      "Participants in clinical data: 15565 \n",
      "Participants in maternal data: 14535 \n",
      "Participants in cord data: 6783 \n",
      "Participants in maternal data: 14535 \n",
      "Participants in cord data: 6783 \n"
     ]
    }
   ],
   "source": [
    "#Unique count of distinct columns (ORIG_ID, SITE) in both data frames\n",
    "clinical_particip <- clinical_data %>%\n",
    "  distinct(ORIG_ID, SITE) %>%\n",
    "  nrow()\n",
    "\n",
    "maternal_particip <- sample_maternal_data %>%\n",
    "  distinct(ORIG_ID, SITE) %>%\n",
    "  nrow()\n",
    "\n",
    "cord_particip <- sample_cord_data %>%\n",
    "  distinct(ORIG_ID, SITE) %>%\n",
    "  nrow()\n",
    "\n",
    "cat(\"Participants in clinical data:\",clinical_particip,\"\\n\")\n",
    "cat(\"Participants in maternal data:\",maternal_particip,\"\\n\")\n",
    "cat(\"Participants in cord data:\",cord_particip,\"\\n\")"
   ]
  },
  {
   "cell_type": "markdown",
   "metadata": {},
   "source": [
    "#### Count of Maternal participants`s clinical data available or not"
   ]
  },
  {
   "cell_type": "code",
   "execution_count": 83,
   "metadata": {
    "vscode": {
     "languageId": "r"
    }
   },
   "outputs": [
    {
     "name": "stdout",
     "output_type": "stream",
     "text": [
      "Participants (clinical data available): 13510 \n",
      "Participants those clinical data is not present: 1025Participants those clinical data is not present: 1025"
     ]
    }
   ],
   "source": [
    "matching_rows <- suppressMessages(inner_join(\n",
    "    sample_maternal_data %>% distinct(ORIG_ID, SITE),\n",
    "    clinical_data %>% distinct(ORIG_ID, SITE),\n",
    "    relationship = \"many-to-many\"\n",
    ") %>% nrow())\n",
    "\n",
    "# Find records in maternal data that don't match clinical data\n",
    "maternal_no_match <- suppressMessages(anti_join(\n",
    "    sample_maternal_data %>% distinct(ORIG_ID, SITE),\n",
    "    clinical_data %>% distinct(ORIG_ID, SITE)\n",
    ") %>% nrow())\n",
    "\n",
    "cat(\"Participants (clinical data available):\",matching_rows,\"\\n\")\n",
    "cat(\"Participants those clinical data is not present:\", maternal_no_match)"
   ]
  },
  {
   "cell_type": "markdown",
   "metadata": {},
   "source": [
    "#### Count of cord participants`s clinical data available or not"
   ]
  },
  {
   "cell_type": "code",
   "execution_count": 84,
   "metadata": {
    "vscode": {
     "languageId": "r"
    }
   },
   "outputs": [
    {
     "name": "stdout",
     "output_type": "stream",
     "text": [
      "Participants (clinical data available): 6247 \n",
      "Participants whose clinical data is not present: 536 \n",
      "Participants whose clinical data is not present: 536 \n"
     ]
    }
   ],
   "source": [
    "matching_rows <- suppressMessages(inner_join(\n",
    "    sample_cord_data %>% distinct(ORIG_ID, SITE),\n",
    "    clinical_data %>% distinct(ORIG_ID, SITE),\n",
    "    relationship = \"many-to-many\"\n",
    ") %>% nrow())\n",
    "\n",
    "# Find records in cord data that don't match clinical data\n",
    "cord_no_match <- suppressMessages(anti_join(\n",
    "    sample_cord_data %>% distinct(ORIG_ID, SITE),\n",
    "    clinical_data %>% distinct(ORIG_ID, SITE)\n",
    ") %>% nrow())\n",
    "\n",
    "cat(\"Participants (clinical data available):\", matching_rows, \"\\n\")\n",
    "cat(\"Participants whose clinical data is not present:\", cord_no_match, \"\\n\")"
   ]
  },
  {
   "cell_type": "markdown",
   "metadata": {},
   "source": [
    "#### Participants matching in maternal and cord data"
   ]
  },
  {
   "cell_type": "code",
   "execution_count": 85,
   "metadata": {
    "vscode": {
     "languageId": "r"
    }
   },
   "outputs": [
    {
     "name": "stdout",
     "output_type": "stream",
     "text": [
      "Participants available in both data: 6783 \n",
      "Participants (from cord data) not available in maternal data: 0Participants (from cord data) not available in maternal data: 0"
     ]
    }
   ],
   "source": [
    "matching_rows <- suppressMessages(inner_join(\n",
    "    sample_cord_data %>% distinct(ORIG_ID, SITE),\n",
    "    sample_maternal_data %>% distinct(ORIG_ID, SITE),\n",
    "    relationship = \"many-to-many\"\n",
    ") %>% nrow())\n",
    "\n",
    "# Find records in cord data that don't match maternal data\n",
    "maternal_no_match <- suppressMessages(anti_join(\n",
    "    sample_cord_data %>% distinct(ORIG_ID, SITE),\n",
    "    sample_maternal_data %>% distinct(ORIG_ID, SITE)\n",
    ") %>% nrow())\n",
    "\n",
    "cat(\"Participants available in both data:\",matching_rows,\"\\n\")\n",
    "cat(\"Participants (from cord data) not available in maternal data:\", maternal_no_match)"
   ]
  },
  {
   "cell_type": "markdown",
   "metadata": {},
   "source": [
    "#### Formatting in Table"
   ]
  },
  {
   "cell_type": "code",
   "execution_count": 86,
   "metadata": {
    "vscode": {
     "languageId": "r"
    }
   },
   "outputs": [
    {
     "name": "stdout",
     "output_type": "stream",
     "text": [
      "\u001b[90m# A tibble: 3 × 4\u001b[39m\n",
      "  Data          Participants   Rows Columns\n",
      "  \u001b[3m\u001b[90m<chr>\u001b[39m\u001b[23m                \u001b[3m\u001b[90m<int>\u001b[39m\u001b[23m  \u001b[3m\u001b[90m<int>\u001b[39m\u001b[23m   \u001b[3m\u001b[90m<int>\u001b[39m\u001b[23m\n",
      "\u001b[90m1\u001b[39m Clinical data        \u001b[4m1\u001b[24m\u001b[4m5\u001b[24m565 \u001b[4m1\u001b[24m\u001b[4m0\u001b[24m\u001b[4m5\u001b[24m009     127\n",
      "\u001b[90m2\u001b[39m Maternal data        \u001b[4m1\u001b[24m\u001b[4m4\u001b[24m535  \u001b[4m5\u001b[24m\u001b[4m3\u001b[24m582      11\n",
      "\u001b[90m3\u001b[39m Cord data             \u001b[4m6\u001b[24m783  \u001b[4m1\u001b[24m\u001b[4m3\u001b[24m580      10\n"
     ]
    }
   ],
   "source": [
    "# Create a data frame\n",
    "data_table <- data.frame(\n",
    "  Data = c(\"Clinical data\", \"Maternal data\", \"Cord data\"),\n",
    "  Participants = c(clinical_particip, maternal_particip, cord_particip),\n",
    "  Rows = c(nrow(clinical_data), nrow(sample_maternal_data), nrow(sample_cord_data)),\n",
    "  Columns = c(ncol(clinical_data), ncol(sample_maternal_data), ncol(sample_cord_data)),\n",
    "  stringsAsFactors = FALSE # Avoid automatic factor conversion\n",
    ")\n",
    "\n",
    "# Convert the data frame to a tibble\n",
    "data_table_tibble <- as_tibble(data_table)\n",
    "\n",
    "# Print the tibble\n",
    "print(data_table_tibble)"
   ]
  },
  {
   "cell_type": "markdown",
   "metadata": {},
   "source": [
    "### Discrepancy between clinical and metabolomics datasets"
   ]
  },
  {
   "cell_type": "markdown",
   "metadata": {},
   "source": [
    "#### Maternal sample data"
   ]
  },
  {
   "cell_type": "code",
   "execution_count": 87,
   "metadata": {
    "vscode": {
     "languageId": "r"
    }
   },
   "outputs": [
    {
     "name": "stdout",
     "output_type": "stream",
     "text": [
      "Maternal sample data: \n",
      "Total records in sample_maternal_data: 14535 \n",
      "Records not present in clinical_data (Sample only): 1025 \n",
      "Total records in sample_maternal_data: 14535 \n",
      "Records not present in clinical_data (Sample only): 1025 \n"
     ]
    }
   ],
   "source": [
    "# Participants in maternal data\n",
    "total_maternal <- sample_maternal_data %>% distinct(ORIG_ID, SITE) %>% nrow()\n",
    "\n",
    "# Find records in maternal sample data that don't match clinical data\n",
    "overall_maternal_no_match <- suppressMessages(anti_join(\n",
    "    sample_maternal_data %>% distinct(ORIG_ID, SITE),\n",
    "    clinical_data %>% distinct(ORIG_ID, SITE)\n",
    ") %>% nrow())\n",
    "\n",
    "cat(\"Maternal sample data:\", \"\\n\")\n",
    "cat(\"Total records in sample_maternal_data:\", total_maternal, \"\\n\")\n",
    "cat(\"Records not present in clinical_data (Sample only):\", overall_maternal_no_match, \"\\n\")"
   ]
  },
  {
   "cell_type": "markdown",
   "metadata": {},
   "source": [
    "#### Clinical data"
   ]
  },
  {
   "cell_type": "code",
   "execution_count": 88,
   "metadata": {
    "vscode": {
     "languageId": "r"
    }
   },
   "outputs": [
    {
     "name": "stdout",
     "output_type": "stream",
     "text": [
      "Clinical data: \n",
      "Total records in clinical data: 15565 \n",
      "Records not present in sample data (Clinical only): 2055 \n",
      "Total records in clinical data: 15565 \n",
      "Records not present in sample data (Clinical only): 2055 \n"
     ]
    }
   ],
   "source": [
    "# Participants in clinical data\n",
    "total_clinical <- clinical_data %>% distinct(ORIG_ID, SITE) %>% nrow()\n",
    "\n",
    "# Find records in clinical data that don't match maternal sample data\n",
    "overall_clinical_no_match <- suppressMessages(anti_join(\n",
    "    clinical_data %>% distinct(ORIG_ID, SITE),\n",
    "    sample_maternal_data %>% distinct(ORIG_ID, SITE)\n",
    ") %>% nrow())\n",
    "\n",
    "cat(\"Clinical data:\", \"\\n\")\n",
    "cat(\"Total records in clinical data:\", total_clinical, \"\\n\")\n",
    "cat(\"Records not present in sample data (Clinical only):\", overall_clinical_no_match, \"\\n\")"
   ]
  },
  {
   "cell_type": "markdown",
   "metadata": {},
   "source": [
    "#### Sample and clinical"
   ]
  },
  {
   "cell_type": "code",
   "execution_count": 89,
   "metadata": {
    "vscode": {
     "languageId": "r"
    }
   },
   "outputs": [
    {
     "name": "stdout",
     "output_type": "stream",
     "text": [
      "Matching Data Analysis:\n",
      "Total matching records: 13510 \n",
      "Total matching records: 13510 \n"
     ]
    }
   ],
   "source": [
    "# Find matching records between sample_maternal_data and clinical_data\n",
    "matching_data <- inner_join(\n",
    "    sample_maternal_data,\n",
    "    clinical_data,\n",
    "    by = c(\"SITE\", \"ORIG_ID\"),\n",
    "    relationship = \"many-to-many\"\n",
    ")  %>%\n",
    "distinct(SITE, ORIG_ID)\n",
    "\n",
    "sample_clinical <- nrow(matching_data)\n",
    "\n",
    "cat(\"Matching Data Analysis:\\n\")\n",
    "cat(\"Total matching records:\", sample_clinical, \"\\n\")"
   ]
  },
  {
   "cell_type": "markdown",
   "metadata": {},
   "source": [
    "#### Total "
   ]
  },
  {
   "cell_type": "code",
   "execution_count": 90,
   "metadata": {
    "vscode": {
     "languageId": "r"
    }
   },
   "outputs": [
    {
     "name": "stdout",
     "output_type": "stream",
     "text": [
      "Matching Data Analysis:\n",
      "Total matching records (distinct SITE and ORIG_ID): 16590 \n",
      "Total matching records (distinct SITE and ORIG_ID): 16590 \n"
     ]
    }
   ],
   "source": [
    "# full outer join to get total data in Sample and Clinical\n",
    "total_data <- full_join(\n",
    "    sample_maternal_data,\n",
    "    clinical_data,\n",
    "    by = c(\"SITE\", \"ORIG_ID\"),\n",
    "    relationship = \"many-to-many\"\n",
    ") %>%\n",
    "distinct(SITE, ORIG_ID)\n",
    "\n",
    "# Calculate total matches\n",
    "total_matches <- nrow(total_data)\n",
    "\n",
    "# Display matching analysis\n",
    "cat(\"Matching Data Analysis:\\n\")\n",
    "cat(\"Total matching records (distinct SITE and ORIG_ID):\", total_matches, \"\\n\")"
   ]
  },
  {
   "cell_type": "markdown",
   "metadata": {},
   "source": [
    "#### Discrepancy BY SITES"
   ]
  },
  {
   "cell_type": "code",
   "execution_count": 91,
   "metadata": {
    "vscode": {
     "languageId": "r"
    }
   },
   "outputs": [
    {
     "name": "stdout",
     "output_type": "stream",
     "text": [
      "\n",
      "Analysis for AMANHIB :\n",
      "Maternal Data:\n",
      "Total distinct records: 2553 \n",
      "Records not in clinical data (Sample only): 0 \n",
      "Clinical Data:\n",
      "Total distinct records: 3000 \n",
      "Records not in maternal data (Clinical only): 447 \n",
      "Matching Records (Sample and Clinical): 2553 \n",
      "TOtal distinct records in both Sample and Clinical: 3000 \n",
      "----------------------------------------\n",
      "\n",
      "Analysis for AMANHIP :\n",
      "Maternal Data:\n",
      "Total distinct records: 2342 \n",
      "Records not in clinical data (Sample only): 0 \n",
      "Clinical Data:\n",
      "Total distinct records: 2500 \n",
      "Records not in maternal data (Clinical only): 158 \n",
      "Matching Records (Sample and Clinical): 2342 \n",
      "TOtal distinct records in both Sample and Clinical: 2500 \n",
      "----------------------------------------\n",
      "\n",
      "Analysis for GAPPSB :\n",
      "Maternal Data:\n",
      "Total distinct records: 3522 \n",
      "Records not in clinical data (Sample only): 0 \n",
      "Clinical Data:\n",
      "Total distinct records: 3644 \n",
      "Records not in maternal data (Clinical only): 122 \n",
      "Matching Records (Sample and Clinical): 3522 \n",
      "TOtal distinct records in both Sample and Clinical: 3644 \n",
      "----------------------------------------\n",
      "\n",
      "Analysis for AMANHIT :\n",
      "Maternal Data:\n",
      "Total distinct records: 4046 \n",
      "Records not in clinical data (Sample only): 0 \n",
      "Clinical Data:\n",
      "Total distinct records: 4501 \n",
      "Records not in maternal data (Clinical only): 455 \n",
      "Matching Records (Sample and Clinical): 4046 \n",
      "TOtal distinct records in both Sample and Clinical: 4501 \n",
      "----------------------------------------\n",
      "\n",
      "Analysis for ZAPPS :\n",
      "Maternal Data:\n",
      "Total distinct records: 2072 \n",
      "Records not in clinical data (Sample only): 1025 \n",
      "Clinical Data:\n",
      "Total distinct records: 1450 \n",
      "Records not in maternal data (Clinical only): 403 \n",
      "Matching Records (Sample and Clinical): 1047 \n",
      "TOtal distinct records in both Sample and Clinical: 2475 \n",
      "----------------------------------------\n",
      "\n",
      "Analysis for THSTI :\n",
      "Maternal Data:\n",
      "Total distinct records: 0 \n",
      "Records not in clinical data (Sample only): 0 \n",
      "Clinical Data:\n",
      "Total distinct records: 470 \n",
      "Records not in maternal data (Clinical only): 470 \n",
      "Matching Records (Sample and Clinical): 0 \n",
      "TOtal distinct records in both Sample and Clinical: 470 \n",
      "----------------------------------------\n"
     ]
    }
   ],
   "source": [
    "# Get unique SITE values\n",
    "sites <- unique(c(sample_maternal_data$SITE, clinical_data$SITE))\n",
    "\n",
    "sample_only <- c()\n",
    "clinical_only <- c()\n",
    "sample_and_clinical <- c()\n",
    "total <- c()\n",
    "\n",
    "# Create analysis for each site\n",
    "for(site in sites) {\n",
    "    # Filter data for current site\n",
    "    maternal_site <- sample_maternal_data %>% \n",
    "        filter(SITE == site) %>% \n",
    "        distinct(ORIG_ID, SITE)\n",
    "    \n",
    "    clinical_site <- clinical_data %>% \n",
    "        filter(SITE == site) %>% \n",
    "        distinct(ORIG_ID, SITE)\n",
    "    \n",
    "    # Calculate statistics\n",
    "    total_maternal <- nrow(maternal_site)\n",
    "    total_clinical <- nrow(clinical_site)\n",
    "    \n",
    "    # Find unmatched records (suppress join messages)\n",
    "    maternal_no_match <- suppressMessages(\n",
    "        anti_join(maternal_site, clinical_site) %>% nrow()\n",
    "    )\n",
    "    clinical_no_match <- suppressMessages(\n",
    "        anti_join(clinical_site, maternal_site) %>% nrow()\n",
    "    )\n",
    "    \n",
    "    # Find matching records (suppress join message)\n",
    "    matching <- suppressMessages(\n",
    "        inner_join(maternal_site, clinical_site) %>% nrow()\n",
    "    )\n",
    "\n",
    "    # Total distinct records in both datasets\n",
    "    total_matching <- suppressMessages(\n",
    "        full_join(maternal_site, clinical_site) %>% nrow())\n",
    "    \n",
    "    # Display results for current site\n",
    "    cat(\"\\nAnalysis for\", site, \":\\n\")\n",
    "      # Append site only if it is not already in sites\n",
    "    if (!(site %in% sites)) {\n",
    "        sites <- c(sites, site)\n",
    "    }\n",
    "    cat(\"Maternal Data:\\n\")\n",
    "    cat(\"Total distinct records:\", total_maternal, \"\\n\")\n",
    "    cat(\"Records not in clinical data (Sample only):\", maternal_no_match, \"\\n\")\n",
    "    sample_only <- c(sample_only, maternal_no_match)\n",
    "    \n",
    "    cat(\"Clinical Data:\\n\")\n",
    "    cat(\"Total distinct records:\", total_clinical, \"\\n\")\n",
    "    cat(\"Records not in maternal data (Clinical only):\", clinical_no_match, \"\\n\")\n",
    "    clinical_only <- c(clinical_only, clinical_no_match)\n",
    "    \n",
    "    cat(\"Matching Records (Sample and Clinical):\", matching, \"\\n\")\n",
    "    sample_and_clinical <- c(sample_and_clinical, matching)\n",
    "    cat(\"TOtal distinct records in both Sample and Clinical:\", total_matching, \"\\n\")\n",
    "    total <- c(total, total_matching)\n",
    "    cat(\"----------------------------------------\\n\")\n",
    "}"
   ]
  },
  {
   "cell_type": "markdown",
   "metadata": {},
   "source": [
    "#### Formatting in Table"
   ]
  },
  {
   "cell_type": "code",
   "execution_count": 92,
   "metadata": {
    "vscode": {
     "languageId": "r"
    }
   },
   "outputs": [
    {
     "name": "stdout",
     "output_type": "stream",
     "text": [
      "\u001b[90m# A tibble: 7 × 5\u001b[39m\n",
      "  sites   sample_only clinical_only sample_and_clinical total\n",
      "  \u001b[3m\u001b[90m<chr>\u001b[39m\u001b[23m         \u001b[3m\u001b[90m<int>\u001b[39m\u001b[23m         \u001b[3m\u001b[90m<int>\u001b[39m\u001b[23m               \u001b[3m\u001b[90m<int>\u001b[39m\u001b[23m \u001b[3m\u001b[90m<int>\u001b[39m\u001b[23m\n",
      "\u001b[90m1\u001b[39m AMANHIB           0           447                \u001b[4m2\u001b[24m553  \u001b[4m3\u001b[24m000\n",
      "\u001b[90m2\u001b[39m AMANHIP           0           158                \u001b[4m2\u001b[24m342  \u001b[4m2\u001b[24m500\n",
      "\u001b[90m3\u001b[39m GAPPSB            0           122                \u001b[4m3\u001b[24m522  \u001b[4m3\u001b[24m644\n",
      "\u001b[90m4\u001b[39m AMANHIT           0           455                \u001b[4m4\u001b[24m046  \u001b[4m4\u001b[24m501\n",
      "\u001b[90m5\u001b[39m ZAPPS          \u001b[4m1\u001b[24m025           403                \u001b[4m1\u001b[24m047  \u001b[4m2\u001b[24m475\n",
      "\u001b[90m6\u001b[39m THSTI             0           470                   0   470\n",
      "\u001b[90m7\u001b[39m OVERALL        \u001b[4m1\u001b[24m025          \u001b[4m2\u001b[24m055               \u001b[4m1\u001b[24m\u001b[4m3\u001b[24m510 \u001b[4m1\u001b[24m\u001b[4m6\u001b[24m590\n"
     ]
    }
   ],
   "source": [
    "# Create a data frame using the vectors\n",
    "data_table <- data.frame(\n",
    "  sites = c(sites, \"OVERALL\"),\n",
    "  sample_only = c(sample_only, overall_maternal_no_match),\n",
    "  clinical_only = c(clinical_only, overall_clinical_no_match),\n",
    "  sample_and_clinical = c(sample_and_clinical, sample_clinical),\n",
    "  total = c(total, total_matches)\n",
    ")\n",
    "\n",
    "# Convert the data frame to a tibble\n",
    "data_table_tibble <- as_tibble(data_table)\n",
    "\n",
    "# Print the tibble\n",
    "print(data_table_tibble)"
   ]
  },
  {
   "cell_type": "markdown",
   "metadata": {},
   "source": [
    "### Visit wise clinical data distribution"
   ]
  },
  {
   "cell_type": "code",
   "execution_count": 93,
   "metadata": {
    "vscode": {
     "languageId": "r"
    }
   },
   "outputs": [
    {
     "name": "stdout",
     "output_type": "stream",
     "text": [
      "\u001b[90m# A tibble: 0 × 4\u001b[39m\n",
      "\u001b[90m# ℹ 4 variables: ORIG_ID <chr>, SITE <chr>, VISITDT <date>, BABY_ID <chr>\u001b[39m\n"
     ]
    }
   ],
   "source": [
    "# Find duplicate rows based on ORIG_ID, SITE, and VISITDT\n",
    "duplicate_rows <- clinical_data %>%\n",
    "  group_by(ORIG_ID, SITE, VISITDT, BABY_ID) %>% # Group by the unique key columns\n",
    "  filter(n() > 1) %>% # Keep only rows that appear more than once\n",
    "  ungroup() %>% # Remove grouping\n",
    "  select(ORIG_ID, SITE, VISITDT, BABY_ID) # Select only the relevant columns\n",
    "\n",
    "# Print the duplicate rows\n",
    "print(duplicate_rows)"
   ]
  },
  {
   "cell_type": "markdown",
   "metadata": {},
   "source": [
    "#### Adding Visit column in Clinical Data"
   ]
  },
  {
   "cell_type": "code",
   "execution_count": 94,
   "metadata": {
    "vscode": {
     "languageId": "r"
    }
   },
   "outputs": [],
   "source": [
    "# Add a visit_number column to clinical_data\n",
    "clinical_data <- clinical_data %>%\n",
    "  select(ORIG_ID, SITE, VISITDT, BABY_ID, everything()) %>% # Ensure VISITDT is included\n",
    "  group_by(ORIG_ID, SITE, BABY_ID) %>% # Group by unique key columns\n",
    "  arrange(VISITDT, .by_group = TRUE) %>% # Arrange VISITDT in ascending order for each group\n",
    "  mutate(visit_number = row_number()) %>% # Assign visit numbers based on the order of VISITDT\n",
    "  ungroup() # Remove grouping"
   ]
  },
  {
   "cell_type": "code",
   "execution_count": 95,
   "metadata": {
    "vscode": {
     "languageId": "r"
    }
   },
   "outputs": [
    {
     "name": "stdout",
     "output_type": "stream",
     "text": [
      "Visit 1 : 15780 \n",
      "Visit 2 : 15487 \n",
      "Visit 3 : 15269 \n",
      "Visit 4 : 14934 \n"
     ]
    }
   ],
   "source": [
    "# Initialize an empty list to store visit statistics\n",
    "visit <- list()\n",
    "\n",
    "# Loop through visits 1 to 4\n",
    "for (i in 1:4) {\n",
    "  # Filter data for the current visit\n",
    "  visits <- clinical_data %>% filter(visit_number == i)\n",
    "  \n",
    "  # Print the number of participants for the current visit\n",
    "  cat(\"Visit\", i, \":\", nrow(visits), \"\\n\")\n",
    "  \n",
    "  # If there are no rows for the current visit, skip the statistics calculation\n",
    "  if (nrow(visits) == 0) {\n",
    "    visit[[i]] <- list(\n",
    "      participants = 0,\n",
    "      min_max = \"No data\",\n",
    "      mean_sd = \"No data\",\n",
    "      median_iqr = \"No data\"\n",
    "    )\n",
    "    next\n",
    "  }\n",
    "  \n",
    "  # Calculate statistics for GA_WEEKS\n",
    "  min_val <- min(visits$GA_WEEKS, na.rm = TRUE)\n",
    "  max_val <- max(visits$GA_WEEKS, na.rm = TRUE)\n",
    "  mean_val <- mean(visits$GA_WEEKS, na.rm = TRUE)\n",
    "  sd_val <- sd(visits$GA_WEEKS, na.rm = TRUE)\n",
    "  median_val <- median(visits$GA_WEEKS, na.rm = TRUE)\n",
    "  q1 <- quantile(visits$GA_WEEKS, 0.25, na.rm = TRUE) # 25th percentile\n",
    "  q3 <- quantile(visits$GA_WEEKS, 0.75, na.rm = TRUE) # 75th percentile\n",
    "  \n",
    "  # Store statistics in the desired format\n",
    "  visit[[i]] <- list(\n",
    "    participants = nrow(visits),\n",
    "    min_max = paste(round(min_val, 0), round(max_val, 0), sep = \", \"),\n",
    "    mean_sd = paste(round(mean_val, 0), \"(\", round(sd_val, 0), \")\", sep = \"\"),\n",
    "    median_iqr = paste(round(median_val, 0), \"(\", round(q1, 0), \"-\", round(q3, 0), \")\", sep = \"\")\n",
    "  )\n",
    "}"
   ]
  },
  {
   "cell_type": "markdown",
   "metadata": {},
   "source": [
    "#### Formatting in Table"
   ]
  },
  {
   "cell_type": "code",
   "execution_count": 96,
   "metadata": {
    "vscode": {
     "languageId": "r"
    }
   },
   "outputs": [
    {
     "name": "stdout",
     "output_type": "stream",
     "text": [
      "\u001b[90m# A tibble: 4 × 5\u001b[39m\n",
      "  total                 visit1    visit2    visit3    visit4   \n",
      "  \u001b[3m\u001b[90m<chr>\u001b[39m\u001b[23m                 \u001b[3m\u001b[90m<chr>\u001b[39m\u001b[23m     \u001b[3m\u001b[90m<chr>\u001b[39m\u001b[23m     \u001b[3m\u001b[90m<chr>\u001b[39m\u001b[23m     \u001b[3m\u001b[90m<chr>\u001b[39m\u001b[23m    \n",
      "\u001b[90m1\u001b[39m Participants (N)      15780     15487     15269     14934    \n",
      "\u001b[90m2\u001b[39m GA (WEEKS) MIN, MAX   6, 29     6, 36     6, 37     9, 39    \n",
      "\u001b[90m3\u001b[39m GA WEEKS Mean(SD)     14(3)     18(5)     28(5)     32(3)    \n",
      "\u001b[90m4\u001b[39m GA WEEKS Median (IQR) 13(11-16) 21(14-22) 29(27-31) 32(31-33)\n"
     ]
    }
   ],
   "source": [
    "# Initialize the data frame with the first column\n",
    "data_table <- data.frame(\n",
    "  total = c(\"Participants (N)\", \"GA (WEEKS) MIN, MAX\", \"GA WEEKS Mean(SD)\", \"GA WEEKS Median (IQR)\")\n",
    ")\n",
    "\n",
    "# Loop through the visits and add columns dynamically\n",
    "for (i in 1:4) {\n",
    "  if (!is.null(visit[[i]])) {\n",
    "    data_table[[paste0(\"visit\", i)]] <- c(\n",
    "      visit[[i]]$participants, # Number of participants\n",
    "      visit[[i]]$min_max, # Min, Max\n",
    "      visit[[i]]$mean_sd, # Mean(SD)\n",
    "      visit[[i]]$median_iqr # Median(IQR)\n",
    "    )\n",
    "  } else {\n",
    "    data_table[[paste0(\"visit\", i)]] <- c(\"No data\", \"No data\", \"No data\", \"No data\")\n",
    "  }\n",
    "}\n",
    "\n",
    "# Convert the data frame to a tibble\n",
    "data_table_tibble <- as_tibble(data_table)\n",
    "\n",
    "# Print the tibble\n",
    "print(data_table_tibble)"
   ]
  },
  {
   "cell_type": "markdown",
   "metadata": {},
   "source": [
    "### Distribution of GA by Visit"
   ]
  },
  {
   "cell_type": "code",
   "execution_count": 97,
   "metadata": {
    "vscode": {
     "languageId": "r"
    }
   },
   "outputs": [
    {
     "data": {
      "image/png": "[encoded data removed]",
      "text/plain": [
       "plot without title"
      ]
     },
     "metadata": {
      "image/png": {
       "height": 420,
       "width": 420
      }
     },
     "output_type": "display_data"
    }
   ],
   "source": [
    "plots <- list()\n",
    "\n",
    "for (i in 1:4) {\n",
    "  visit <- clinical_data %>% filter(visit_number == i, !is.na(GA_WEEKS))\n",
    "  \n",
    "  p <- ggplot(data = visit, aes(x = GA_WEEKS)) +\n",
    "    geom_histogram(binwidth = 1, fill = \"blue\", color = \"black\") +\n",
    "    labs(\n",
    "      title = paste(\"Distribution of GA by Visit\", i),\n",
    "      x = \"Gestational Age WEEKS\",\n",
    "      y = \"Frequency\"\n",
    "    ) +\n",
    "    theme_minimal()\n",
    "  \n",
    "  # Add the plot to the list\n",
    "  plots[[i]] <- p\n",
    "}\n",
    "\n",
    "# Combine all plots using patchwork\n",
    "combined_plot <- plots[[1]] + plots[[2]] + plots[[3]] + plots[[4]] + \n",
    "  plot_layout(ncol = 2) # Arrange plots in 2 columns\n",
    "\n",
    "print(combined_plot)"
   ]
  },
  {
   "cell_type": "markdown",
   "metadata": {},
   "source": [
    "### Trimester wise maternal sample distribution"
   ]
  },
  {
   "cell_type": "markdown",
   "metadata": {},
   "source": [
    "#### Adding Trimester Column"
   ]
  },
  {
   "cell_type": "code",
   "execution_count": 108,
   "metadata": {
    "vscode": {
     "languageId": "r"
    }
   },
   "outputs": [
    {
     "data": {
      "text/html": [
       "<style>\n",
       ".list-inline {list-style: none; margin:0; padding: 0}\n",
       ".list-inline>li {display: inline-block}\n",
       ".list-inline>li:not(:last-child)::after {content: \"\\00b7\"; padding: 0 .5ex}\n",
       "</style>\n",
       "<ol class=list-inline><li>&lt;NA&gt;</li><li>2</li><li>&lt;NA&gt;</li><li>&lt;NA&gt;</li><li>&lt;NA&gt;</li><li>&lt;NA&gt;</li></ol>\n"
      ],
      "text/latex": [
       "\\begin{enumerate*}\n",
       "\\item <NA>\n",
       "\\item 2\n",
       "\\item <NA>\n",
       "\\item <NA>\n",
       "\\item <NA>\n",
       "\\item <NA>\n",
       "\\end{enumerate*}\n"
      ],
      "text/markdown": [
       "1. &lt;NA&gt;\n",
       "2. 2\n",
       "3. &lt;NA&gt;\n",
       "4. &lt;NA&gt;\n",
       "5. &lt;NA&gt;\n",
       "6. &lt;NA&gt;\n",
       "\n",
       "\n"
      ],
      "text/plain": [
       "[1] NA  2 NA NA NA NA"
      ]
     },
     "metadata": {},
     "output_type": "display_data"
    }
   ],
   "source": [
    "# Add a trimester column to clinical_data\n",
    "clinical_data <- clinical_data %>%\n",
    "  mutate(\n",
    "    TRIMESTER = case_when(\n",
    "      is.na(GA_WEEKS) ~ NA_integer_,  # Handle missing values\n",
    "      GA_WEEKS < 14 ~ 1,  # First trimester\n",
    "      GA_WEEKS < 28 ~ 2,  # Second trimester\n",
    "      TRUE ~ 3            # Third trimester\n",
    "    )\n",
    "  )\n",
    "\n",
    "# Display the first few rows to verify\n",
    "head(clinical_data$TRIMESTER)"
   ]
  },
  {
   "cell_type": "code",
   "execution_count": 109,
   "metadata": {
    "vscode": {
     "languageId": "r"
    }
   },
   "outputs": [
    {
     "data": {
      "text/html": [
       "<table class=\"dataframe\">\n",
       "<caption>A tibble: 6 × 2</caption>\n",
       "<thead>\n",
       "\t<tr><th scope=col>GA_WEEKS</th><th scope=col>TRIMESTER</th></tr>\n",
       "\t<tr><th scope=col>&lt;dbl&gt;</th><th scope=col>&lt;dbl&gt;</th></tr>\n",
       "</thead>\n",
       "<tbody>\n",
       "\t<tr><td>      NA</td><td>NA</td></tr>\n",
       "\t<tr><td>17.06247</td><td> 2</td></tr>\n",
       "\t<tr><td>      NA</td><td>NA</td></tr>\n",
       "\t<tr><td>      NA</td><td>NA</td></tr>\n",
       "\t<tr><td>      NA</td><td>NA</td></tr>\n",
       "\t<tr><td>      NA</td><td>NA</td></tr>\n",
       "</tbody>\n",
       "</table>\n"
      ],
      "text/latex": [
       "A tibble: 6 × 2\n",
       "\\begin{tabular}{ll}\n",
       " GA\\_WEEKS & TRIMESTER\\\\\n",
       " <dbl> & <dbl>\\\\\n",
       "\\hline\n",
       "\t       NA & NA\\\\\n",
       "\t 17.06247 &  2\\\\\n",
       "\t       NA & NA\\\\\n",
       "\t       NA & NA\\\\\n",
       "\t       NA & NA\\\\\n",
       "\t       NA & NA\\\\\n",
       "\\end{tabular}\n"
      ],
      "text/markdown": [
       "\n",
       "A tibble: 6 × 2\n",
       "\n",
       "| GA_WEEKS &lt;dbl&gt; | TRIMESTER &lt;dbl&gt; |\n",
       "|---|---|\n",
       "|       NA | NA |\n",
       "| 17.06247 |  2 |\n",
       "|       NA | NA |\n",
       "|       NA | NA |\n",
       "|       NA | NA |\n",
       "|       NA | NA |\n",
       "\n"
      ],
      "text/plain": [
       "  GA_WEEKS TRIMESTER\n",
       "1       NA NA       \n",
       "2 17.06247  2       \n",
       "3       NA NA       \n",
       "4       NA NA       \n",
       "5       NA NA       \n",
       "6       NA NA       "
      ]
     },
     "metadata": {},
     "output_type": "display_data"
    }
   ],
   "source": [
    "clinical_data %>%\n",
    "  select(GA_WEEKS, TRIMESTER) %>%\n",
    "  head()"
   ]
  },
  {
   "cell_type": "markdown",
   "metadata": {},
   "source": [
    "## Removing NA values"
   ]
  },
  {
   "cell_type": "code",
   "execution_count": 72,
   "metadata": {
    "vscode": {
     "languageId": "r"
    }
   },
   "outputs": [
    {
     "name": "stdout",
     "output_type": "stream",
     "text": [
      "NA count in ORIG_ID : 0 \n",
      "NA count in SITE : 0 \n",
      "NA count in GA_WEEKS : 77783 \n"
     ]
    }
   ],
   "source": [
    "columns <- c(\"ORIG_ID\", \"SITE\", \"GA_WEEKS\")\n",
    "\n",
    "for(col in columns) {\n",
    "    cat(\"NA count in\", col, \":\", sum(is.na(clinical_data[[col]])), \"\\n\")\n",
    "}"
   ]
  },
  {
   "cell_type": "code",
   "execution_count": null,
   "metadata": {
    "vscode": {
     "languageId": "r"
    }
   },
   "outputs": [
    {
     "name": "stdout",
     "output_type": "stream",
     "text": [
      "Original dimensions: 27226 rows, 127 columns\n",
      "After filtering: 27226 rows, 127 columns\n",
      "Rows removed: 0 \n",
      "\n",
      "Missing values:\n",
      "GA_WEEKS: 0 \n"
     ]
    }
   ],
   "source": [
    "# Store original dimensions\n",
    "orig_dim <- dim(clinical_data)\n",
    "\n",
    "# Filter out rows with missing values in key columns\n",
    "clinical_data <- clinical_data %>%\n",
    "  filter(!is.na(GA_WEEKS))\n",
    "\n",
    "# Display filtering results\n",
    "cat(\"Original dimensions:\", orig_dim[1], \"rows,\", orig_dim[2], \"columns\\n\")\n",
    "cat(\"After filtering:\", nrow(clinical_data), \"rows,\", ncol(clinical_data), \"columns\\n\")\n",
    "cat(\"Rows removed:\", orig_dim[1] - nrow(clinical_data), \"\\n\")\n",
    "\n",
    "# Verify no missing values in key columns\n",
    "cat(\"\\nMissing values:\\n\")\n",
    "cat(\"GA_WEEKS:\", sum(is.na(clinical_data$GA_WEEKS)), \"\\n\")"
   ]
  },
  {
   "cell_type": "code",
   "execution_count": null,
   "metadata": {
    "vscode": {
     "languageId": "r"
    }
   },
   "outputs": [
    {
     "name": "stdout",
     "output_type": "stream",
     "text": [
      "NA count in ORIG_ID : 0 \n",
      "NA count in SITE : 0 \n",
      "NA count in GA_WEEKS : 0 \n"
     ]
    }
   ],
   "source": [
    "columns <- c(\"ORIG_ID\", \"SITE\", \"GA_WEEKS\")\n",
    "\n",
    "for(col in columns) {\n",
    "    cat(\"NA count in\", col, \":\", sum(is.na(clinical_data[[col]])), \"\\n\")\n",
    "}"
   ]
  },
  {
   "cell_type": "markdown",
   "metadata": {},
   "source": [
    "## Merging clinical and sample data"
   ]
  },
  {
   "cell_type": "markdown",
   "metadata": {},
   "source": [
    "#### Changing Data Types of both Dataframes"
   ]
  },
  {
   "cell_type": "code",
   "execution_count": null,
   "metadata": {
    "vscode": {
     "languageId": "r"
    }
   },
   "outputs": [
    {
     "name": "stdout",
     "output_type": "stream",
     "text": [
      "Sample data:\n"
     ]
    },
    {
     "name": "stderr",
     "output_type": "stream",
     "text": [
      "Warning message:\n",
      "\"Unknown or uninitialised column: `ORIG_ID`.\"\n"
     ]
    },
    {
     "name": "stdout",
     "output_type": "stream",
     "text": [
      "ORIG_ID types: NULL \n"
     ]
    },
    {
     "name": "stderr",
     "output_type": "stream",
     "text": [
      "Warning message:\n",
      "\"Unknown or uninitialised column: `SITE`.\"\n"
     ]
    },
    {
     "name": "stdout",
     "output_type": "stream",
     "text": [
      "SITE types: NULL \n"
     ]
    },
    {
     "name": "stderr",
     "output_type": "stream",
     "text": [
      "Warning message:\n",
      "\"Unknown or uninitialised column: `GA_WEEKS`.\"\n"
     ]
    },
    {
     "name": "stdout",
     "output_type": "stream",
     "text": [
      "GA_WEEKS types: NULL \n",
      "\n",
      "Clinical data:\n",
      "ORIG_ID types: character \n",
      "SITE types: character \n",
      "GA_WEEKS types: numeric \n"
     ]
    }
   ],
   "source": [
    "# Check data types\n",
    "cat(\"Sample data:\\n\")\n",
    "cat(\"ORIG_ID types:\", class(sample_maternal_data$ORIG_ID), \"\\n\")\n",
    "cat(\"SITE types:\", class(sample_maternal_data$SITE), \"\\n\")\n",
    "cat(\"GA_WEEKS types:\", class(sample_maternal_data$GA_WEEKS), \"\\n\")\n",
    "\n",
    "cat(\"\\nClinical data:\\n\")\n",
    "cat(\"ORIG_ID types:\", class(clinical_data$ORIG_ID), \"\\n\")\n",
    "cat(\"SITE types:\", class(clinical_data$SITE), \"\\n\")\n",
    "cat(\"GA_WEEKS types:\", class(clinical_data$GA_WEEKS), \"\\n\")"
   ]
  },
  {
   "cell_type": "code",
   "execution_count": null,
   "metadata": {
    "vscode": {
     "languageId": "r"
    }
   },
   "outputs": [
    {
     "ename": "ERROR",
     "evalue": "\u001b[1m\u001b[33mError\u001b[39m in `mutate()`:\u001b[22m\n\u001b[1m\u001b[22m\u001b[36mℹ\u001b[39m In argument: `ORIG_ID = as.character(ORIG_ID)`.\n\u001b[1mCaused by error:\u001b[22m\n\u001b[33m!\u001b[39m object 'ORIG_ID' not found\n",
     "output_type": "error",
     "traceback": [
      "\u001b[1m\u001b[33mError\u001b[39m in `mutate()`:\u001b[22m\n\u001b[1m\u001b[22m\u001b[36mℹ\u001b[39m In argument: `ORIG_ID = as.character(ORIG_ID)`.\n\u001b[1mCaused by error:\u001b[22m\n\u001b[33m!\u001b[39m object 'ORIG_ID' not found\nTraceback:\n",
      "1. mutate(., ORIG_ID = as.character(ORIG_ID), SITE = as.character(SITE), \n .     GA_WEEKS = as.numeric(GA_WEEKS))",
      "2. mutate.data.frame(., ORIG_ID = as.character(ORIG_ID), SITE = as.character(SITE), \n .     GA_WEEKS = as.numeric(GA_WEEKS))",
      "3. mutate_cols(.data, dplyr_quosures(...), by)",
      "4. withCallingHandlers(for (i in seq_along(dots)) {\n .     poke_error_context(dots, i, mask = mask)\n .     context_poke(\"column\", old_current_column)\n .     new_columns <- mutate_col(dots[[i]], data, mask, new_columns)\n . }, error = dplyr_error_handler(dots = dots, mask = mask, bullets = mutate_bullets, \n .     error_call = error_call, error_class = \"dplyr:::mutate_error\"), \n .     warning = dplyr_warning_handler(state = warnings_state, mask = mask, \n .         error_call = error_call))",
      "5. mutate_col(dots[[i]], data, mask, new_columns)",
      "6. mask$eval_all_mutate(quo)",
      "7. eval()",
      "8. .handleSimpleError(function (cnd) \n . {\n .     local_error_context(dots, i = frame[[i_sym]], mask = mask)\n .     if (inherits(cnd, \"dplyr:::internal_error\")) {\n .         parent <- error_cnd(message = bullets(cnd))\n .     }\n .     else {\n .         parent <- cnd\n .     }\n .     message <- c(cnd_bullet_header(action), i = if (has_active_group_context(mask)) cnd_bullet_cur_group_label())\n .     abort(message, class = error_class, parent = parent, call = error_call)\n . }, \"object 'ORIG_ID' not found\", base::quote(NULL))",
      "9. h(simpleError(msg, call))",
      "10. abort(message, class = error_class, parent = parent, call = error_call)",
      "11. signal_abort(cnd, .file)",
      "12. signalCondition(cnd)"
     ]
    }
   ],
   "source": [
    "# Convert columns to same type in both dataframes\n",
    "sample_maternal_data <- sample_maternal_data %>%\n",
    "  mutate(\n",
    "    ORIG_ID = as.character(ORIG_ID),\n",
    "    SITE = as.character(SITE),\n",
    "    GA_WEEKS = as.numeric(GA_WEEKS)\n",
    "  )\n",
    "\n",
    "clinical_data <- clinical_data %>%\n",
    "  mutate(\n",
    "    ORIG_ID = as.character(ORIG_ID),\n",
    "    SITE = as.character(SITE),\n",
    "    GA_WEEKS = as.numeric(GA_WEEKS)\n",
    "  )\n",
    "\n",
    "  # Check data types\n",
    "cat(\"Sample data:\\n\")\n",
    "cat(\"ORIG_ID types:\", class(sample_maternal_data$ORIG_ID), \"\\n\")\n",
    "cat(\"SITE types:\", class(sample_maternal_data$SITE), \"\\n\")\n",
    "cat(\"GA_WEEKS types:\", class(sample_maternal_data$GA_WEEKS), \"\\n\")\n",
    "\n",
    "cat(\"\\nClinical data:\\n\")\n",
    "cat(\"ORIG_ID types:\", class(clinical_data$ORIG_ID), \"\\n\")\n",
    "cat(\"SITE types:\", class(clinical_data$SITE), \"\\n\")\n",
    "cat(\"GA_WEEKS types:\", class(clinical_data$GA_WEEKS), \"\\n\")"
   ]
  },
  {
   "cell_type": "markdown",
   "metadata": {},
   "source": [
    "#### Removing Unwanted spaces"
   ]
  },
  {
   "cell_type": "code",
   "execution_count": null,
   "metadata": {
    "vscode": {
     "languageId": "r"
    }
   },
   "outputs": [],
   "source": [
    "# Check for any case differences or leading/trailing spaces\n",
    "clinical_data <- clinical_data %>%\n",
    "  mutate(\n",
    "    ORIG_ID = trimws(ORIG_ID),\n",
    "    SITE = trimws(SITE),\n",
    "    GA_WEEKS = round(GA_WEEKS, 2)  # Round to 2 decimal places\n",
    "  )\n",
    "\n",
    "sample_maternal_data <- sample_maternal_data %>%\n",
    "  mutate(\n",
    "    ORIG_ID = trimws(ORIG_ID),\n",
    "    SITE = trimws(SITE),\n",
    "    GA_WEEKS = round(GA_WEEKS, 2)  # Round to 2 decimal places\n",
    "  )"
   ]
  },
  {
   "cell_type": "markdown",
   "metadata": {},
   "source": [
    "#### Left Join"
   ]
  },
  {
   "cell_type": "code",
   "execution_count": null,
   "metadata": {
    "vscode": {
     "languageId": "r"
    }
   },
   "outputs": [
    {
     "data": {
      "text/html": [
       "<style>\n",
       ".list-inline {list-style: none; margin:0; padding: 0}\n",
       ".list-inline>li {display: inline-block}\n",
       ".list-inline>li:not(:last-child)::after {content: \"\\00b7\"; padding: 0 .5ex}\n",
       "</style>\n",
       "<ol class=list-inline><li>27226</li><li>127</li></ol>\n"
      ],
      "text/latex": [
       "\\begin{enumerate*}\n",
       "\\item 27226\n",
       "\\item 127\n",
       "\\end{enumerate*}\n"
      ],
      "text/markdown": [
       "1. 27226\n",
       "2. 127\n",
       "\n",
       "\n"
      ],
      "text/plain": [
       "[1] 27226   127"
      ]
     },
     "metadata": {},
     "output_type": "display_data"
    }
   ],
   "source": [
    "dim(clinical_data)"
   ]
  },
  {
   "cell_type": "code",
   "execution_count": null,
   "metadata": {
    "vscode": {
     "languageId": "r"
    }
   },
   "outputs": [
    {
     "name": "stdout",
     "output_type": "stream",
     "text": [
      "Dimensions of datasets:\n",
      "Clinical data: 27226 127 \n",
      "Sample maternal data: 53582 11 \n",
      "Merged data: 27412 135 \n"
     ]
    }
   ],
   "source": [
    "# Perform left join\n",
    "leftjoin_data <- merge(\n",
    "    x = clinical_data,\n",
    "    y = sample_maternal_data,\n",
    "    by = c(\"ORIG_ID\", \"SITE\", \"GA_WEEKS\"),\n",
    "    all.x = TRUE    # Keep all rows from clinical_data\n",
    ")\n",
    "\n",
    "# Display dimensions and summary\n",
    "cat(\"Dimensions of datasets:\\n\")\n",
    "cat(\"Clinical data:\", dim(clinical_data), \"\\n\")\n",
    "cat(\"Sample maternal data:\", dim(sample_maternal_data), \"\\n\")\n",
    "cat(\"Merged data:\", dim(leftjoin_data), \"\\n\")"
   ]
  },
  {
   "cell_type": "code",
   "execution_count": null,
   "metadata": {
    "vscode": {
     "languageId": "r"
    }
   },
   "outputs": [
    {
     "name": "stdout",
     "output_type": "stream",
     "text": [
      "NA values in SB_CASE in maternal data: 0 \n"
     ]
    }
   ],
   "source": [
    "cat(\"NA values in SB_CASE in maternal data:\", sum(is.na(sample_maternal_data$SB_CASE)), \"\\n\")"
   ]
  },
  {
   "cell_type": "code",
   "execution_count": null,
   "metadata": {
    "vscode": {
     "languageId": "r"
    }
   },
   "outputs": [
    {
     "name": "stdout",
     "output_type": "stream",
     "text": [
      "Total rows: 27412 \n",
      "NA values in merged data in SB_CASE: 27040 \n",
      "Non-NA values in merged data in SB_CASE: 372 \n"
     ]
    }
   ],
   "source": [
    "cat(\"Total rows:\", nrow(leftjoin_data), \"\\n\")\n",
    "cat(\"NA values in merged data in SB_CASE:\", sum(is.na(leftjoin_data$SB_CASE)), \"\\n\")\n",
    "cat(\"Non-NA values in merged data in SB_CASE:\", nrow(leftjoin_data) - sum(is.na(leftjoin_data$SB_CASE)), \"\\n\")"
   ]
  },
  {
   "cell_type": "markdown",
   "metadata": {},
   "source": [
    "#### Inner Join"
   ]
  },
  {
   "cell_type": "code",
   "execution_count": null,
   "metadata": {
    "vscode": {
     "languageId": "r"
    }
   },
   "outputs": [
    {
     "name": "stdout",
     "output_type": "stream",
     "text": [
      "Dimensions of datasets:\n",
      "Clinical data: 27226 127 \n",
      "Sample maternal data: 53582 11 \n",
      "Matched data: 372 135 \n"
     ]
    },
    {
     "data": {
      "text/html": [
       "<table class=\"dataframe\">\n",
       "<caption>A tibble: 6 × 135</caption>\n",
       "<thead>\n",
       "\t<tr><th scope=col>SITE_CODE</th><th scope=col>ORIG_ID</th><th scope=col>PARTICIPANT_ID</th><th scope=col>PREGNANCY_ID</th><th scope=col>BABY_ID</th><th scope=col>VDT_ENR</th><th scope=col>DATE_LMP</th><th scope=col>PW_AGE</th><th scope=col>AGE_CAL</th><th scope=col>PW_OCCUPATION</th><th scope=col>⋯</th><th scope=col>GA_HADLOCK</th><th scope=col>GA_WEEKS</th><th scope=col>SAMPLE_ID</th><th scope=col>MOLECULE</th><th scope=col>SB_CASE</th><th scope=col>NON_CASE</th><th scope=col>HEALTHY_CONTROL</th><th scope=col>INTENSITY_FILLED</th><th scope=col>INTENSITY_FILL_LOG</th><th scope=col>INTENSITY_FILL_LOG_SCALED</th></tr>\n",
       "\t<tr><th scope=col>&lt;int&gt;</th><th scope=col>&lt;chr&gt;</th><th scope=col>&lt;chr&gt;</th><th scope=col>&lt;int&gt;</th><th scope=col>&lt;chr&gt;</th><th scope=col>&lt;date&gt;</th><th scope=col>&lt;date&gt;</th><th scope=col>&lt;int&gt;</th><th scope=col>&lt;int&gt;</th><th scope=col>&lt;int&gt;</th><th scope=col>⋯</th><th scope=col>&lt;dbl&gt;</th><th scope=col>&lt;dbl&gt;</th><th scope=col>&lt;chr&gt;</th><th scope=col>&lt;chr&gt;</th><th scope=col>&lt;lgl&gt;</th><th scope=col>&lt;lgl&gt;</th><th scope=col>&lt;lgl&gt;</th><th scope=col>&lt;dbl&gt;</th><th scope=col>&lt;dbl&gt;</th><th scope=col>&lt;dbl&gt;</th></tr>\n",
       "</thead>\n",
       "<tbody>\n",
       "\t<tr><td>1</td><td>30-000044</td><td>ZAPPS-000044</td><td>1</td><td>ZAPPS-000044-1</td><td>2015-09-11</td><td>2015-07-15</td><td>31</td><td>1</td><td> 0</td><td>⋯</td><td>     NA</td><td> 8</td><td>30-00389-06</td><td>allopregnanolone sulfate/pregnanolone sulfate</td><td>FALSE</td><td>TRUE</td><td>FALSE</td><td> 7750</td><td>12.91998</td><td>-0.3808195970</td></tr>\n",
       "\t<tr><td>1</td><td>30-000044</td><td>ZAPPS-000044</td><td>1</td><td>ZAPPS-000044-1</td><td>2015-09-11</td><td>2015-07-15</td><td>31</td><td>1</td><td> 0</td><td>⋯</td><td>     NA</td><td> 8</td><td>30-00389-06</td><td>pregnenolone sulfate                         </td><td>FALSE</td><td>TRUE</td><td>FALSE</td><td> 1099</td><td>10.10198</td><td>-0.5979207688</td></tr>\n",
       "\t<tr><td>1</td><td>30-000048</td><td>ZAPPS-000048</td><td>1</td><td>ZAPPS-000048-1</td><td>2015-09-14</td><td>2015-07-20</td><td>29</td><td>1</td><td> 1</td><td>⋯</td><td>     NA</td><td> 8</td><td>30-00370-05</td><td>allopregnanolone sulfate/pregnanolone sulfate</td><td>FALSE</td><td>TRUE</td><td> TRUE</td><td>10461</td><td>13.35273</td><td>-0.0017304196</td></tr>\n",
       "\t<tr><td>1</td><td>30-000048</td><td>ZAPPS-000048</td><td>1</td><td>ZAPPS-000048-1</td><td>2015-09-14</td><td>2015-07-20</td><td>29</td><td>1</td><td> 1</td><td>⋯</td><td>     NA</td><td> 8</td><td>30-00370-05</td><td>pregnenolone sulfate                         </td><td>FALSE</td><td>TRUE</td><td> TRUE</td><td> 1864</td><td>10.86419</td><td>-0.0004796354</td></tr>\n",
       "\t<tr><td>1</td><td>30-000230</td><td>ZAPPS-000230</td><td>1</td><td>ZAPPS-000230-1</td><td>2016-02-08</td><td>2015-10-13</td><td>30</td><td>1</td><td>NA</td><td>⋯</td><td>32.0012</td><td>32</td><td>30-06109-05</td><td>allopregnanolone sulfate/pregnanolone sulfate</td><td>FALSE</td><td>TRUE</td><td>FALSE</td><td> 3402</td><td>11.73217</td><td>-1.4213382783</td></tr>\n",
       "\t<tr><td>1</td><td>30-000230</td><td>ZAPPS-000230</td><td>1</td><td>ZAPPS-000230-1</td><td>2016-02-08</td><td>2015-10-13</td><td>30</td><td>1</td><td>NA</td><td>⋯</td><td>32.0012</td><td>32</td><td>30-06109-05</td><td>pregnenolone sulfate                         </td><td>FALSE</td><td>TRUE</td><td>FALSE</td><td>  985</td><td> 9.94398</td><td>-0.7217621055</td></tr>\n",
       "</tbody>\n",
       "</table>\n"
      ],
      "text/latex": [
       "A tibble: 6 × 135\n",
       "\\begin{tabular}{lllllllllllllllllllll}\n",
       " SITE\\_CODE & ORIG\\_ID & PARTICIPANT\\_ID & PREGNANCY\\_ID & BABY\\_ID & VDT\\_ENR & DATE\\_LMP & PW\\_AGE & AGE\\_CAL & PW\\_OCCUPATION & ⋯ & GA\\_HADLOCK & GA\\_WEEKS & SAMPLE\\_ID & MOLECULE & SB\\_CASE & NON\\_CASE & HEALTHY\\_CONTROL & INTENSITY\\_FILLED & INTENSITY\\_FILL\\_LOG & INTENSITY\\_FILL\\_LOG\\_SCALED\\\\\n",
       " <int> & <chr> & <chr> & <int> & <chr> & <date> & <date> & <int> & <int> & <int> & ⋯ & <dbl> & <dbl> & <chr> & <chr> & <lgl> & <lgl> & <lgl> & <dbl> & <dbl> & <dbl>\\\\\n",
       "\\hline\n",
       "\t 1 & 30-000044 & ZAPPS-000044 & 1 & ZAPPS-000044-1 & 2015-09-11 & 2015-07-15 & 31 & 1 &  0 & ⋯ &      NA &  8 & 30-00389-06 & allopregnanolone sulfate/pregnanolone sulfate & FALSE & TRUE & FALSE &  7750 & 12.91998 & -0.3808195970\\\\\n",
       "\t 1 & 30-000044 & ZAPPS-000044 & 1 & ZAPPS-000044-1 & 2015-09-11 & 2015-07-15 & 31 & 1 &  0 & ⋯ &      NA &  8 & 30-00389-06 & pregnenolone sulfate                          & FALSE & TRUE & FALSE &  1099 & 10.10198 & -0.5979207688\\\\\n",
       "\t 1 & 30-000048 & ZAPPS-000048 & 1 & ZAPPS-000048-1 & 2015-09-14 & 2015-07-20 & 29 & 1 &  1 & ⋯ &      NA &  8 & 30-00370-05 & allopregnanolone sulfate/pregnanolone sulfate & FALSE & TRUE &  TRUE & 10461 & 13.35273 & -0.0017304196\\\\\n",
       "\t 1 & 30-000048 & ZAPPS-000048 & 1 & ZAPPS-000048-1 & 2015-09-14 & 2015-07-20 & 29 & 1 &  1 & ⋯ &      NA &  8 & 30-00370-05 & pregnenolone sulfate                          & FALSE & TRUE &  TRUE &  1864 & 10.86419 & -0.0004796354\\\\\n",
       "\t 1 & 30-000230 & ZAPPS-000230 & 1 & ZAPPS-000230-1 & 2016-02-08 & 2015-10-13 & 30 & 1 & NA & ⋯ & 32.0012 & 32 & 30-06109-05 & allopregnanolone sulfate/pregnanolone sulfate & FALSE & TRUE & FALSE &  3402 & 11.73217 & -1.4213382783\\\\\n",
       "\t 1 & 30-000230 & ZAPPS-000230 & 1 & ZAPPS-000230-1 & 2016-02-08 & 2015-10-13 & 30 & 1 & NA & ⋯ & 32.0012 & 32 & 30-06109-05 & pregnenolone sulfate                          & FALSE & TRUE & FALSE &   985 &  9.94398 & -0.7217621055\\\\\n",
       "\\end{tabular}\n"
      ],
      "text/markdown": [
       "\n",
       "A tibble: 6 × 135\n",
       "\n",
       "| SITE_CODE &lt;int&gt; | ORIG_ID &lt;chr&gt; | PARTICIPANT_ID &lt;chr&gt; | PREGNANCY_ID &lt;int&gt; | BABY_ID &lt;chr&gt; | VDT_ENR &lt;date&gt; | DATE_LMP &lt;date&gt; | PW_AGE &lt;int&gt; | AGE_CAL &lt;int&gt; | PW_OCCUPATION &lt;int&gt; | ⋯ ⋯ | GA_HADLOCK &lt;dbl&gt; | GA_WEEKS &lt;dbl&gt; | SAMPLE_ID &lt;chr&gt; | MOLECULE &lt;chr&gt; | SB_CASE &lt;lgl&gt; | NON_CASE &lt;lgl&gt; | HEALTHY_CONTROL &lt;lgl&gt; | INTENSITY_FILLED &lt;dbl&gt; | INTENSITY_FILL_LOG &lt;dbl&gt; | INTENSITY_FILL_LOG_SCALED &lt;dbl&gt; |\n",
       "|---|---|---|---|---|---|---|---|---|---|---|---|---|---|---|---|---|---|---|---|---|\n",
       "| 1 | 30-000044 | ZAPPS-000044 | 1 | ZAPPS-000044-1 | 2015-09-11 | 2015-07-15 | 31 | 1 |  0 | ⋯ |      NA |  8 | 30-00389-06 | allopregnanolone sulfate/pregnanolone sulfate | FALSE | TRUE | FALSE |  7750 | 12.91998 | -0.3808195970 |\n",
       "| 1 | 30-000044 | ZAPPS-000044 | 1 | ZAPPS-000044-1 | 2015-09-11 | 2015-07-15 | 31 | 1 |  0 | ⋯ |      NA |  8 | 30-00389-06 | pregnenolone sulfate                          | FALSE | TRUE | FALSE |  1099 | 10.10198 | -0.5979207688 |\n",
       "| 1 | 30-000048 | ZAPPS-000048 | 1 | ZAPPS-000048-1 | 2015-09-14 | 2015-07-20 | 29 | 1 |  1 | ⋯ |      NA |  8 | 30-00370-05 | allopregnanolone sulfate/pregnanolone sulfate | FALSE | TRUE |  TRUE | 10461 | 13.35273 | -0.0017304196 |\n",
       "| 1 | 30-000048 | ZAPPS-000048 | 1 | ZAPPS-000048-1 | 2015-09-14 | 2015-07-20 | 29 | 1 |  1 | ⋯ |      NA |  8 | 30-00370-05 | pregnenolone sulfate                          | FALSE | TRUE |  TRUE |  1864 | 10.86419 | -0.0004796354 |\n",
       "| 1 | 30-000230 | ZAPPS-000230 | 1 | ZAPPS-000230-1 | 2016-02-08 | 2015-10-13 | 30 | 1 | NA | ⋯ | 32.0012 | 32 | 30-06109-05 | allopregnanolone sulfate/pregnanolone sulfate | FALSE | TRUE | FALSE |  3402 | 11.73217 | -1.4213382783 |\n",
       "| 1 | 30-000230 | ZAPPS-000230 | 1 | ZAPPS-000230-1 | 2016-02-08 | 2015-10-13 | 30 | 1 | NA | ⋯ | 32.0012 | 32 | 30-06109-05 | pregnenolone sulfate                          | FALSE | TRUE | FALSE |   985 |  9.94398 | -0.7217621055 |\n",
       "\n"
      ],
      "text/plain": [
       "  SITE_CODE ORIG_ID   PARTICIPANT_ID PREGNANCY_ID BABY_ID        VDT_ENR   \n",
       "1 1         30-000044 ZAPPS-000044   1            ZAPPS-000044-1 2015-09-11\n",
       "2 1         30-000044 ZAPPS-000044   1            ZAPPS-000044-1 2015-09-11\n",
       "3 1         30-000048 ZAPPS-000048   1            ZAPPS-000048-1 2015-09-14\n",
       "4 1         30-000048 ZAPPS-000048   1            ZAPPS-000048-1 2015-09-14\n",
       "5 1         30-000230 ZAPPS-000230   1            ZAPPS-000230-1 2016-02-08\n",
       "6 1         30-000230 ZAPPS-000230   1            ZAPPS-000230-1 2016-02-08\n",
       "  DATE_LMP   PW_AGE AGE_CAL PW_OCCUPATION ⋯ GA_HADLOCK GA_WEEKS SAMPLE_ID  \n",
       "1 2015-07-15 31     1        0            ⋯      NA     8       30-00389-06\n",
       "2 2015-07-15 31     1        0            ⋯      NA     8       30-00389-06\n",
       "3 2015-07-20 29     1        1            ⋯      NA     8       30-00370-05\n",
       "4 2015-07-20 29     1        1            ⋯      NA     8       30-00370-05\n",
       "5 2015-10-13 30     1       NA            ⋯ 32.0012    32       30-06109-05\n",
       "6 2015-10-13 30     1       NA            ⋯ 32.0012    32       30-06109-05\n",
       "  MOLECULE                                      SB_CASE NON_CASE\n",
       "1 allopregnanolone sulfate/pregnanolone sulfate FALSE   TRUE    \n",
       "2 pregnenolone sulfate                          FALSE   TRUE    \n",
       "3 allopregnanolone sulfate/pregnanolone sulfate FALSE   TRUE    \n",
       "4 pregnenolone sulfate                          FALSE   TRUE    \n",
       "5 allopregnanolone sulfate/pregnanolone sulfate FALSE   TRUE    \n",
       "6 pregnenolone sulfate                          FALSE   TRUE    \n",
       "  HEALTHY_CONTROL INTENSITY_FILLED INTENSITY_FILL_LOG INTENSITY_FILL_LOG_SCALED\n",
       "1 FALSE            7750            12.91998           -0.3808195970            \n",
       "2 FALSE            1099            10.10198           -0.5979207688            \n",
       "3  TRUE           10461            13.35273           -0.0017304196            \n",
       "4  TRUE            1864            10.86419           -0.0004796354            \n",
       "5 FALSE            3402            11.73217           -1.4213382783            \n",
       "6 FALSE             985             9.94398           -0.7217621055            "
      ]
     },
     "metadata": {},
     "output_type": "display_data"
    }
   ],
   "source": [
    "# Perform inner join to get only matching records\n",
    "matched_data <- inner_join(clinical_data,sample_maternal_data,\n",
    "                by = c(\"ORIG_ID\", \"SITE\", \"GA_WEEKS\"))\n",
    "\n",
    "# Display dimensions and summary\n",
    "cat(\"Dimensions of datasets:\\n\")\n",
    "cat(\"Clinical data:\", dim(clinical_data), \"\\n\")\n",
    "cat(\"Sample maternal data:\", dim(sample_maternal_data), \"\\n\")\n",
    "cat(\"Matched data:\", dim(matched_data), \"\\n\")\n",
    "\n",
    "head(matched_data)"
   ]
  },
  {
   "cell_type": "code",
   "execution_count": null,
   "metadata": {
    "vscode": {
     "languageId": "r"
    }
   },
   "outputs": [],
   "source": []
  }
 ],
 "metadata": {
  "kernelspec": {
   "display_name": "R",
   "language": "R",
   "name": "ir"
  },
  "language_info": {
   "codemirror_mode": "r",
   "file_extension": ".r",
   "mimetype": "text/x-r-source",
   "name": "R",
   "pygments_lexer": "r",
   "version": "4.4.3"
  }
 },
 "nbformat": 4,
 "nbformat_minor": 2
}
