{
 "cells": [
  {
   "cell_type": "markdown",
   "metadata": {},
   "source": [
    "## MOMI Data Analysis"
   ]
  },
  {
   "cell_type": "markdown",
   "metadata": {},
   "source": [
    "### Loading Required Libraries"
   ]
  },
  {
   "cell_type": "code",
   "execution_count": 19,
   "metadata": {
    "vscode": {
     "languageId": "r"
    }
   },
   "outputs": [],
   "source": [
    "# Load required packages\n",
    "library(readxl)\n",
    "library(dplyr)\n",
    "library(tidyr)\n",
    "library(ggplot2)\n",
    "library(tibble)\n",
    "#library(skimr)\n",
    "library(patchwork)"
   ]
  },
  {
   "cell_type": "markdown",
   "metadata": {},
   "source": [
    "### Importing MOMI Data"
   ]
  },
  {
   "cell_type": "code",
   "execution_count": 20,
   "metadata": {
    "vscode": {
     "languageId": "r"
    }
   },
   "outputs": [
    {
     "data": {
      "text/html": [
       "<table class=\"dataframe\">\n",
       "<caption>A tibble: 6 × 10</caption>\n",
       "<thead>\n",
       "\t<tr><th scope=col>sample_id</th><th scope=col>orig_id</th><th scope=col>site</th><th scope=col>molecule</th><th scope=col>sb_case</th><th scope=col>non_case</th><th scope=col>healthy_control</th><th scope=col>intensity_filled</th><th scope=col>intensity_fill_log</th><th scope=col>intensity_fill_log_scaled</th></tr>\n",
       "\t<tr><th scope=col>&lt;chr&gt;</th><th scope=col>&lt;chr&gt;</th><th scope=col>&lt;chr&gt;</th><th scope=col>&lt;chr&gt;</th><th scope=col>&lt;lgl&gt;</th><th scope=col>&lt;lgl&gt;</th><th scope=col>&lt;lgl&gt;</th><th scope=col>&lt;dbl&gt;</th><th scope=col>&lt;dbl&gt;</th><th scope=col>&lt;dbl&gt;</th></tr>\n",
       "</thead>\n",
       "<tbody>\n",
       "\t<tr><td>11CB0000101</td><td>106006</td><td>AMANHIB</td><td>allopregnanolone sulfate/pregnanolone sulfate</td><td>FALSE</td><td>TRUE</td><td> TRUE</td><td>14118.23</td><td>13.78527</td><td>-1.3363408</td></tr>\n",
       "\t<tr><td>11CB0000101</td><td>106006</td><td>AMANHIB</td><td>pregnenolone sulfate                         </td><td>FALSE</td><td>TRUE</td><td> TRUE</td><td>25222.12</td><td>14.62240</td><td>-0.2150055</td></tr>\n",
       "\t<tr><td>11CB0000201</td><td>107028</td><td>AMANHIB</td><td>allopregnanolone sulfate/pregnanolone sulfate</td><td>FALSE</td><td>TRUE</td><td>FALSE</td><td>14950.39</td><td>13.86790</td><td>-1.1808550</td></tr>\n",
       "\t<tr><td>11CB0000201</td><td>107028</td><td>AMANHIB</td><td>pregnenolone sulfate                         </td><td>FALSE</td><td>TRUE</td><td>FALSE</td><td>33301.87</td><td>15.02332</td><td> 0.3812567</td></tr>\n",
       "\t<tr><td>11CB0000301</td><td>72274 </td><td>AMANHIB</td><td>allopregnanolone sulfate/pregnanolone sulfate</td><td>FALSE</td><td>TRUE</td><td> TRUE</td><td>18505.24</td><td>14.17565</td><td>-0.6017139</td></tr>\n",
       "\t<tr><td>11CB0000301</td><td>72274 </td><td>AMANHIB</td><td>pregnenolone sulfate                         </td><td>FALSE</td><td>TRUE</td><td> TRUE</td><td>18637.72</td><td>14.18594</td><td>-0.8641404</td></tr>\n",
       "</tbody>\n",
       "</table>\n"
      ],
      "text/latex": [
       "A tibble: 6 × 10\n",
       "\\begin{tabular}{llllllllll}\n",
       " sample\\_id & orig\\_id & site & molecule & sb\\_case & non\\_case & healthy\\_control & intensity\\_filled & intensity\\_fill\\_log & intensity\\_fill\\_log\\_scaled\\\\\n",
       " <chr> & <chr> & <chr> & <chr> & <lgl> & <lgl> & <lgl> & <dbl> & <dbl> & <dbl>\\\\\n",
       "\\hline\n",
       "\t 11CB0000101 & 106006 & AMANHIB & allopregnanolone sulfate/pregnanolone sulfate & FALSE & TRUE &  TRUE & 14118.23 & 13.78527 & -1.3363408\\\\\n",
       "\t 11CB0000101 & 106006 & AMANHIB & pregnenolone sulfate                          & FALSE & TRUE &  TRUE & 25222.12 & 14.62240 & -0.2150055\\\\\n",
       "\t 11CB0000201 & 107028 & AMANHIB & allopregnanolone sulfate/pregnanolone sulfate & FALSE & TRUE & FALSE & 14950.39 & 13.86790 & -1.1808550\\\\\n",
       "\t 11CB0000201 & 107028 & AMANHIB & pregnenolone sulfate                          & FALSE & TRUE & FALSE & 33301.87 & 15.02332 &  0.3812567\\\\\n",
       "\t 11CB0000301 & 72274  & AMANHIB & allopregnanolone sulfate/pregnanolone sulfate & FALSE & TRUE &  TRUE & 18505.24 & 14.17565 & -0.6017139\\\\\n",
       "\t 11CB0000301 & 72274  & AMANHIB & pregnenolone sulfate                          & FALSE & TRUE &  TRUE & 18637.72 & 14.18594 & -0.8641404\\\\\n",
       "\\end{tabular}\n"
      ],
      "text/markdown": [
       "\n",
       "A tibble: 6 × 10\n",
       "\n",
       "| sample_id &lt;chr&gt; | orig_id &lt;chr&gt; | site &lt;chr&gt; | molecule &lt;chr&gt; | sb_case &lt;lgl&gt; | non_case &lt;lgl&gt; | healthy_control &lt;lgl&gt; | intensity_filled &lt;dbl&gt; | intensity_fill_log &lt;dbl&gt; | intensity_fill_log_scaled &lt;dbl&gt; |\n",
       "|---|---|---|---|---|---|---|---|---|---|\n",
       "| 11CB0000101 | 106006 | AMANHIB | allopregnanolone sulfate/pregnanolone sulfate | FALSE | TRUE |  TRUE | 14118.23 | 13.78527 | -1.3363408 |\n",
       "| 11CB0000101 | 106006 | AMANHIB | pregnenolone sulfate                          | FALSE | TRUE |  TRUE | 25222.12 | 14.62240 | -0.2150055 |\n",
       "| 11CB0000201 | 107028 | AMANHIB | allopregnanolone sulfate/pregnanolone sulfate | FALSE | TRUE | FALSE | 14950.39 | 13.86790 | -1.1808550 |\n",
       "| 11CB0000201 | 107028 | AMANHIB | pregnenolone sulfate                          | FALSE | TRUE | FALSE | 33301.87 | 15.02332 |  0.3812567 |\n",
       "| 11CB0000301 | 72274  | AMANHIB | allopregnanolone sulfate/pregnanolone sulfate | FALSE | TRUE |  TRUE | 18505.24 | 14.17565 | -0.6017139 |\n",
       "| 11CB0000301 | 72274  | AMANHIB | pregnenolone sulfate                          | FALSE | TRUE |  TRUE | 18637.72 | 14.18594 | -0.8641404 |\n",
       "\n"
      ],
      "text/plain": [
       "  sample_id   orig_id site    molecule                                     \n",
       "1 11CB0000101 106006  AMANHIB allopregnanolone sulfate/pregnanolone sulfate\n",
       "2 11CB0000101 106006  AMANHIB pregnenolone sulfate                         \n",
       "3 11CB0000201 107028  AMANHIB allopregnanolone sulfate/pregnanolone sulfate\n",
       "4 11CB0000201 107028  AMANHIB pregnenolone sulfate                         \n",
       "5 11CB0000301 72274   AMANHIB allopregnanolone sulfate/pregnanolone sulfate\n",
       "6 11CB0000301 72274   AMANHIB pregnenolone sulfate                         \n",
       "  sb_case non_case healthy_control intensity_filled intensity_fill_log\n",
       "1 FALSE   TRUE      TRUE           14118.23         13.78527          \n",
       "2 FALSE   TRUE      TRUE           25222.12         14.62240          \n",
       "3 FALSE   TRUE     FALSE           14950.39         13.86790          \n",
       "4 FALSE   TRUE     FALSE           33301.87         15.02332          \n",
       "5 FALSE   TRUE      TRUE           18505.24         14.17565          \n",
       "6 FALSE   TRUE      TRUE           18637.72         14.18594          \n",
       "  intensity_fill_log_scaled\n",
       "1 -1.3363408               \n",
       "2 -0.2150055               \n",
       "3 -1.1808550               \n",
       "4  0.3812567               \n",
       "5 -0.6017139               \n",
       "6 -0.8641404               "
      ]
     },
     "metadata": {},
     "output_type": "display_data"
    }
   ],
   "source": [
    "df_cord <- read_excel(\"C:/Users/Dell/Desktop/THSTI-CDSA work/MOMI Data Analysis/preg_intensities_sb_stratified_cord.xlsx\", col_types = \"text\")\n",
    "\n",
    "df_cord <- df_cord %>%\n",
    "    type.convert(as.is = TRUE)  # Automatically convert to appropriate types\n",
    "\n",
    "head(df_cord)    "
   ]
  },
  {
   "cell_type": "code",
   "execution_count": 21,
   "metadata": {
    "vscode": {
     "languageId": "r"
    }
   },
   "outputs": [
    {
     "data": {
      "text/html": [
       "<table class=\"dataframe\">\n",
       "<caption>A tibble: 6 × 11</caption>\n",
       "<thead>\n",
       "\t<tr><th scope=col>sample_id</th><th scope=col>orig_id</th><th scope=col>site</th><th scope=col>GA_weeks</th><th scope=col>molecule</th><th scope=col>sb_case</th><th scope=col>non_case</th><th scope=col>healthy_control</th><th scope=col>intensity_filled</th><th scope=col>intensity_fill_log</th><th scope=col>intensity_fill_log_scaled</th></tr>\n",
       "\t<tr><th scope=col>&lt;chr&gt;</th><th scope=col>&lt;chr&gt;</th><th scope=col>&lt;chr&gt;</th><th scope=col>&lt;int&gt;</th><th scope=col>&lt;chr&gt;</th><th scope=col>&lt;lgl&gt;</th><th scope=col>&lt;lgl&gt;</th><th scope=col>&lt;lgl&gt;</th><th scope=col>&lt;dbl&gt;</th><th scope=col>&lt;dbl&gt;</th><th scope=col>&lt;dbl&gt;</th></tr>\n",
       "</thead>\n",
       "<tbody>\n",
       "\t<tr><td>11BA0000104</td><td>68368</td><td>AMANHIB</td><td>26</td><td>allopregnanolone sulfate/pregnanolone sulfate</td><td>FALSE</td><td>TRUE</td><td> TRUE</td><td>16668.36</td><td>14.02482</td><td> 0.6855495</td></tr>\n",
       "\t<tr><td>11BA0000201</td><td>92320</td><td>AMANHIB</td><td>35</td><td>allopregnanolone sulfate/pregnanolone sulfate</td><td>FALSE</td><td>TRUE</td><td>FALSE</td><td>17214.47</td><td>14.07133</td><td> 0.7517230</td></tr>\n",
       "\t<tr><td>11BA0000305</td><td>63382</td><td>AMANHIB</td><td>26</td><td>allopregnanolone sulfate/pregnanolone sulfate</td><td>FALSE</td><td>TRUE</td><td>FALSE</td><td>10544.79</td><td>13.36424</td><td>-0.2543211</td></tr>\n",
       "\t<tr><td>11BA0000405</td><td>93307</td><td>AMANHIB</td><td>26</td><td>allopregnanolone sulfate/pregnanolone sulfate</td><td>FALSE</td><td>TRUE</td><td>FALSE</td><td> 8175.76</td><td>12.99714</td><td>-0.7766361</td></tr>\n",
       "\t<tr><td>11BA0000501</td><td>63375</td><td>AMANHIB</td><td>27</td><td>allopregnanolone sulfate/pregnanolone sulfate</td><td>FALSE</td><td>TRUE</td><td> TRUE</td><td>23342.64</td><td>14.51068</td><td> 1.3768210</td></tr>\n",
       "\t<tr><td>11BA0000601</td><td>70317</td><td>AMANHIB</td><td>25</td><td>allopregnanolone sulfate/pregnanolone sulfate</td><td>FALSE</td><td>TRUE</td><td>FALSE</td><td> 9321.83</td><td>13.18640</td><td>-0.5073579</td></tr>\n",
       "</tbody>\n",
       "</table>\n"
      ],
      "text/latex": [
       "A tibble: 6 × 11\n",
       "\\begin{tabular}{lllllllllll}\n",
       " sample\\_id & orig\\_id & site & GA\\_weeks & molecule & sb\\_case & non\\_case & healthy\\_control & intensity\\_filled & intensity\\_fill\\_log & intensity\\_fill\\_log\\_scaled\\\\\n",
       " <chr> & <chr> & <chr> & <int> & <chr> & <lgl> & <lgl> & <lgl> & <dbl> & <dbl> & <dbl>\\\\\n",
       "\\hline\n",
       "\t 11BA0000104 & 68368 & AMANHIB & 26 & allopregnanolone sulfate/pregnanolone sulfate & FALSE & TRUE &  TRUE & 16668.36 & 14.02482 &  0.6855495\\\\\n",
       "\t 11BA0000201 & 92320 & AMANHIB & 35 & allopregnanolone sulfate/pregnanolone sulfate & FALSE & TRUE & FALSE & 17214.47 & 14.07133 &  0.7517230\\\\\n",
       "\t 11BA0000305 & 63382 & AMANHIB & 26 & allopregnanolone sulfate/pregnanolone sulfate & FALSE & TRUE & FALSE & 10544.79 & 13.36424 & -0.2543211\\\\\n",
       "\t 11BA0000405 & 93307 & AMANHIB & 26 & allopregnanolone sulfate/pregnanolone sulfate & FALSE & TRUE & FALSE &  8175.76 & 12.99714 & -0.7766361\\\\\n",
       "\t 11BA0000501 & 63375 & AMANHIB & 27 & allopregnanolone sulfate/pregnanolone sulfate & FALSE & TRUE &  TRUE & 23342.64 & 14.51068 &  1.3768210\\\\\n",
       "\t 11BA0000601 & 70317 & AMANHIB & 25 & allopregnanolone sulfate/pregnanolone sulfate & FALSE & TRUE & FALSE &  9321.83 & 13.18640 & -0.5073579\\\\\n",
       "\\end{tabular}\n"
      ],
      "text/markdown": [
       "\n",
       "A tibble: 6 × 11\n",
       "\n",
       "| sample_id &lt;chr&gt; | orig_id &lt;chr&gt; | site &lt;chr&gt; | GA_weeks &lt;int&gt; | molecule &lt;chr&gt; | sb_case &lt;lgl&gt; | non_case &lt;lgl&gt; | healthy_control &lt;lgl&gt; | intensity_filled &lt;dbl&gt; | intensity_fill_log &lt;dbl&gt; | intensity_fill_log_scaled &lt;dbl&gt; |\n",
       "|---|---|---|---|---|---|---|---|---|---|---|\n",
       "| 11BA0000104 | 68368 | AMANHIB | 26 | allopregnanolone sulfate/pregnanolone sulfate | FALSE | TRUE |  TRUE | 16668.36 | 14.02482 |  0.6855495 |\n",
       "| 11BA0000201 | 92320 | AMANHIB | 35 | allopregnanolone sulfate/pregnanolone sulfate | FALSE | TRUE | FALSE | 17214.47 | 14.07133 |  0.7517230 |\n",
       "| 11BA0000305 | 63382 | AMANHIB | 26 | allopregnanolone sulfate/pregnanolone sulfate | FALSE | TRUE | FALSE | 10544.79 | 13.36424 | -0.2543211 |\n",
       "| 11BA0000405 | 93307 | AMANHIB | 26 | allopregnanolone sulfate/pregnanolone sulfate | FALSE | TRUE | FALSE |  8175.76 | 12.99714 | -0.7766361 |\n",
       "| 11BA0000501 | 63375 | AMANHIB | 27 | allopregnanolone sulfate/pregnanolone sulfate | FALSE | TRUE |  TRUE | 23342.64 | 14.51068 |  1.3768210 |\n",
       "| 11BA0000601 | 70317 | AMANHIB | 25 | allopregnanolone sulfate/pregnanolone sulfate | FALSE | TRUE | FALSE |  9321.83 | 13.18640 | -0.5073579 |\n",
       "\n"
      ],
      "text/plain": [
       "  sample_id   orig_id site    GA_weeks\n",
       "1 11BA0000104 68368   AMANHIB 26      \n",
       "2 11BA0000201 92320   AMANHIB 35      \n",
       "3 11BA0000305 63382   AMANHIB 26      \n",
       "4 11BA0000405 93307   AMANHIB 26      \n",
       "5 11BA0000501 63375   AMANHIB 27      \n",
       "6 11BA0000601 70317   AMANHIB 25      \n",
       "  molecule                                      sb_case non_case\n",
       "1 allopregnanolone sulfate/pregnanolone sulfate FALSE   TRUE    \n",
       "2 allopregnanolone sulfate/pregnanolone sulfate FALSE   TRUE    \n",
       "3 allopregnanolone sulfate/pregnanolone sulfate FALSE   TRUE    \n",
       "4 allopregnanolone sulfate/pregnanolone sulfate FALSE   TRUE    \n",
       "5 allopregnanolone sulfate/pregnanolone sulfate FALSE   TRUE    \n",
       "6 allopregnanolone sulfate/pregnanolone sulfate FALSE   TRUE    \n",
       "  healthy_control intensity_filled intensity_fill_log intensity_fill_log_scaled\n",
       "1  TRUE           16668.36         14.02482            0.6855495               \n",
       "2 FALSE           17214.47         14.07133            0.7517230               \n",
       "3 FALSE           10544.79         13.36424           -0.2543211               \n",
       "4 FALSE            8175.76         12.99714           -0.7766361               \n",
       "5  TRUE           23342.64         14.51068            1.3768210               \n",
       "6 FALSE            9321.83         13.18640           -0.5073579               "
      ]
     },
     "metadata": {},
     "output_type": "display_data"
    }
   ],
   "source": [
    "df_mat <- read_excel(\"C:/Users/Dell/Desktop/THSTI-CDSA work/MOMI Data Analysis/preg_intensities_sb_stratified_maternal.xlsx\",col_types = \"text\")\n",
    "\n",
    "df_mat <- df_mat %>%\n",
    "    type.convert(as.is = TRUE)  # Automatically convert to appropriate types\n",
    "\n",
    "head(df_mat)"
   ]
  },
  {
   "cell_type": "markdown",
   "metadata": {},
   "source": [
    "### Exploratory Data Analysis"
   ]
  },
  {
   "cell_type": "markdown",
   "metadata": {},
   "source": [
    "#### Dimensions of Dataframes"
   ]
  },
  {
   "cell_type": "code",
   "execution_count": 22,
   "metadata": {
    "vscode": {
     "languageId": "r"
    }
   },
   "outputs": [
    {
     "name": "stdout",
     "output_type": "stream",
     "text": [
      "\n",
      " Dimensions of preg_intensities_sb_stratified_cord: 13580 10\n",
      " Dimensions of preg_intensities_sb_stratified_maternal: 53582 11"
     ]
    }
   ],
   "source": [
    "cat(\"\\n Dimensions of preg_intensities_sb_stratified_cord: \")\n",
    "cat(dim(df_cord))\n",
    "cat(\"\\n Dimensions of preg_intensities_sb_stratified_maternal: \")\n",
    "cat(dim(df_mat))"
   ]
  },
  {
   "cell_type": "markdown",
   "metadata": {},
   "source": [
    "#### Names of Columns"
   ]
  },
  {
   "cell_type": "code",
   "execution_count": 23,
   "metadata": {
    "vscode": {
     "languageId": "r"
    }
   },
   "outputs": [
    {
     "name": "stdout",
     "output_type": "stream",
     "text": [
      "Columns in preg_intensities_sb_stratified_maternal:"
     ]
    },
    {
     "data": {
      "text/html": [
       "<style>\n",
       ".list-inline {list-style: none; margin:0; padding: 0}\n",
       ".list-inline>li {display: inline-block}\n",
       ".list-inline>li:not(:last-child)::after {content: \"\\00b7\"; padding: 0 .5ex}\n",
       "</style>\n",
       "<ol class=list-inline><li>'sample_id'</li><li>'orig_id'</li><li>'site'</li><li>'GA_weeks'</li><li>'molecule'</li><li>'sb_case'</li><li>'non_case'</li><li>'healthy_control'</li><li>'intensity_filled'</li><li>'intensity_fill_log'</li><li>'intensity_fill_log_scaled'</li></ol>\n"
      ],
      "text/latex": [
       "\\begin{enumerate*}\n",
       "\\item 'sample\\_id'\n",
       "\\item 'orig\\_id'\n",
       "\\item 'site'\n",
       "\\item 'GA\\_weeks'\n",
       "\\item 'molecule'\n",
       "\\item 'sb\\_case'\n",
       "\\item 'non\\_case'\n",
       "\\item 'healthy\\_control'\n",
       "\\item 'intensity\\_filled'\n",
       "\\item 'intensity\\_fill\\_log'\n",
       "\\item 'intensity\\_fill\\_log\\_scaled'\n",
       "\\end{enumerate*}\n"
      ],
      "text/markdown": [
       "1. 'sample_id'\n",
       "2. 'orig_id'\n",
       "3. 'site'\n",
       "4. 'GA_weeks'\n",
       "5. 'molecule'\n",
       "6. 'sb_case'\n",
       "7. 'non_case'\n",
       "8. 'healthy_control'\n",
       "9. 'intensity_filled'\n",
       "10. 'intensity_fill_log'\n",
       "11. 'intensity_fill_log_scaled'\n",
       "\n",
       "\n"
      ],
      "text/plain": [
       " [1] \"sample_id\"                 \"orig_id\"                  \n",
       " [3] \"site\"                      \"GA_weeks\"                 \n",
       " [5] \"molecule\"                  \"sb_case\"                  \n",
       " [7] \"non_case\"                  \"healthy_control\"          \n",
       " [9] \"intensity_filled\"          \"intensity_fill_log\"       \n",
       "[11] \"intensity_fill_log_scaled\""
      ]
     },
     "metadata": {},
     "output_type": "display_data"
    },
    {
     "name": "stdout",
     "output_type": "stream",
     "text": [
      "Columns in preg_intensities_sb_stratified_cord:"
     ]
    },
    {
     "data": {
      "text/html": [
       "<style>\n",
       ".list-inline {list-style: none; margin:0; padding: 0}\n",
       ".list-inline>li {display: inline-block}\n",
       ".list-inline>li:not(:last-child)::after {content: \"\\00b7\"; padding: 0 .5ex}\n",
       "</style>\n",
       "<ol class=list-inline><li>'sample_id'</li><li>'orig_id'</li><li>'site'</li><li>'molecule'</li><li>'sb_case'</li><li>'non_case'</li><li>'healthy_control'</li><li>'intensity_filled'</li><li>'intensity_fill_log'</li><li>'intensity_fill_log_scaled'</li></ol>\n"
      ],
      "text/latex": [
       "\\begin{enumerate*}\n",
       "\\item 'sample\\_id'\n",
       "\\item 'orig\\_id'\n",
       "\\item 'site'\n",
       "\\item 'molecule'\n",
       "\\item 'sb\\_case'\n",
       "\\item 'non\\_case'\n",
       "\\item 'healthy\\_control'\n",
       "\\item 'intensity\\_filled'\n",
       "\\item 'intensity\\_fill\\_log'\n",
       "\\item 'intensity\\_fill\\_log\\_scaled'\n",
       "\\end{enumerate*}\n"
      ],
      "text/markdown": [
       "1. 'sample_id'\n",
       "2. 'orig_id'\n",
       "3. 'site'\n",
       "4. 'molecule'\n",
       "5. 'sb_case'\n",
       "6. 'non_case'\n",
       "7. 'healthy_control'\n",
       "8. 'intensity_filled'\n",
       "9. 'intensity_fill_log'\n",
       "10. 'intensity_fill_log_scaled'\n",
       "\n",
       "\n"
      ],
      "text/plain": [
       " [1] \"sample_id\"                 \"orig_id\"                  \n",
       " [3] \"site\"                      \"molecule\"                 \n",
       " [5] \"sb_case\"                   \"non_case\"                 \n",
       " [7] \"healthy_control\"           \"intensity_filled\"         \n",
       " [9] \"intensity_fill_log\"        \"intensity_fill_log_scaled\""
      ]
     },
     "metadata": {},
     "output_type": "display_data"
    }
   ],
   "source": [
    "cat(\"Columns in preg_intensities_sb_stratified_maternal:\")\n",
    "names(df_mat)\n",
    "cat(\"Columns in preg_intensities_sb_stratified_cord:\")\n",
    "names(df_cord)"
   ]
  },
  {
   "cell_type": "markdown",
   "metadata": {},
   "source": [
    "#### Unique Values"
   ]
  },
  {
   "cell_type": "code",
   "execution_count": 24,
   "metadata": {
    "vscode": {
     "languageId": "r"
    }
   },
   "outputs": [
    {
     "name": "stdout",
     "output_type": "stream",
     "text": [
      "Count of unique values in preg_intensities_sb_stratified_maternal columns: \n",
      "sample_id \t26791\n",
      "orig_id \t14515\n",
      "site \t5\n",
      "GA_weeks \t36\n",
      "molecule \t2\n",
      "sb_case \t2\n",
      "non_case \t2\n",
      "healthy_control \t2\n",
      "intensity_filled \t29570\n",
      "intensity_fill_log \t29570\n",
      "intensity_fill_log_scaled \t40898\n"
     ]
    }
   ],
   "source": [
    "# For loop to print count of unique values for each column\n",
    "cat(\"Count of unique values in preg_intensities_sb_stratified_maternal columns: \\n\")\n",
    "for (col_name in colnames(df_mat)) {\n",
    "  cat(col_name,\"\\t\")\n",
    "  cat(length(unique(df_mat[[col_name]])))\n",
    "  cat(\"\\n\")\n",
    "}"
   ]
  },
  {
   "cell_type": "code",
   "execution_count": 25,
   "metadata": {
    "vscode": {
     "languageId": "r"
    }
   },
   "outputs": [
    {
     "name": "stdout",
     "output_type": "stream",
     "text": [
      "Count of unique values in preg_intensities_sb_stratified_cord columns: \n",
      "sample_id \t6790\n",
      "orig_id \t6775\n",
      "site \t5\n",
      "molecule \t2\n",
      "sb_case \t2\n",
      "non_case \t2\n",
      "healthy_control \t2\n",
      "intensity_filled \t12349\n",
      "intensity_fill_log \t12349\n",
      "intensity_fill_log_scaled \t13287\n"
     ]
    }
   ],
   "source": [
    "cat(\"Count of unique values in preg_intensities_sb_stratified_cord columns: \\n\")\n",
    "for (col_name in colnames(df_cord)) {\n",
    "  cat(col_name,\"\\t\")\n",
    "  cat(length(unique(df_cord[[col_name]])))\n",
    "  cat(\"\\n\")\n",
    "}"
   ]
  },
  {
   "cell_type": "markdown",
   "metadata": {},
   "source": [
    "#### Missing Data"
   ]
  },
  {
   "cell_type": "code",
   "execution_count": 26,
   "metadata": {
    "vscode": {
     "languageId": "r"
    }
   },
   "outputs": [
    {
     "name": "stdout",
     "output_type": "stream",
     "text": [
      "Missing data in preg_intensities_sb_stratified_cord: \n",
      "\u001b[90m# A tibble: 10 × 2\u001b[39m\n",
      "   variable                  missing_count\n",
      "   \u001b[3m\u001b[90m<chr>\u001b[39m\u001b[23m                             \u001b[3m\u001b[90m<int>\u001b[39m\u001b[23m\n",
      "\u001b[90m 1\u001b[39m sample_id                             0\n",
      "\u001b[90m 2\u001b[39m orig_id                               0\n",
      "\u001b[90m 3\u001b[39m site                                  0\n",
      "\u001b[90m 4\u001b[39m molecule                              0\n",
      "\u001b[90m 5\u001b[39m sb_case                               0\n",
      "\u001b[90m 6\u001b[39m non_case                              0\n",
      "\u001b[90m 7\u001b[39m healthy_control                       0\n",
      "\u001b[90m 8\u001b[39m intensity_filled                      0\n",
      "\u001b[90m 9\u001b[39m intensity_fill_log                    0\n",
      "\u001b[90m10\u001b[39m intensity_fill_log_scaled             0\n"
     ]
    }
   ],
   "source": [
    "#library(tibble)\n",
    "cat(\"Missing data in preg_intensities_sb_stratified_cord: \\n\")\n",
    "\n",
    "missing_data <- sapply(df_cord, function(x) sum(is.na(x) | x == \"\"))\n",
    "\n",
    "# Convert to tibble for better readability\n",
    "missing_data_df <- tibble(variable = names(missing_data), missing_count = missing_data)\n",
    "\n",
    "print(missing_data_df)"
   ]
  },
  {
   "cell_type": "code",
   "execution_count": 27,
   "metadata": {
    "vscode": {
     "languageId": "r"
    }
   },
   "outputs": [
    {
     "name": "stdout",
     "output_type": "stream",
     "text": [
      "Missing data in preg_intensities_sb_stratified_maternal: \n",
      "\u001b[90m# A tibble: 11 × 2\u001b[39m\n",
      "   variable                  missing_count\n",
      "   \u001b[3m\u001b[90m<chr>\u001b[39m\u001b[23m                             \u001b[3m\u001b[90m<int>\u001b[39m\u001b[23m\n",
      "\u001b[90m 1\u001b[39m sample_id                             0\n",
      "\u001b[90m 2\u001b[39m orig_id                               0\n",
      "\u001b[90m 3\u001b[39m site                                  0\n",
      "\u001b[90m 4\u001b[39m GA_weeks                              0\n",
      "\u001b[90m 5\u001b[39m molecule                              0\n",
      "\u001b[90m 6\u001b[39m sb_case                               0\n",
      "\u001b[90m 7\u001b[39m non_case                              0\n",
      "\u001b[90m 8\u001b[39m healthy_control                       0\n",
      "\u001b[90m 9\u001b[39m intensity_filled                      0\n",
      "\u001b[90m10\u001b[39m intensity_fill_log                    0\n",
      "\u001b[90m11\u001b[39m intensity_fill_log_scaled             0\n"
     ]
    }
   ],
   "source": [
    "cat(\"Missing data in preg_intensities_sb_stratified_maternal: \\n\")\n",
    "\n",
    "missing_data <- df_mat %>%\n",
    "  summarise_all(~sum(is.na(.))) %>%\n",
    "  pivot_longer(cols = everything(), names_to = \"variable\", values_to = \"missing_count\")\n",
    "\n",
    "print(missing_data)"
   ]
  },
  {
   "cell_type": "markdown",
   "metadata": {},
   "source": [
    "#### Summary of Dataframes"
   ]
  },
  {
   "cell_type": "code",
   "execution_count": 28,
   "metadata": {
    "vscode": {
     "languageId": "r"
    }
   },
   "outputs": [
    {
     "name": "stdout",
     "output_type": "stream",
     "text": [
      "Summary of df_mat: \n",
      "  sample_id           orig_id              site              GA_weeks    \n",
      " Length:53582       Length:53582       Length:53582       Min.   : 7.00  \n",
      " Class :character   Class :character   Class :character   1st Qu.:14.00  \n",
      " Mode  :character   Mode  :character   Mode  :character   Median :21.00  \n",
      "                                                          Mean   :21.43  \n",
      "                                                          3rd Qu.:28.00  \n",
      "                                                          Max.   :42.00  \n",
      "   molecule          sb_case         non_case       healthy_control\n",
      " Length:53582       Mode :logical   Mode :logical   Mode :logical  \n",
      " Class :character   FALSE:53086     FALSE:558       FALSE:34940    \n",
      " Mode  :character   TRUE :496       TRUE :53024     TRUE :18642    \n",
      "                                                                   \n",
      "                                                                   \n",
      "                                                                   \n",
      " intensity_filled    intensity_fill_log intensity_fill_log_scaled\n",
      " Min.   :    78.95   Min.   : 6.303     Min.   :-6.63138         \n",
      " 1st Qu.:  2069.00   1st Qu.:11.015     1st Qu.:-0.60391         \n",
      " Median :  5221.00   Median :12.350     Median : 0.03911         \n",
      " Mean   : 10879.15   Mean   :12.440     Mean   : 0.05235         \n",
      " 3rd Qu.: 14144.75   3rd Qu.:13.788     3rd Qu.: 0.69539         \n",
      " Max.   :232362.00   Max.   :17.826     Max.   : 6.25200         \n",
      "\n",
      "Summary of df_cord:\n",
      "  sample_id           orig_id              site             molecule        \n",
      " Length:13580       Length:13580       Length:13580       Length:13580      \n",
      " Class :character   Class :character   Class :character   Class :character  \n",
      " Mode  :character   Mode  :character   Mode  :character   Mode  :character  \n",
      "                                                                            \n",
      "                                                                            \n",
      "                                                                            \n",
      "  sb_case         non_case       healthy_control intensity_filled\n",
      " Mode :logical   Mode :logical   Mode :logical   Min.   :   443  \n",
      " FALSE:13552     FALSE:54        FALSE:8268      1st Qu.: 17364  \n",
      " TRUE :28        TRUE :13526     TRUE :5312      Median : 25279  \n",
      "                                                 Mean   : 27095  \n",
      "                                                 3rd Qu.: 34973  \n",
      "                                                 Max.   :254997  \n",
      " intensity_fill_log intensity_fill_log_scaled\n",
      " Min.   : 8.791     Min.   :-8.30077         \n",
      " 1st Qu.:14.084     1st Qu.:-0.49164         \n",
      " Median :14.626     Median : 0.14122         \n",
      " Mean   :14.512     Mean   : 0.01175         \n",
      " 3rd Qu.:15.094     3rd Qu.: 0.62925         \n",
      " Max.   :17.960     Max.   : 5.31575         \n",
      "\n"
     ]
    }
   ],
   "source": [
    "# Print summary of each column in dataframe\n",
    "cat(\"Summary of df_mat: \\n\")\n",
    "print(summary(df_mat))\n",
    "cat(\"\\n\")\n",
    "\n",
    "cat(\"Summary of df_cord:\\n\")\n",
    "print(summary(df_cord))\n",
    "cat(\"\\n\")"
   ]
  },
  {
   "cell_type": "code",
   "execution_count": 29,
   "metadata": {
    "vscode": {
     "languageId": "r"
    }
   },
   "outputs": [],
   "source": [
    "#Descriptive Summary of Dataframes\n",
    "#skim(df_mat)\n",
    "#skim(df_cord)"
   ]
  },
  {
   "cell_type": "markdown",
   "metadata": {},
   "source": [
    "### Data Visualization"
   ]
  },
  {
   "cell_type": "markdown",
   "metadata": {},
   "source": [
    "#### DataFrame 1"
   ]
  },
  {
   "cell_type": "markdown",
   "metadata": {},
   "source": [
    "###### Histograms"
   ]
  },
  {
   "cell_type": "code",
   "execution_count": 30,
   "metadata": {
    "vscode": {
     "languageId": "r"
    }
   },
   "outputs": [
    {
     "name": "stdout",
     "output_type": "stream",
     "text": [
      "Histogram of Numeric COlumns in preg_intensities_sb_stratified_maternal: "
     ]
    },
    {
     "data": {
      "image/png": "[encoded data removed]",
      "text/plain": [
       "plot without title"
      ]
     },
     "metadata": {
      "image/png": {
       "height": 420,
       "width": 420
      }
     },
     "output_type": "display_data"
    }
   ],
   "source": [
    "# Histograms for Numeric type COlumns\n",
    "cat(\"Histogram of Numeric COlumns in preg_intensities_sb_stratified_maternal: \")\n",
    "ggplot(df_mat, aes(x = GA_weeks)) +\n",
    "  geom_histogram(bins = 30, fill = \"blue\", color = \"black\") +\n",
    "  labs(title = \"Histogram of GA_Weeks\", x = \"GA_Weeks\", y = \"Frequency\")"
   ]
  },
  {
   "cell_type": "code",
   "execution_count": 31,
   "metadata": {
    "vscode": {
     "languageId": "r"
    }
   },
   "outputs": [
    {
     "data": {
      "image/png": "[encoded data removed]",
      "text/plain": [
       "plot without title"
      ]
     },
     "metadata": {
      "image/png": {
       "height": 420,
       "width": 420
      }
     },
     "output_type": "display_data"
    }
   ],
   "source": [
    "ggplot(df_mat, aes(x = intensity_fill_log_scaled)) +\n",
    "  geom_histogram(bins = 30, fill = \"blue\", color = \"black\") +\n",
    "  labs(title = \"Intensity filled log scaled\", x = \"Intensity Filled log Scaled\", y = \"Frequency\")"
   ]
  },
  {
   "cell_type": "markdown",
   "metadata": {},
   "source": [
    "##### Bar Charts"
   ]
  },
  {
   "cell_type": "code",
   "execution_count": 32,
   "metadata": {
    "vscode": {
     "languageId": "r"
    }
   },
   "outputs": [
    {
     "data": {
      "text/html": [
       "<table class=\"dataframe\">\n",
       "<caption>A tibble: 6 × 11</caption>\n",
       "<thead>\n",
       "\t<tr><th scope=col>sample_id</th><th scope=col>orig_id</th><th scope=col>site</th><th scope=col>GA_weeks</th><th scope=col>molecule</th><th scope=col>sb_case</th><th scope=col>non_case</th><th scope=col>healthy_control</th><th scope=col>intensity_filled</th><th scope=col>intensity_fill_log</th><th scope=col>intensity_fill_log_scaled</th></tr>\n",
       "\t<tr><th scope=col>&lt;chr&gt;</th><th scope=col>&lt;chr&gt;</th><th scope=col>&lt;chr&gt;</th><th scope=col>&lt;int&gt;</th><th scope=col>&lt;chr&gt;</th><th scope=col>&lt;lgl&gt;</th><th scope=col>&lt;lgl&gt;</th><th scope=col>&lt;lgl&gt;</th><th scope=col>&lt;dbl&gt;</th><th scope=col>&lt;dbl&gt;</th><th scope=col>&lt;dbl&gt;</th></tr>\n",
       "</thead>\n",
       "<tbody>\n",
       "\t<tr><td>11BA0000104</td><td>68368</td><td>AMANHIB</td><td>26</td><td>allopregnanolone sulfate/pregnanolone sulfate</td><td>FALSE</td><td>TRUE</td><td> TRUE</td><td>16668.36</td><td>14.02482</td><td> 0.6855495</td></tr>\n",
       "\t<tr><td>11BA0000201</td><td>92320</td><td>AMANHIB</td><td>35</td><td>allopregnanolone sulfate/pregnanolone sulfate</td><td>FALSE</td><td>TRUE</td><td>FALSE</td><td>17214.47</td><td>14.07133</td><td> 0.7517230</td></tr>\n",
       "\t<tr><td>11BA0000305</td><td>63382</td><td>AMANHIB</td><td>26</td><td>allopregnanolone sulfate/pregnanolone sulfate</td><td>FALSE</td><td>TRUE</td><td>FALSE</td><td>10544.79</td><td>13.36424</td><td>-0.2543211</td></tr>\n",
       "\t<tr><td>11BA0000405</td><td>93307</td><td>AMANHIB</td><td>26</td><td>allopregnanolone sulfate/pregnanolone sulfate</td><td>FALSE</td><td>TRUE</td><td>FALSE</td><td> 8175.76</td><td>12.99714</td><td>-0.7766361</td></tr>\n",
       "\t<tr><td>11BA0000501</td><td>63375</td><td>AMANHIB</td><td>27</td><td>allopregnanolone sulfate/pregnanolone sulfate</td><td>FALSE</td><td>TRUE</td><td> TRUE</td><td>23342.64</td><td>14.51068</td><td> 1.3768210</td></tr>\n",
       "\t<tr><td>11BA0000601</td><td>70317</td><td>AMANHIB</td><td>25</td><td>allopregnanolone sulfate/pregnanolone sulfate</td><td>FALSE</td><td>TRUE</td><td>FALSE</td><td> 9321.83</td><td>13.18640</td><td>-0.5073579</td></tr>\n",
       "</tbody>\n",
       "</table>\n"
      ],
      "text/latex": [
       "A tibble: 6 × 11\n",
       "\\begin{tabular}{lllllllllll}\n",
       " sample\\_id & orig\\_id & site & GA\\_weeks & molecule & sb\\_case & non\\_case & healthy\\_control & intensity\\_filled & intensity\\_fill\\_log & intensity\\_fill\\_log\\_scaled\\\\\n",
       " <chr> & <chr> & <chr> & <int> & <chr> & <lgl> & <lgl> & <lgl> & <dbl> & <dbl> & <dbl>\\\\\n",
       "\\hline\n",
       "\t 11BA0000104 & 68368 & AMANHIB & 26 & allopregnanolone sulfate/pregnanolone sulfate & FALSE & TRUE &  TRUE & 16668.36 & 14.02482 &  0.6855495\\\\\n",
       "\t 11BA0000201 & 92320 & AMANHIB & 35 & allopregnanolone sulfate/pregnanolone sulfate & FALSE & TRUE & FALSE & 17214.47 & 14.07133 &  0.7517230\\\\\n",
       "\t 11BA0000305 & 63382 & AMANHIB & 26 & allopregnanolone sulfate/pregnanolone sulfate & FALSE & TRUE & FALSE & 10544.79 & 13.36424 & -0.2543211\\\\\n",
       "\t 11BA0000405 & 93307 & AMANHIB & 26 & allopregnanolone sulfate/pregnanolone sulfate & FALSE & TRUE & FALSE &  8175.76 & 12.99714 & -0.7766361\\\\\n",
       "\t 11BA0000501 & 63375 & AMANHIB & 27 & allopregnanolone sulfate/pregnanolone sulfate & FALSE & TRUE &  TRUE & 23342.64 & 14.51068 &  1.3768210\\\\\n",
       "\t 11BA0000601 & 70317 & AMANHIB & 25 & allopregnanolone sulfate/pregnanolone sulfate & FALSE & TRUE & FALSE &  9321.83 & 13.18640 & -0.5073579\\\\\n",
       "\\end{tabular}\n"
      ],
      "text/markdown": [
       "\n",
       "A tibble: 6 × 11\n",
       "\n",
       "| sample_id &lt;chr&gt; | orig_id &lt;chr&gt; | site &lt;chr&gt; | GA_weeks &lt;int&gt; | molecule &lt;chr&gt; | sb_case &lt;lgl&gt; | non_case &lt;lgl&gt; | healthy_control &lt;lgl&gt; | intensity_filled &lt;dbl&gt; | intensity_fill_log &lt;dbl&gt; | intensity_fill_log_scaled &lt;dbl&gt; |\n",
       "|---|---|---|---|---|---|---|---|---|---|---|\n",
       "| 11BA0000104 | 68368 | AMANHIB | 26 | allopregnanolone sulfate/pregnanolone sulfate | FALSE | TRUE |  TRUE | 16668.36 | 14.02482 |  0.6855495 |\n",
       "| 11BA0000201 | 92320 | AMANHIB | 35 | allopregnanolone sulfate/pregnanolone sulfate | FALSE | TRUE | FALSE | 17214.47 | 14.07133 |  0.7517230 |\n",
       "| 11BA0000305 | 63382 | AMANHIB | 26 | allopregnanolone sulfate/pregnanolone sulfate | FALSE | TRUE | FALSE | 10544.79 | 13.36424 | -0.2543211 |\n",
       "| 11BA0000405 | 93307 | AMANHIB | 26 | allopregnanolone sulfate/pregnanolone sulfate | FALSE | TRUE | FALSE |  8175.76 | 12.99714 | -0.7766361 |\n",
       "| 11BA0000501 | 63375 | AMANHIB | 27 | allopregnanolone sulfate/pregnanolone sulfate | FALSE | TRUE |  TRUE | 23342.64 | 14.51068 |  1.3768210 |\n",
       "| 11BA0000601 | 70317 | AMANHIB | 25 | allopregnanolone sulfate/pregnanolone sulfate | FALSE | TRUE | FALSE |  9321.83 | 13.18640 | -0.5073579 |\n",
       "\n"
      ],
      "text/plain": [
       "  sample_id   orig_id site    GA_weeks\n",
       "1 11BA0000104 68368   AMANHIB 26      \n",
       "2 11BA0000201 92320   AMANHIB 35      \n",
       "3 11BA0000305 63382   AMANHIB 26      \n",
       "4 11BA0000405 93307   AMANHIB 26      \n",
       "5 11BA0000501 63375   AMANHIB 27      \n",
       "6 11BA0000601 70317   AMANHIB 25      \n",
       "  molecule                                      sb_case non_case\n",
       "1 allopregnanolone sulfate/pregnanolone sulfate FALSE   TRUE    \n",
       "2 allopregnanolone sulfate/pregnanolone sulfate FALSE   TRUE    \n",
       "3 allopregnanolone sulfate/pregnanolone sulfate FALSE   TRUE    \n",
       "4 allopregnanolone sulfate/pregnanolone sulfate FALSE   TRUE    \n",
       "5 allopregnanolone sulfate/pregnanolone sulfate FALSE   TRUE    \n",
       "6 allopregnanolone sulfate/pregnanolone sulfate FALSE   TRUE    \n",
       "  healthy_control intensity_filled intensity_fill_log intensity_fill_log_scaled\n",
       "1  TRUE           16668.36         14.02482            0.6855495               \n",
       "2 FALSE           17214.47         14.07133            0.7517230               \n",
       "3 FALSE           10544.79         13.36424           -0.2543211               \n",
       "4 FALSE            8175.76         12.99714           -0.7766361               \n",
       "5  TRUE           23342.64         14.51068            1.3768210               \n",
       "6 FALSE            9321.83         13.18640           -0.5073579               "
      ]
     },
     "metadata": {},
     "output_type": "display_data"
    }
   ],
   "source": [
    "head(df_mat)"
   ]
  },
  {
   "cell_type": "code",
   "execution_count": 33,
   "metadata": {
    "vscode": {
     "languageId": "r"
    }
   },
   "outputs": [
    {
     "data": {
      "text/html": [
       "<table class=\"dataframe\">\n",
       "<caption>A tibble: 6 × 10</caption>\n",
       "<thead>\n",
       "\t<tr><th scope=col>sample_id</th><th scope=col>orig_id</th><th scope=col>site</th><th scope=col>GA_weeks</th><th scope=col>molecule</th><th scope=col>intensity_filled</th><th scope=col>intensity_fill_log</th><th scope=col>intensity_fill_log_scaled</th><th scope=col>category</th><th scope=col>value</th></tr>\n",
       "\t<tr><th scope=col>&lt;chr&gt;</th><th scope=col>&lt;chr&gt;</th><th scope=col>&lt;chr&gt;</th><th scope=col>&lt;int&gt;</th><th scope=col>&lt;chr&gt;</th><th scope=col>&lt;dbl&gt;</th><th scope=col>&lt;dbl&gt;</th><th scope=col>&lt;dbl&gt;</th><th scope=col>&lt;chr&gt;</th><th scope=col>&lt;lgl&gt;</th></tr>\n",
       "</thead>\n",
       "<tbody>\n",
       "\t<tr><td>11BA0000104</td><td>68368</td><td>AMANHIB</td><td>26</td><td>allopregnanolone sulfate/pregnanolone sulfate</td><td>16668.36</td><td>14.02482</td><td>0.6855495</td><td>healthy_control</td><td> TRUE</td></tr>\n",
       "\t<tr><td>11BA0000104</td><td>68368</td><td>AMANHIB</td><td>26</td><td>allopregnanolone sulfate/pregnanolone sulfate</td><td>16668.36</td><td>14.02482</td><td>0.6855495</td><td>non_case       </td><td> TRUE</td></tr>\n",
       "\t<tr><td>11BA0000104</td><td>68368</td><td>AMANHIB</td><td>26</td><td>allopregnanolone sulfate/pregnanolone sulfate</td><td>16668.36</td><td>14.02482</td><td>0.6855495</td><td>sb_case        </td><td>FALSE</td></tr>\n",
       "\t<tr><td>11BA0000201</td><td>92320</td><td>AMANHIB</td><td>35</td><td>allopregnanolone sulfate/pregnanolone sulfate</td><td>17214.47</td><td>14.07133</td><td>0.7517230</td><td>healthy_control</td><td>FALSE</td></tr>\n",
       "\t<tr><td>11BA0000201</td><td>92320</td><td>AMANHIB</td><td>35</td><td>allopregnanolone sulfate/pregnanolone sulfate</td><td>17214.47</td><td>14.07133</td><td>0.7517230</td><td>non_case       </td><td> TRUE</td></tr>\n",
       "\t<tr><td>11BA0000201</td><td>92320</td><td>AMANHIB</td><td>35</td><td>allopregnanolone sulfate/pregnanolone sulfate</td><td>17214.47</td><td>14.07133</td><td>0.7517230</td><td>sb_case        </td><td>FALSE</td></tr>\n",
       "</tbody>\n",
       "</table>\n"
      ],
      "text/latex": [
       "A tibble: 6 × 10\n",
       "\\begin{tabular}{llllllllll}\n",
       " sample\\_id & orig\\_id & site & GA\\_weeks & molecule & intensity\\_filled & intensity\\_fill\\_log & intensity\\_fill\\_log\\_scaled & category & value\\\\\n",
       " <chr> & <chr> & <chr> & <int> & <chr> & <dbl> & <dbl> & <dbl> & <chr> & <lgl>\\\\\n",
       "\\hline\n",
       "\t 11BA0000104 & 68368 & AMANHIB & 26 & allopregnanolone sulfate/pregnanolone sulfate & 16668.36 & 14.02482 & 0.6855495 & healthy\\_control &  TRUE\\\\\n",
       "\t 11BA0000104 & 68368 & AMANHIB & 26 & allopregnanolone sulfate/pregnanolone sulfate & 16668.36 & 14.02482 & 0.6855495 & non\\_case        &  TRUE\\\\\n",
       "\t 11BA0000104 & 68368 & AMANHIB & 26 & allopregnanolone sulfate/pregnanolone sulfate & 16668.36 & 14.02482 & 0.6855495 & sb\\_case         & FALSE\\\\\n",
       "\t 11BA0000201 & 92320 & AMANHIB & 35 & allopregnanolone sulfate/pregnanolone sulfate & 17214.47 & 14.07133 & 0.7517230 & healthy\\_control & FALSE\\\\\n",
       "\t 11BA0000201 & 92320 & AMANHIB & 35 & allopregnanolone sulfate/pregnanolone sulfate & 17214.47 & 14.07133 & 0.7517230 & non\\_case        &  TRUE\\\\\n",
       "\t 11BA0000201 & 92320 & AMANHIB & 35 & allopregnanolone sulfate/pregnanolone sulfate & 17214.47 & 14.07133 & 0.7517230 & sb\\_case         & FALSE\\\\\n",
       "\\end{tabular}\n"
      ],
      "text/markdown": [
       "\n",
       "A tibble: 6 × 10\n",
       "\n",
       "| sample_id &lt;chr&gt; | orig_id &lt;chr&gt; | site &lt;chr&gt; | GA_weeks &lt;int&gt; | molecule &lt;chr&gt; | intensity_filled &lt;dbl&gt; | intensity_fill_log &lt;dbl&gt; | intensity_fill_log_scaled &lt;dbl&gt; | category &lt;chr&gt; | value &lt;lgl&gt; |\n",
       "|---|---|---|---|---|---|---|---|---|---|\n",
       "| 11BA0000104 | 68368 | AMANHIB | 26 | allopregnanolone sulfate/pregnanolone sulfate | 16668.36 | 14.02482 | 0.6855495 | healthy_control |  TRUE |\n",
       "| 11BA0000104 | 68368 | AMANHIB | 26 | allopregnanolone sulfate/pregnanolone sulfate | 16668.36 | 14.02482 | 0.6855495 | non_case        |  TRUE |\n",
       "| 11BA0000104 | 68368 | AMANHIB | 26 | allopregnanolone sulfate/pregnanolone sulfate | 16668.36 | 14.02482 | 0.6855495 | sb_case         | FALSE |\n",
       "| 11BA0000201 | 92320 | AMANHIB | 35 | allopregnanolone sulfate/pregnanolone sulfate | 17214.47 | 14.07133 | 0.7517230 | healthy_control | FALSE |\n",
       "| 11BA0000201 | 92320 | AMANHIB | 35 | allopregnanolone sulfate/pregnanolone sulfate | 17214.47 | 14.07133 | 0.7517230 | non_case        |  TRUE |\n",
       "| 11BA0000201 | 92320 | AMANHIB | 35 | allopregnanolone sulfate/pregnanolone sulfate | 17214.47 | 14.07133 | 0.7517230 | sb_case         | FALSE |\n",
       "\n"
      ],
      "text/plain": [
       "  sample_id   orig_id site    GA_weeks\n",
       "1 11BA0000104 68368   AMANHIB 26      \n",
       "2 11BA0000104 68368   AMANHIB 26      \n",
       "3 11BA0000104 68368   AMANHIB 26      \n",
       "4 11BA0000201 92320   AMANHIB 35      \n",
       "5 11BA0000201 92320   AMANHIB 35      \n",
       "6 11BA0000201 92320   AMANHIB 35      \n",
       "  molecule                                      intensity_filled\n",
       "1 allopregnanolone sulfate/pregnanolone sulfate 16668.36        \n",
       "2 allopregnanolone sulfate/pregnanolone sulfate 16668.36        \n",
       "3 allopregnanolone sulfate/pregnanolone sulfate 16668.36        \n",
       "4 allopregnanolone sulfate/pregnanolone sulfate 17214.47        \n",
       "5 allopregnanolone sulfate/pregnanolone sulfate 17214.47        \n",
       "6 allopregnanolone sulfate/pregnanolone sulfate 17214.47        \n",
       "  intensity_fill_log intensity_fill_log_scaled category        value\n",
       "1 14.02482           0.6855495                 healthy_control  TRUE\n",
       "2 14.02482           0.6855495                 non_case         TRUE\n",
       "3 14.02482           0.6855495                 sb_case         FALSE\n",
       "4 14.07133           0.7517230                 healthy_control FALSE\n",
       "5 14.07133           0.7517230                 non_case         TRUE\n",
       "6 14.07133           0.7517230                 sb_case         FALSE"
      ]
     },
     "metadata": {},
     "output_type": "display_data"
    }
   ],
   "source": [
    "#library(tidyr)\n",
    "# Convert these columns to long format for easier plotting\n",
    "df_long <- df_mat %>%\n",
    "  pivot_longer(cols = c(healthy_control, non_case, sb_case), names_to = \"category\", values_to = \"value\")\n",
    "head(df_long)"
   ]
  },
  {
   "cell_type": "code",
   "execution_count": 34,
   "metadata": {
    "vscode": {
     "languageId": "r"
    }
   },
   "outputs": [
    {
     "name": "stderr",
     "output_type": "stream",
     "text": [
      "Warning message:\n",
      "\"\u001b[1m\u001b[22mThe dot-dot notation (`..count..`) was deprecated in ggplot2 3.4.0.\n",
      "\u001b[36mℹ\u001b[39m Please use `after_stat(count)` instead.\"\n"
     ]
    },
    {
     "data": {
      "image/png": "[encoded data removed]",
      "text/plain": [
       "plot without title"
      ]
     },
     "metadata": {
      "image/png": {
       "height": 420,
       "width": 420
      }
     },
     "output_type": "display_data"
    }
   ],
   "source": [
    "ggplot(data = df_long, aes(x = molecule, fill = value)) +\n",
    "  geom_bar(position = \"dodge\", stat = \"count\") +\n",
    "  geom_text(stat = \"count\", aes(label = ..count..), position = position_dodge(width = 0.9), vjust = -0.5) + \n",
    "  facet_wrap(~ category) +\n",
    "  labs(title = \"Count of True/False Values in Healthy Control, Non Case, and SB Case by Molecule\",\n",
    "       x = \"Molecule\",\n",
    "       y = \"Count\",\n",
    "       fill = \"Value\") +\n",
    "  theme(axis.text.x = element_text(angle = 90, hjust = 1)) # FOr Horizontal Labels in x axis"
   ]
  },
  {
   "cell_type": "code",
   "execution_count": 35,
   "metadata": {
    "vscode": {
     "languageId": "r"
    }
   },
   "outputs": [
    {
     "data": {
      "image/png": "[encoded data removed]",
      "text/plain": [
       "plot without title"
      ]
     },
     "metadata": {
      "image/png": {
       "height": 420,
       "width": 420
      }
     },
     "output_type": "display_data"
    }
   ],
   "source": [
    "ggplot(data = df_mat, aes(x = site , fill = site)) +\n",
    "  geom_bar(position = \"dodge\") +\n",
    "  geom_text(stat = \"count\", aes(label = ..count..), position = position_dodge(width = 0.9), vjust = -0.5) +\n",
    "  labs(title = \"Count of Site\",\n",
    "       x = \"Site\",\n",
    "       y = \"Count\",\n",
    "       fill = \"Site\")"
   ]
  },
  {
   "cell_type": "code",
   "execution_count": 36,
   "metadata": {
    "vscode": {
     "languageId": "r"
    }
   },
   "outputs": [
    {
     "data": {
      "image/png": "[encoded data removed]",
      "text/plain": [
       "plot without title"
      ]
     },
     "metadata": {
      "image/png": {
       "height": 420,
       "width": 420
      }
     },
     "output_type": "display_data"
    }
   ],
   "source": [
    "# Calculate the sum of intensity_filled for each site\n",
    "df_sum <- df_mat %>%\n",
    "  group_by(site) %>%\n",
    "  summarise(sum_intensity_filled = sum(intensity_filled, na.rm = TRUE))\n",
    "\n",
    "# Create the bar graph with data labels rounded to 0 decimal places and converted to crore\n",
    "ggplot(data = df_sum, aes(x = site, y = sum_intensity_filled, fill = site)) +\n",
    "  geom_col(position = \"dodge\") +\n",
    "  geom_text(aes(label = paste0(round(sum_intensity_filled / 10000000, 1), \" cr\")), position = position_dodge(width = 0.9), vjust = -0.5) +\n",
    "  labs(title = \"Sum of Intensity Filled by Site\",\n",
    "       x = \"Site\",\n",
    "       y = \"Sum of Intensity Filled (in crore)\") +\n",
    "  theme(axis.text.x = element_text(angle = 90, hjust = 1))"
   ]
  },
  {
   "cell_type": "markdown",
   "metadata": {},
   "source": [
    "#### DataFrame 2"
   ]
  },
  {
   "cell_type": "markdown",
   "metadata": {},
   "source": []
  },
  {
   "cell_type": "markdown",
   "metadata": {},
   "source": [
    "#### Merged Dataframe"
   ]
  },
  {
   "cell_type": "markdown",
   "metadata": {},
   "source": [
    "##### EDA"
   ]
  },
  {
   "cell_type": "code",
   "execution_count": 37,
   "metadata": {
    "vscode": {
     "languageId": "r"
    }
   },
   "outputs": [
    {
     "data": {
      "text/html": [
       "<table class=\"dataframe\">\n",
       "<caption>A tibble: 6 × 10</caption>\n",
       "<thead>\n",
       "\t<tr><th scope=col>sample_id</th><th scope=col>orig_id</th><th scope=col>site</th><th scope=col>molecule</th><th scope=col>sb_case</th><th scope=col>non_case</th><th scope=col>healthy_control</th><th scope=col>intensity_filled</th><th scope=col>intensity_fill_log</th><th scope=col>intensity_fill_log_scaled</th></tr>\n",
       "\t<tr><th scope=col>&lt;chr&gt;</th><th scope=col>&lt;chr&gt;</th><th scope=col>&lt;chr&gt;</th><th scope=col>&lt;chr&gt;</th><th scope=col>&lt;lgl&gt;</th><th scope=col>&lt;lgl&gt;</th><th scope=col>&lt;lgl&gt;</th><th scope=col>&lt;dbl&gt;</th><th scope=col>&lt;dbl&gt;</th><th scope=col>&lt;dbl&gt;</th></tr>\n",
       "</thead>\n",
       "<tbody>\n",
       "\t<tr><td>11BA0000104</td><td>68368</td><td>AMANHIB</td><td>allopregnanolone sulfate/pregnanolone sulfate</td><td>FALSE</td><td>TRUE</td><td> TRUE</td><td>16668.36</td><td>14.02482</td><td> 0.6855495</td></tr>\n",
       "\t<tr><td>11BA0000201</td><td>92320</td><td>AMANHIB</td><td>allopregnanolone sulfate/pregnanolone sulfate</td><td>FALSE</td><td>TRUE</td><td>FALSE</td><td>17214.47</td><td>14.07133</td><td> 0.7517230</td></tr>\n",
       "\t<tr><td>11BA0000305</td><td>63382</td><td>AMANHIB</td><td>allopregnanolone sulfate/pregnanolone sulfate</td><td>FALSE</td><td>TRUE</td><td>FALSE</td><td>10544.79</td><td>13.36424</td><td>-0.2543211</td></tr>\n",
       "\t<tr><td>11BA0000405</td><td>93307</td><td>AMANHIB</td><td>allopregnanolone sulfate/pregnanolone sulfate</td><td>FALSE</td><td>TRUE</td><td>FALSE</td><td> 8175.76</td><td>12.99714</td><td>-0.7766361</td></tr>\n",
       "\t<tr><td>11BA0000501</td><td>63375</td><td>AMANHIB</td><td>allopregnanolone sulfate/pregnanolone sulfate</td><td>FALSE</td><td>TRUE</td><td> TRUE</td><td>23342.64</td><td>14.51068</td><td> 1.3768210</td></tr>\n",
       "\t<tr><td>11BA0000601</td><td>70317</td><td>AMANHIB</td><td>allopregnanolone sulfate/pregnanolone sulfate</td><td>FALSE</td><td>TRUE</td><td>FALSE</td><td> 9321.83</td><td>13.18640</td><td>-0.5073579</td></tr>\n",
       "</tbody>\n",
       "</table>\n"
      ],
      "text/latex": [
       "A tibble: 6 × 10\n",
       "\\begin{tabular}{llllllllll}\n",
       " sample\\_id & orig\\_id & site & molecule & sb\\_case & non\\_case & healthy\\_control & intensity\\_filled & intensity\\_fill\\_log & intensity\\_fill\\_log\\_scaled\\\\\n",
       " <chr> & <chr> & <chr> & <chr> & <lgl> & <lgl> & <lgl> & <dbl> & <dbl> & <dbl>\\\\\n",
       "\\hline\n",
       "\t 11BA0000104 & 68368 & AMANHIB & allopregnanolone sulfate/pregnanolone sulfate & FALSE & TRUE &  TRUE & 16668.36 & 14.02482 &  0.6855495\\\\\n",
       "\t 11BA0000201 & 92320 & AMANHIB & allopregnanolone sulfate/pregnanolone sulfate & FALSE & TRUE & FALSE & 17214.47 & 14.07133 &  0.7517230\\\\\n",
       "\t 11BA0000305 & 63382 & AMANHIB & allopregnanolone sulfate/pregnanolone sulfate & FALSE & TRUE & FALSE & 10544.79 & 13.36424 & -0.2543211\\\\\n",
       "\t 11BA0000405 & 93307 & AMANHIB & allopregnanolone sulfate/pregnanolone sulfate & FALSE & TRUE & FALSE &  8175.76 & 12.99714 & -0.7766361\\\\\n",
       "\t 11BA0000501 & 63375 & AMANHIB & allopregnanolone sulfate/pregnanolone sulfate & FALSE & TRUE &  TRUE & 23342.64 & 14.51068 &  1.3768210\\\\\n",
       "\t 11BA0000601 & 70317 & AMANHIB & allopregnanolone sulfate/pregnanolone sulfate & FALSE & TRUE & FALSE &  9321.83 & 13.18640 & -0.5073579\\\\\n",
       "\\end{tabular}\n"
      ],
      "text/markdown": [
       "\n",
       "A tibble: 6 × 10\n",
       "\n",
       "| sample_id &lt;chr&gt; | orig_id &lt;chr&gt; | site &lt;chr&gt; | molecule &lt;chr&gt; | sb_case &lt;lgl&gt; | non_case &lt;lgl&gt; | healthy_control &lt;lgl&gt; | intensity_filled &lt;dbl&gt; | intensity_fill_log &lt;dbl&gt; | intensity_fill_log_scaled &lt;dbl&gt; |\n",
       "|---|---|---|---|---|---|---|---|---|---|\n",
       "| 11BA0000104 | 68368 | AMANHIB | allopregnanolone sulfate/pregnanolone sulfate | FALSE | TRUE |  TRUE | 16668.36 | 14.02482 |  0.6855495 |\n",
       "| 11BA0000201 | 92320 | AMANHIB | allopregnanolone sulfate/pregnanolone sulfate | FALSE | TRUE | FALSE | 17214.47 | 14.07133 |  0.7517230 |\n",
       "| 11BA0000305 | 63382 | AMANHIB | allopregnanolone sulfate/pregnanolone sulfate | FALSE | TRUE | FALSE | 10544.79 | 13.36424 | -0.2543211 |\n",
       "| 11BA0000405 | 93307 | AMANHIB | allopregnanolone sulfate/pregnanolone sulfate | FALSE | TRUE | FALSE |  8175.76 | 12.99714 | -0.7766361 |\n",
       "| 11BA0000501 | 63375 | AMANHIB | allopregnanolone sulfate/pregnanolone sulfate | FALSE | TRUE |  TRUE | 23342.64 | 14.51068 |  1.3768210 |\n",
       "| 11BA0000601 | 70317 | AMANHIB | allopregnanolone sulfate/pregnanolone sulfate | FALSE | TRUE | FALSE |  9321.83 | 13.18640 | -0.5073579 |\n",
       "\n"
      ],
      "text/plain": [
       "  sample_id   orig_id site    molecule                                     \n",
       "1 11BA0000104 68368   AMANHIB allopregnanolone sulfate/pregnanolone sulfate\n",
       "2 11BA0000201 92320   AMANHIB allopregnanolone sulfate/pregnanolone sulfate\n",
       "3 11BA0000305 63382   AMANHIB allopregnanolone sulfate/pregnanolone sulfate\n",
       "4 11BA0000405 93307   AMANHIB allopregnanolone sulfate/pregnanolone sulfate\n",
       "5 11BA0000501 63375   AMANHIB allopregnanolone sulfate/pregnanolone sulfate\n",
       "6 11BA0000601 70317   AMANHIB allopregnanolone sulfate/pregnanolone sulfate\n",
       "  sb_case non_case healthy_control intensity_filled intensity_fill_log\n",
       "1 FALSE   TRUE      TRUE           16668.36         14.02482          \n",
       "2 FALSE   TRUE     FALSE           17214.47         14.07133          \n",
       "3 FALSE   TRUE     FALSE           10544.79         13.36424          \n",
       "4 FALSE   TRUE     FALSE            8175.76         12.99714          \n",
       "5 FALSE   TRUE      TRUE           23342.64         14.51068          \n",
       "6 FALSE   TRUE     FALSE            9321.83         13.18640          \n",
       "  intensity_fill_log_scaled\n",
       "1  0.6855495               \n",
       "2  0.7517230               \n",
       "3 -0.2543211               \n",
       "4 -0.7766361               \n",
       "5  1.3768210               \n",
       "6 -0.5073579               "
      ]
     },
     "metadata": {},
     "output_type": "display_data"
    }
   ],
   "source": [
    "common_columns <- intersect(names(df_cord), names(df_mat))\n",
    "df_mat <- df_mat %>% select(all_of(common_columns))\n",
    "df_cord <- df_cord %>% select(all_of(common_columns))\n",
    "\n",
    "df_merged = bind_rows(df_mat, df_cord)\n",
    "head(df_merged)"
   ]
  },
  {
   "cell_type": "markdown",
   "metadata": {},
   "source": [
    "###### Dimensions"
   ]
  },
  {
   "cell_type": "code",
   "execution_count": 38,
   "metadata": {
    "vscode": {
     "languageId": "r"
    }
   },
   "outputs": [
    {
     "name": "stdout",
     "output_type": "stream",
     "text": [
      "[1] 67162    10\n"
     ]
    }
   ],
   "source": [
    "print(dim(df_merged))"
   ]
  },
  {
   "cell_type": "markdown",
   "metadata": {},
   "source": [
    "###### Column Names"
   ]
  },
  {
   "cell_type": "code",
   "execution_count": 39,
   "metadata": {
    "vscode": {
     "languageId": "r"
    }
   },
   "outputs": [
    {
     "name": "stdout",
     "output_type": "stream",
     "text": [
      "Columns Names:sample_id orig_id site molecule sb_case non_case healthy_control intensity_filled intensity_fill_log intensity_fill_log_scaled"
     ]
    }
   ],
   "source": [
    "cat(\"Columns Names:\")\n",
    "cat(names(df_merged))"
   ]
  },
  {
   "cell_type": "markdown",
   "metadata": {},
   "source": [
    "###### Unique Values"
   ]
  },
  {
   "cell_type": "code",
   "execution_count": 40,
   "metadata": {
    "vscode": {
     "languageId": "r"
    }
   },
   "outputs": [
    {
     "name": "stdout",
     "output_type": "stream",
     "text": [
      "Count of unique values: \n"
     ]
    },
    {
     "name": "stdout",
     "output_type": "stream",
     "text": [
      "sample_id \t33581\n",
      "orig_id \t14515\n",
      "site \t5\n",
      "molecule \t2\n",
      "sb_case \t2\n",
      "non_case \t2\n",
      "healthy_control \t2\n",
      "intensity_filled \t38626\n",
      "intensity_fill_log \t38626\n",
      "intensity_fill_log_scaled \t54185\n"
     ]
    }
   ],
   "source": [
    "# For loop to print count of unique values for each column\n",
    "cat(\"Count of unique values: \\n\")\n",
    "for (col_name in colnames(df_merged)) {\n",
    "  cat(col_name,\"\\t\")\n",
    "  cat(length(unique(df_merged[[col_name]])))\n",
    "  cat(\"\\n\")\n",
    "}"
   ]
  },
  {
   "cell_type": "markdown",
   "metadata": {},
   "source": [
    "###### Missing Data"
   ]
  },
  {
   "cell_type": "code",
   "execution_count": 41,
   "metadata": {
    "vscode": {
     "languageId": "r"
    }
   },
   "outputs": [
    {
     "name": "stdout",
     "output_type": "stream",
     "text": [
      "Missing data\n"
     ]
    },
    {
     "name": "stdout",
     "output_type": "stream",
     "text": [
      "\u001b[90m# A tibble: 10 × 2\u001b[39m\n",
      "   variable                  missing_count\n",
      "   \u001b[3m\u001b[90m<chr>\u001b[39m\u001b[23m                             \u001b[3m\u001b[90m<int>\u001b[39m\u001b[23m\n",
      "\u001b[90m 1\u001b[39m sample_id                             0\n",
      "\u001b[90m 2\u001b[39m orig_id                               0\n",
      "\u001b[90m 3\u001b[39m site                                  0\n",
      "\u001b[90m 4\u001b[39m molecule                              0\n",
      "\u001b[90m 5\u001b[39m sb_case                               0\n",
      "\u001b[90m 6\u001b[39m non_case                              0\n",
      "\u001b[90m 7\u001b[39m healthy_control                       0\n",
      "\u001b[90m 8\u001b[39m intensity_filled                      0\n",
      "\u001b[90m 9\u001b[39m intensity_fill_log                    0\n",
      "\u001b[90m10\u001b[39m intensity_fill_log_scaled             0\n"
     ]
    }
   ],
   "source": [
    "#library(tibble)\n",
    "\n",
    "cat(\"Missing data\\n\")\n",
    "\n",
    "missing_data <- sapply(df_merged, function(x) sum(is.na(x) | x == \"\"))\n",
    "\n",
    "# Convert to tibble for better readability\n",
    "missing_data_df <- tibble(variable = names(missing_data), missing_count = missing_data)\n",
    "\n",
    "print(missing_data_df)"
   ]
  },
  {
   "cell_type": "markdown",
   "metadata": {},
   "source": [
    "###### Summary"
   ]
  },
  {
   "cell_type": "code",
   "execution_count": 42,
   "metadata": {
    "vscode": {
     "languageId": "r"
    }
   },
   "outputs": [
    {
     "data": {
      "text/plain": [
       "  sample_id           orig_id              site             molecule        \n",
       " Length:67162       Length:67162       Length:67162       Length:67162      \n",
       " Class :character   Class :character   Class :character   Class :character  \n",
       " Mode  :character   Mode  :character   Mode  :character   Mode  :character  \n",
       "                                                                            \n",
       "                                                                            \n",
       "                                                                            \n",
       "  sb_case         non_case       healthy_control intensity_filled   \n",
       " Mode :logical   Mode :logical   Mode :logical   Min.   :    78.95  \n",
       " FALSE:66638     FALSE:612       FALSE:43208     1st Qu.:  2459.12  \n",
       " TRUE :524       TRUE :66550     TRUE :23954     Median :  9015.24  \n",
       "                                                 Mean   : 14157.93  \n",
       "                                                 3rd Qu.: 20314.14  \n",
       "                                                 Max.   :254997.00  \n",
       " intensity_fill_log intensity_fill_log_scaled\n",
       " Min.   : 6.303     Min.   :-8.30077         \n",
       " 1st Qu.:11.264     1st Qu.:-0.58571         \n",
       " Median :13.138     Median : 0.06268         \n",
       " Mean   :12.859     Mean   : 0.04414         \n",
       " 3rd Qu.:14.310     3rd Qu.: 0.67961         \n",
       " Max.   :17.960     Max.   : 6.25200         "
      ]
     },
     "metadata": {},
     "output_type": "display_data"
    }
   ],
   "source": [
    "summary(df_merged)"
   ]
  },
  {
   "cell_type": "markdown",
   "metadata": {},
   "source": [
    "##### Data Visualization"
   ]
  },
  {
   "cell_type": "markdown",
   "metadata": {},
   "source": [
    "###### Histograms"
   ]
  },
  {
   "cell_type": "code",
   "execution_count": null,
   "metadata": {
    "vscode": {
     "languageId": "r"
    }
   },
   "outputs": [
    {
     "data": {
      "image/png": "[encoded data removed]",
      "text/plain": [
       "plot without title"
      ]
     },
     "metadata": {
      "image/png": {
       "height": 420,
       "width": 420
      }
     },
     "output_type": "display_data"
    }
   ],
   "source": [
    "#library(dplyr)\n",
    "#library(patchwork)\n",
    "\n",
    "# Select numeric columns\n",
    "numeric_columns <- df_merged %>% select(where(is.numeric)) %>% names()\n",
    "\n",
    "# Create a list to store the plots\n",
    "plots <- list()\n",
    "\n",
    "# Create histograms for each numeric column\n",
    "for (col in numeric_columns) {\n",
    "  p <- ggplot(df_merged, aes(x = !!sym(col))) +\n",
    "    geom_histogram(bins = 30, fill = \"blue\", color = \"black\") +\n",
    "    labs(title = paste(\"Histogram of\", col), x = col, y = \"Frequency\")\n",
    "  plots[[col]] <- p\n",
    "}\n",
    "\n",
    "# Combine the histograms into a single display\n",
    "combined_plot <- wrap_plots(plots, ncol = 1)\n",
    "\n",
    "# Print the combined plot\n",
    "print(combined_plot)"
   ]
  },
  {
   "cell_type": "markdown",
   "metadata": {},
   "source": [
    "###### Bar Graphs"
   ]
  },
  {
   "cell_type": "code",
   "execution_count": 44,
   "metadata": {
    "vscode": {
     "languageId": "r"
    }
   },
   "outputs": [
    {
     "data": {
      "image/png": "[encoded data removed]",
      "text/plain": [
       "plot without title"
      ]
     },
     "metadata": {
      "image/png": {
       "height": 420,
       "width": 420
      }
     },
     "output_type": "display_data"
    }
   ],
   "source": [
    "# Select numeric columns\n",
    "numeric_columns <- df_merged %>% select(where(is.numeric)) %>% names()\n",
    "\n",
    "# Create a list to store the plots\n",
    "plots <- list()\n",
    "\n",
    "# Create bar plots for each numeric column by site\n",
    "for (col in numeric_columns) {\n",
    "  p <- ggplot(df_merged, aes(x = site, y = !!sym(col), fill = site)) +\n",
    "    geom_bar(stat = \"identity\", position = \"dodge\") +\n",
    "    labs(title = paste(\"Bar plot of\", col, \"by Site\"),\n",
    "         x = \"Site\",\n",
    "         y = col) +\n",
    "    theme(axis.text.x = element_text(angle = 90, hjust = 1))\n",
    "  plots[[col]] <- p\n",
    "}\n",
    "\n",
    "# Combine the plots into a single display\n",
    "combined_plot <- wrap_plots(plots, ncol = 1)\n",
    "\n",
    "# Print the combined plot\n",
    "print(combined_plot)"
   ]
  },
  {
   "cell_type": "code",
   "execution_count": 45,
   "metadata": {
    "vscode": {
     "languageId": "r"
    }
   },
   "outputs": [
    {
     "data": {
      "text/html": [
       "<table class=\"dataframe\">\n",
       "<caption>A tibble: 6 × 9</caption>\n",
       "<thead>\n",
       "\t<tr><th scope=col>sample_id</th><th scope=col>orig_id</th><th scope=col>site</th><th scope=col>molecule</th><th scope=col>intensity_filled</th><th scope=col>intensity_fill_log</th><th scope=col>intensity_fill_log_scaled</th><th scope=col>category</th><th scope=col>value</th></tr>\n",
       "\t<tr><th scope=col>&lt;chr&gt;</th><th scope=col>&lt;chr&gt;</th><th scope=col>&lt;chr&gt;</th><th scope=col>&lt;chr&gt;</th><th scope=col>&lt;dbl&gt;</th><th scope=col>&lt;dbl&gt;</th><th scope=col>&lt;dbl&gt;</th><th scope=col>&lt;chr&gt;</th><th scope=col>&lt;lgl&gt;</th></tr>\n",
       "</thead>\n",
       "<tbody>\n",
       "\t<tr><td>11BA0000104</td><td>68368</td><td>AMANHIB</td><td>allopregnanolone sulfate/pregnanolone sulfate</td><td>16668.36</td><td>14.02482</td><td>0.6855495</td><td>healthy_control</td><td> TRUE</td></tr>\n",
       "\t<tr><td>11BA0000104</td><td>68368</td><td>AMANHIB</td><td>allopregnanolone sulfate/pregnanolone sulfate</td><td>16668.36</td><td>14.02482</td><td>0.6855495</td><td>non_case       </td><td> TRUE</td></tr>\n",
       "\t<tr><td>11BA0000104</td><td>68368</td><td>AMANHIB</td><td>allopregnanolone sulfate/pregnanolone sulfate</td><td>16668.36</td><td>14.02482</td><td>0.6855495</td><td>sb_case        </td><td>FALSE</td></tr>\n",
       "\t<tr><td>11BA0000201</td><td>92320</td><td>AMANHIB</td><td>allopregnanolone sulfate/pregnanolone sulfate</td><td>17214.47</td><td>14.07133</td><td>0.7517230</td><td>healthy_control</td><td>FALSE</td></tr>\n",
       "\t<tr><td>11BA0000201</td><td>92320</td><td>AMANHIB</td><td>allopregnanolone sulfate/pregnanolone sulfate</td><td>17214.47</td><td>14.07133</td><td>0.7517230</td><td>non_case       </td><td> TRUE</td></tr>\n",
       "\t<tr><td>11BA0000201</td><td>92320</td><td>AMANHIB</td><td>allopregnanolone sulfate/pregnanolone sulfate</td><td>17214.47</td><td>14.07133</td><td>0.7517230</td><td>sb_case        </td><td>FALSE</td></tr>\n",
       "</tbody>\n",
       "</table>\n"
      ],
      "text/latex": [
       "A tibble: 6 × 9\n",
       "\\begin{tabular}{lllllllll}\n",
       " sample\\_id & orig\\_id & site & molecule & intensity\\_filled & intensity\\_fill\\_log & intensity\\_fill\\_log\\_scaled & category & value\\\\\n",
       " <chr> & <chr> & <chr> & <chr> & <dbl> & <dbl> & <dbl> & <chr> & <lgl>\\\\\n",
       "\\hline\n",
       "\t 11BA0000104 & 68368 & AMANHIB & allopregnanolone sulfate/pregnanolone sulfate & 16668.36 & 14.02482 & 0.6855495 & healthy\\_control &  TRUE\\\\\n",
       "\t 11BA0000104 & 68368 & AMANHIB & allopregnanolone sulfate/pregnanolone sulfate & 16668.36 & 14.02482 & 0.6855495 & non\\_case        &  TRUE\\\\\n",
       "\t 11BA0000104 & 68368 & AMANHIB & allopregnanolone sulfate/pregnanolone sulfate & 16668.36 & 14.02482 & 0.6855495 & sb\\_case         & FALSE\\\\\n",
       "\t 11BA0000201 & 92320 & AMANHIB & allopregnanolone sulfate/pregnanolone sulfate & 17214.47 & 14.07133 & 0.7517230 & healthy\\_control & FALSE\\\\\n",
       "\t 11BA0000201 & 92320 & AMANHIB & allopregnanolone sulfate/pregnanolone sulfate & 17214.47 & 14.07133 & 0.7517230 & non\\_case        &  TRUE\\\\\n",
       "\t 11BA0000201 & 92320 & AMANHIB & allopregnanolone sulfate/pregnanolone sulfate & 17214.47 & 14.07133 & 0.7517230 & sb\\_case         & FALSE\\\\\n",
       "\\end{tabular}\n"
      ],
      "text/markdown": [
       "\n",
       "A tibble: 6 × 9\n",
       "\n",
       "| sample_id &lt;chr&gt; | orig_id &lt;chr&gt; | site &lt;chr&gt; | molecule &lt;chr&gt; | intensity_filled &lt;dbl&gt; | intensity_fill_log &lt;dbl&gt; | intensity_fill_log_scaled &lt;dbl&gt; | category &lt;chr&gt; | value &lt;lgl&gt; |\n",
       "|---|---|---|---|---|---|---|---|---|\n",
       "| 11BA0000104 | 68368 | AMANHIB | allopregnanolone sulfate/pregnanolone sulfate | 16668.36 | 14.02482 | 0.6855495 | healthy_control |  TRUE |\n",
       "| 11BA0000104 | 68368 | AMANHIB | allopregnanolone sulfate/pregnanolone sulfate | 16668.36 | 14.02482 | 0.6855495 | non_case        |  TRUE |\n",
       "| 11BA0000104 | 68368 | AMANHIB | allopregnanolone sulfate/pregnanolone sulfate | 16668.36 | 14.02482 | 0.6855495 | sb_case         | FALSE |\n",
       "| 11BA0000201 | 92320 | AMANHIB | allopregnanolone sulfate/pregnanolone sulfate | 17214.47 | 14.07133 | 0.7517230 | healthy_control | FALSE |\n",
       "| 11BA0000201 | 92320 | AMANHIB | allopregnanolone sulfate/pregnanolone sulfate | 17214.47 | 14.07133 | 0.7517230 | non_case        |  TRUE |\n",
       "| 11BA0000201 | 92320 | AMANHIB | allopregnanolone sulfate/pregnanolone sulfate | 17214.47 | 14.07133 | 0.7517230 | sb_case         | FALSE |\n",
       "\n"
      ],
      "text/plain": [
       "  sample_id   orig_id site    molecule                                     \n",
       "1 11BA0000104 68368   AMANHIB allopregnanolone sulfate/pregnanolone sulfate\n",
       "2 11BA0000104 68368   AMANHIB allopregnanolone sulfate/pregnanolone sulfate\n",
       "3 11BA0000104 68368   AMANHIB allopregnanolone sulfate/pregnanolone sulfate\n",
       "4 11BA0000201 92320   AMANHIB allopregnanolone sulfate/pregnanolone sulfate\n",
       "5 11BA0000201 92320   AMANHIB allopregnanolone sulfate/pregnanolone sulfate\n",
       "6 11BA0000201 92320   AMANHIB allopregnanolone sulfate/pregnanolone sulfate\n",
       "  intensity_filled intensity_fill_log intensity_fill_log_scaled category       \n",
       "1 16668.36         14.02482           0.6855495                 healthy_control\n",
       "2 16668.36         14.02482           0.6855495                 non_case       \n",
       "3 16668.36         14.02482           0.6855495                 sb_case        \n",
       "4 17214.47         14.07133           0.7517230                 healthy_control\n",
       "5 17214.47         14.07133           0.7517230                 non_case       \n",
       "6 17214.47         14.07133           0.7517230                 sb_case        \n",
       "  value\n",
       "1  TRUE\n",
       "2  TRUE\n",
       "3 FALSE\n",
       "4 FALSE\n",
       "5  TRUE\n",
       "6 FALSE"
      ]
     },
     "metadata": {},
     "output_type": "display_data"
    },
    {
     "data": {
      "image/png": "[encoded data removed]",
      "text/plain": [
       "plot without title"
      ]
     },
     "metadata": {
      "image/png": {
       "height": 420,
       "width": 420
      }
     },
     "output_type": "display_data"
    }
   ],
   "source": [
    "#Convert to long data for graphs\n",
    "df_long <- df_merged %>%\n",
    "  pivot_longer(cols = c(healthy_control, non_case, sb_case), names_to = \"category\", values_to = \"value\")\n",
    "head(df_long)\n",
    "\n",
    "ggplot(data = df_long, aes(x = molecule, fill = value)) +\n",
    "  geom_bar(position = \"dodge\", stat = \"count\") +\n",
    "  geom_text(stat = \"count\", aes(label = ..count..), position = position_dodge(width = 0.9), vjust = -0.5) + \n",
    "  facet_wrap(~ category) +\n",
    "  labs(title = \"Count of True/False Values in Healthy Control, Non Case, and SB Case by Molecule\",\n",
    "       x = \"Molecule\",\n",
    "       y = \"Count\",\n",
    "       fill = \"Value\") +\n",
    "  theme(axis.text.x = element_text(angle = 90, hjust = 1)) # FOr Horizontal Labels in x axis"
   ]
  },
  {
   "cell_type": "markdown",
   "metadata": {},
   "source": [
    "###### Box Plots"
   ]
  },
  {
   "cell_type": "code",
   "execution_count": 46,
   "metadata": {
    "vscode": {
     "languageId": "r"
    }
   },
   "outputs": [
    {
     "name": "stdout",
     "output_type": "stream",
     "text": [
      "Box plot of: "
     ]
    },
    {
     "data": {
      "image/png": "[encoded data removed]",
      "text/plain": [
       "plot without title"
      ]
     },
     "metadata": {
      "image/png": {
       "height": 420,
       "width": 420
      }
     },
     "output_type": "display_data"
    }
   ],
   "source": [
    "#library(ggplot2)\n",
    "#library(dplyr)\n",
    "library(patchwork)\n",
    "\n",
    "# Plot box plots for each numeric column\n",
    "numeric_columns <- df_merged %>% select(where(is.numeric)) %>% names()\n",
    "\n",
    "# Create a list to store the plots\n",
    "plots <- list()\n",
    "cat(\"Box plot of: \")\n",
    "for (col in numeric_columns) {\n",
    "  p <- ggplot(df_merged, aes(y = !!sym(col))) +\n",
    "    geom_boxplot() +\n",
    "    labs(title = paste(col),\n",
    "         y = col) +\n",
    "    theme(axis.text.x = element_blank())\n",
    "  plots[[col]] <- p\n",
    "}\n",
    "\n",
    "# Combine the plots side by side\n",
    "combined_plot <- wrap_plots(plots, ncol = length(plots))\n",
    "\n",
    "# Print the combined plot\n",
    "print(combined_plot)"
   ]
  },
  {
   "cell_type": "code",
   "execution_count": 47,
   "metadata": {
    "vscode": {
     "languageId": "r"
    }
   },
   "outputs": [
    {
     "data": {
      "image/png": "[encoded data removed]",
      "text/plain": [
       "plot without title"
      ]
     },
     "metadata": {
      "image/png": {
       "height": 420,
       "width": 420
      }
     },
     "output_type": "display_data"
    },
    {
     "data": {
      "image/png": "[encoded data removed]",
      "text/plain": [
       "plot without title"
      ]
     },
     "metadata": {
      "image/png": {
       "height": 420,
       "width": 420
      }
     },
     "output_type": "display_data"
    },
    {
     "data": {
      "image/png": "[encoded data removed]",
      "text/plain": [
       "plot without title"
      ]
     },
     "metadata": {
      "image/png": {
       "height": 420,
       "width": 420
      }
     },
     "output_type": "display_data"
    }
   ],
   "source": [
    "numeric_columns <- df_merged %>% select(where(is.numeric)) %>% names()\n",
    "\n",
    "for (col in numeric_columns) {\n",
    "  p <- ggplot(df_merged, aes(x = site, y = !!sym(col))) +\n",
    "    geom_boxplot() +\n",
    "    labs(title = paste(\"Box plot of\", col, \"by Site\"),\n",
    "         x = \"Site\",\n",
    "         y = col) +\n",
    "    theme(axis.text.x = element_text(angle = 90, hjust = 1))\n",
    "  print(p)\n",
    "}"
   ]
  },
  {
   "cell_type": "code",
   "execution_count": null,
   "metadata": {
    "vscode": {
     "languageId": "r"
    }
   },
   "outputs": [],
   "source": []
  }
 ],
 "metadata": {
  "kernelspec": {
   "display_name": "R",
   "language": "R",
   "name": "ir"
  },
  "language_info": {
   "codemirror_mode": "r",
   "file_extension": ".r",
   "mimetype": "text/x-r-source",
   "name": "R",
   "pygments_lexer": "r",
   "version": "4.4.3"
  }
 },
 "nbformat": 4,
 "nbformat_minor": 2
}
